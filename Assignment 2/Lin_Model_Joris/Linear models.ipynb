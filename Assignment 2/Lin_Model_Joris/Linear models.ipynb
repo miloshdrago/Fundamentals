{
 "cells": [
  {
   "cell_type": "markdown",
   "metadata": {},
   "source": [
    "# Linear Model Testing & Evaluation"
   ]
  },
  {
   "cell_type": "code",
   "execution_count": 30,
   "metadata": {},
   "outputs": [],
   "source": [
    "# Dependencies\n",
    "import pandas as pd\n",
    "from sklearn.feature_selection import VarianceThreshold\n",
    "from sklearn import preprocessing\n",
    "import matplotlib.pyplot as plt\n",
    "from sklearn.linear_model import LinearRegression, Lasso\n",
    "from sklearn.svm import SVR\n",
    "from sklearn.metrics import mean_squared_error, r2_score\n",
    "from sklearn.model_selection import train_test_split, cross_val_score, GridSearchCV\n",
    "import numpy as np\n",
    "from mlxtend.feature_selection import SequentialFeatureSelector as SFS\n",
    "from mlxtend.plotting import plot_sequential_feature_selection as plot_sfs\n",
    "import math\n",
    "import seaborn as sns\n",
    "import pickle"
   ]
  },
  {
   "cell_type": "code",
   "execution_count": 12,
   "metadata": {},
   "outputs": [],
   "source": [
    "# Location files\n",
    "features_loc = \"../dataset/train_feat_cleaned.pickle\"\n",
    "target_loc = \"../dataset/train_target_cleaned.pickle\""
   ]
  },
  {
   "cell_type": "code",
   "execution_count": 13,
   "metadata": {},
   "outputs": [],
   "source": [
    "features_df = pd.read_pickle(features_loc)\n",
    "target_df = pd.read_pickle(target_loc)"
   ]
  },
  {
   "cell_type": "code",
   "execution_count": 14,
   "metadata": {},
   "outputs": [
    {
     "data": {
      "text/html": [
       "<div>\n",
       "<style scoped>\n",
       "    .dataframe tbody tr th:only-of-type {\n",
       "        vertical-align: middle;\n",
       "    }\n",
       "\n",
       "    .dataframe tbody tr th {\n",
       "        vertical-align: top;\n",
       "    }\n",
       "\n",
       "    .dataframe thead th {\n",
       "        text-align: right;\n",
       "    }\n",
       "</style>\n",
       "<table border=\"1\" class=\"dataframe\">\n",
       "  <thead>\n",
       "    <tr style=\"text-align: right;\">\n",
       "      <th></th>\n",
       "      <th>id</th>\n",
       "      <th>gender</th>\n",
       "      <th>born</th>\n",
       "      <th>education</th>\n",
       "      <th>employed</th>\n",
       "      <th>income</th>\n",
       "      <th>A_2</th>\n",
       "      <th>N_1</th>\n",
       "      <th>P_1</th>\n",
       "      <th>E_1</th>\n",
       "      <th>...</th>\n",
       "      <th>P</th>\n",
       "      <th>E</th>\n",
       "      <th>R</th>\n",
       "      <th>M</th>\n",
       "      <th>A</th>\n",
       "      <th>PERMA</th>\n",
       "      <th>N_EMO</th>\n",
       "      <th>P_EMO</th>\n",
       "      <th>imagecount</th>\n",
       "      <th>private_account</th>\n",
       "    </tr>\n",
       "  </thead>\n",
       "  <tbody>\n",
       "  </tbody>\n",
       "</table>\n",
       "<p>0 rows × 45 columns</p>\n",
       "</div>"
      ],
      "text/plain": [
       "Empty DataFrame\n",
       "Columns: [id, gender, born, education, employed, income, A_2, N_1, P_1, E_1, A_1, H_1, M_1, R_1, M_2, E_2, LON, H_2, P_2, N_2, A_3, N_3, E_3, H_3, R_2, M_3, R_3, P_3, HAP, participate, insta_user_id, completed, start_q, end_q, network_id, P, E, R, M, A, PERMA, N_EMO, P_EMO, imagecount, private_account]\n",
       "Index: []\n",
       "\n",
       "[0 rows x 45 columns]"
      ]
     },
     "execution_count": 14,
     "metadata": {},
     "output_type": "execute_result"
    }
   ],
   "source": [
    "target_df[target_df[\"PERMA\"].isna()]"
   ]
  },
  {
   "cell_type": "code",
   "execution_count": 15,
   "metadata": {},
   "outputs": [
    {
     "data": {
      "text/plain": [
       "Index(['id', 'gender', 'born', 'education', 'employed', 'income', 'A_2', 'N_1',\n",
       "       'P_1', 'E_1', 'A_1', 'H_1', 'M_1', 'R_1', 'M_2', 'E_2', 'LON', 'H_2',\n",
       "       'P_2', 'N_2', 'A_3', 'N_3', 'E_3', 'H_3', 'R_2', 'M_3', 'R_3', 'P_3',\n",
       "       'HAP', 'participate', 'insta_user_id', 'completed', 'start_q', 'end_q',\n",
       "       'network_id', 'P', 'E', 'R', 'M', 'A', 'PERMA', 'N_EMO', 'P_EMO',\n",
       "       'imagecount', 'private_account'],\n",
       "      dtype='object')"
      ]
     },
     "execution_count": 15,
     "metadata": {},
     "output_type": "execute_result"
    }
   ],
   "source": [
    "target_df.columns"
   ]
  },
  {
   "cell_type": "code",
   "execution_count": 16,
   "metadata": {},
   "outputs": [
    {
     "name": "stdout",
     "output_type": "stream",
     "text": [
      "['A_1', 'A_2', 'A_3', 'E_1', 'E_2', 'E_3', 'HAP', 'M_1', 'M_2', 'M_3', 'P_1', 'P_2', 'P_3', 'R_1', 'R_2', 'R_3']\n"
     ]
    }
   ],
   "source": [
    "# Create vector for columns of questions\n",
    "questions = list(target_df.columns[6:29])\n",
    "questions.remove('LON')\n",
    "questions = [q for q in questions if q not in ('LON', 'N_1', 'N_2', 'N_3','H_1', 'H_2', 'H_3')]\n",
    "questions.sort()\n",
    "print(questions)"
   ]
  },
  {
   "cell_type": "code",
   "execution_count": 17,
   "metadata": {},
   "outputs": [
    {
     "data": {
      "text/plain": [
       "1.0"
      ]
     },
     "execution_count": 17,
     "metadata": {},
     "output_type": "execute_result"
    }
   ],
   "source": [
    "# Check if all individual questions aa up to the PERMA score\n",
    "(target_df[questions].mean(axis = 1) == target_df[\"PERMA\"]).mean()"
   ]
  },
  {
   "cell_type": "code",
   "execution_count": 18,
   "metadata": {},
   "outputs": [
    {
     "name": "stdout",
     "output_type": "stream",
     "text": [
      "0 0\n"
     ]
    }
   ],
   "source": [
    "# Check missing values\n",
    "print(features_df.isnull().sum().sum(), \n",
    "      target_df.isnull().sum().sum())"
   ]
  },
  {
   "cell_type": "code",
   "execution_count": 19,
   "metadata": {},
   "outputs": [
    {
     "name": "stdout",
     "output_type": "stream",
     "text": [
      "R^2: -10.927265437882015\n",
      "Root Mean Squared Error: 5.2467510252009815\n"
     ]
    }
   ],
   "source": [
    "# Basic linear model with all features\n",
    "\n",
    "# Create training and test sets\n",
    "X_train, X_test, y_train, y_test = train_test_split(features_df, target_df[\"PERMA\"], test_size = 0.20, random_state=10)\n",
    "\n",
    "# Create the regressor: reg_all\n",
    "reg_all = LinearRegression()\n",
    "\n",
    "# Fit the regressor to the training data\n",
    "reg_all.fit(X_train, y_train)\n",
    "\n",
    "# Predict on the test data: y_pred\n",
    "y_pred = reg_all.predict(X_test)\n",
    "\n",
    "# Compute and print R^2 and RMSE\n",
    "print(\"R^2: {}\".format(reg_all.score(X_test, y_test)))\n",
    "rmse = np.sqrt(mean_squared_error(y_test, y_pred))\n",
    "print(\"Root Mean Squared Error: {}\".format(rmse))\n"
   ]
  },
  {
   "cell_type": "markdown",
   "metadata": {},
   "source": [
    "Full model gets a negative r^2, so reaaly bad."
   ]
  },
  {
   "cell_type": "code",
   "execution_count": 20,
   "metadata": {},
   "outputs": [
    {
     "name": "stdout",
     "output_type": "stream",
     "text": [
      "[-2.76076007e-01 -2.36915666e-01 -2.93657569e-01 -5.26735819e-01\n",
      " -3.08564641e+02]\n",
      "Average 5-Fold CV Score: -61.979605236923234\n"
     ]
    }
   ],
   "source": [
    "# Try a number of times using Cross validation\n",
    "# Not for report\n",
    "\n",
    "# Create a linear regression object: reg\n",
    "reg = LinearRegression()\n",
    "\n",
    "# Compute 5-fold cross-validation scores: cv_scores\n",
    "cv_scores = cross_val_score(reg, features_df, target_df[\"PERMA\"], cv = 5)\n",
    "\n",
    "# Print the 5-fold cross-validation scores\n",
    "print(cv_scores)\n",
    "\n",
    "print(\"Average 5-Fold CV Score: {}\".format(np.mean(cv_scores)))\n"
   ]
  },
  {
   "cell_type": "code",
   "execution_count": 21,
   "metadata": {},
   "outputs": [
    {
     "name": "stdout",
     "output_type": "stream",
     "text": [
      "Tuned Logistic Regression Parameters: {'alpha': 0.06999999999999999}\n",
      "Best score is -0.07493866113553516\n"
     ]
    },
    {
     "name": "stderr",
     "output_type": "stream",
     "text": [
      "/Users/Joris/anaconda3/lib/python3.7/site-packages/sklearn/model_selection/_search.py:814: DeprecationWarning: The default of the `iid` parameter will change from True to False in version 0.22 and will be removed in 0.24. This will change numeric results when test-set sizes are unequal.\n",
      "  DeprecationWarning)\n"
     ]
    }
   ],
   "source": [
    "# Trying a Lasso Regression\n",
    "X = features_df\n",
    "y = target_df[\"PERMA\"]\n",
    "\n",
    "a_space = np.linspace(0.01, 1, 100)\n",
    "param_grid = {'alpha': a_space}\n",
    "# Instantiate a lasso regressor: lasso\n",
    "lasso = Lasso()\n",
    "\n",
    "# Instantiate the GridSearchCV object: logreg_cv\n",
    "lasso_cv = GridSearchCV(lasso, param_grid, cv=10)\n",
    "\n",
    "# Fit the regressor to the data\n",
    "lasso_cv.fit(X, y)\n",
    "\n",
    "# Print the tuned parameters and score\n",
    "print(\"Tuned Logistic Regression Parameters: {}\".format(lasso_cv.best_params_)) \n",
    "print(\"Best score is {}\".format(lasso_cv.best_score_))\n"
   ]
  },
  {
   "cell_type": "code",
   "execution_count": 22,
   "metadata": {},
   "outputs": [],
   "source": [
    "# Use MLXtend package to automaticly do forward feature selection\n",
    "\n",
    "X = features_df\n",
    "y = target_df[\"PERMA\"]\n",
    "\n",
    "lr = LinearRegression()\n",
    "\n",
    "sfs = SFS(lr, \n",
    "          k_features=\"best\", \n",
    "          forward=True, \n",
    "          floating=False, \n",
    "          scoring='r2',\n",
    "          cv=10)\n",
    "\n",
    "sfs = sfs.fit(X, y)"
   ]
  },
  {
   "cell_type": "code",
   "execution_count": 40,
   "metadata": {},
   "outputs": [
    {
     "data": {
      "image/png": "[encoded data removed]",
      "text/plain": [
       "<Figure size 576x432 with 1 Axes>"
      ]
     },
     "metadata": {
      "needs_background": "light"
     },
     "output_type": "display_data"
    }
   ],
   "source": [
    "fig = plot_sfs(sfs.get_metric_dict(), kind='ci', figsize= (8,6))\n",
    "plt.ylim(-1,1)\n",
    "plt.title('Sequential Forward Feature Selection for\\n standard aggregation Linear Regression (w. CI)')\n",
    "plt.ylabel(\"Performance (R^2)\")\n",
    "plt.grid()\n",
    "# plt.show()\n",
    "plt.savefig(\"../images/LR_Forward_Selection.png\")"
   ]
  },
  {
   "cell_type": "code",
   "execution_count": 24,
   "metadata": {
    "scrolled": false
   },
   "outputs": [
    {
     "name": "stdout",
     "output_type": "stream",
     "text": [
      "Amount chosen\n",
      "10\n",
      "CV score:\n",
      "0.1581231475884441\n",
      "Best features:\n",
      "data_memorability\n",
      "face_emotion_CALM\n",
      "face_emotion_CONFUSED\n",
      "face_emotion_SURPRISED\n",
      "male\n",
      "emotion_label_acceptance\n",
      "emotion_label_rage\n",
      "emotion_label_sadness\n",
      "emotion_label_serenity\n",
      "emotion_label_terror\n"
     ]
    },
    {
     "data": {
      "text/html": [
       "<div>\n",
       "<style scoped>\n",
       "    .dataframe tbody tr th:only-of-type {\n",
       "        vertical-align: middle;\n",
       "    }\n",
       "\n",
       "    .dataframe tbody tr th {\n",
       "        vertical-align: top;\n",
       "    }\n",
       "\n",
       "    .dataframe thead th {\n",
       "        text-align: right;\n",
       "    }\n",
       "</style>\n",
       "<table border=\"1\" class=\"dataframe\">\n",
       "  <thead>\n",
       "    <tr style=\"text-align: right;\">\n",
       "      <th></th>\n",
       "      <th>feature_idx</th>\n",
       "      <th>cv_scores</th>\n",
       "      <th>avg_score</th>\n",
       "      <th>feature_names</th>\n",
       "      <th>ci_bound</th>\n",
       "      <th>std_dev</th>\n",
       "      <th>std_err</th>\n",
       "    </tr>\n",
       "  </thead>\n",
       "  <tbody>\n",
       "    <tr>\n",
       "      <td>1</td>\n",
       "      <td>(36,)</td>\n",
       "      <td>[0.04627949378560514, 0.0352261223865199, -0.0...</td>\n",
       "      <td>-0.0166715</td>\n",
       "      <td>(emotion_label_rage,)</td>\n",
       "      <td>0.0655482</td>\n",
       "      <td>0.088255</td>\n",
       "      <td>0.0294183</td>\n",
       "    </tr>\n",
       "    <tr>\n",
       "      <td>2</td>\n",
       "      <td>(11, 36)</td>\n",
       "      <td>[0.07908154341884432, 0.11079008038824945, -0....</td>\n",
       "      <td>0.0157638</td>\n",
       "      <td>(face_emotion_SURPRISED, emotion_label_rage)</td>\n",
       "      <td>0.0945456</td>\n",
       "      <td>0.127298</td>\n",
       "      <td>0.0424325</td>\n",
       "    </tr>\n",
       "    <tr>\n",
       "      <td>3</td>\n",
       "      <td>(11, 36, 40)</td>\n",
       "      <td>[0.09509738404547985, 0.2223989001453004, -0.0...</td>\n",
       "      <td>0.0302235</td>\n",
       "      <td>(face_emotion_SURPRISED, emotion_label_rage, e...</td>\n",
       "      <td>0.107546</td>\n",
       "      <td>0.144801</td>\n",
       "      <td>0.0482671</td>\n",
       "    </tr>\n",
       "    <tr>\n",
       "      <td>4</td>\n",
       "      <td>(11, 19, 36, 40)</td>\n",
       "      <td>[0.12592660614954498, 0.17691707160892078, -0....</td>\n",
       "      <td>0.0523776</td>\n",
       "      <td>(face_emotion_SURPRISED, emotion_label_accepta...</td>\n",
       "      <td>0.133623</td>\n",
       "      <td>0.179912</td>\n",
       "      <td>0.0599707</td>\n",
       "    </tr>\n",
       "    <tr>\n",
       "      <td>5</td>\n",
       "      <td>(7, 11, 19, 36, 40)</td>\n",
       "      <td>[0.1486791368399274, 0.30251349786932913, -0.0...</td>\n",
       "      <td>0.0730996</td>\n",
       "      <td>(face_emotion_CALM, face_emotion_SURPRISED, em...</td>\n",
       "      <td>0.142449</td>\n",
       "      <td>0.191796</td>\n",
       "      <td>0.0639318</td>\n",
       "    </tr>\n",
       "    <tr>\n",
       "      <td>6</td>\n",
       "      <td>(7, 11, 19, 36, 37, 40)</td>\n",
       "      <td>[0.16153635506099873, 0.2979850668171721, 0.04...</td>\n",
       "      <td>0.0925751</td>\n",
       "      <td>(face_emotion_CALM, face_emotion_SURPRISED, em...</td>\n",
       "      <td>0.143368</td>\n",
       "      <td>0.193033</td>\n",
       "      <td>0.0643444</td>\n",
       "    </tr>\n",
       "    <tr>\n",
       "      <td>7</td>\n",
       "      <td>(1, 7, 11, 19, 36, 37, 40)</td>\n",
       "      <td>[0.18547278864007988, 0.32409506795254595, 0.0...</td>\n",
       "      <td>0.120282</td>\n",
       "      <td>(data_memorability, face_emotion_CALM, face_em...</td>\n",
       "      <td>0.127436</td>\n",
       "      <td>0.171582</td>\n",
       "      <td>0.0571941</td>\n",
       "    </tr>\n",
       "    <tr>\n",
       "      <td>8</td>\n",
       "      <td>(1, 7, 11, 15, 19, 36, 37, 40)</td>\n",
       "      <td>[0.14705972515845245, 0.44013728487215786, 0.0...</td>\n",
       "      <td>0.137124</td>\n",
       "      <td>(data_memorability, face_emotion_CALM, face_em...</td>\n",
       "      <td>0.123562</td>\n",
       "      <td>0.166365</td>\n",
       "      <td>0.0554551</td>\n",
       "    </tr>\n",
       "    <tr>\n",
       "      <td>9</td>\n",
       "      <td>(1, 7, 11, 15, 19, 36, 37, 38, 40)</td>\n",
       "      <td>[0.17988317769277373, 0.45450270019345007, 0.0...</td>\n",
       "      <td>0.155582</td>\n",
       "      <td>(data_memorability, face_emotion_CALM, face_em...</td>\n",
       "      <td>0.117852</td>\n",
       "      <td>0.158677</td>\n",
       "      <td>0.0528925</td>\n",
       "    </tr>\n",
       "    <tr>\n",
       "      <td>10</td>\n",
       "      <td>(1, 7, 8, 11, 15, 19, 36, 37, 38, 40)</td>\n",
       "      <td>[0.19296597369141577, 0.4806698646131242, 0.10...</td>\n",
       "      <td>0.158123</td>\n",
       "      <td>(data_memorability, face_emotion_CALM, face_em...</td>\n",
       "      <td>0.117669</td>\n",
       "      <td>0.158432</td>\n",
       "      <td>0.0528106</td>\n",
       "    </tr>\n",
       "    <tr>\n",
       "      <td>11</td>\n",
       "      <td>(1, 7, 8, 11, 14, 15, 19, 36, 37, 38, 40)</td>\n",
       "      <td>[0.19827665779961323, 0.4653324712553395, 0.07...</td>\n",
       "      <td>0.154671</td>\n",
       "      <td>(data_memorability, face_emotion_CALM, face_em...</td>\n",
       "      <td>0.113155</td>\n",
       "      <td>0.152354</td>\n",
       "      <td>0.0507847</td>\n",
       "    </tr>\n",
       "    <tr>\n",
       "      <td>12</td>\n",
       "      <td>(1, 7, 8, 11, 14, 15, 19, 31, 36, 37, 38, 40)</td>\n",
       "      <td>[0.21707741767561384, 0.4686608879182116, 0.04...</td>\n",
       "      <td>0.154675</td>\n",
       "      <td>(data_memorability, face_emotion_CALM, face_em...</td>\n",
       "      <td>0.116947</td>\n",
       "      <td>0.15746</td>\n",
       "      <td>0.0524865</td>\n",
       "    </tr>\n",
       "    <tr>\n",
       "      <td>13</td>\n",
       "      <td>(1, 7, 8, 11, 14, 15, 19, 31, 35, 36, 37, 38, 40)</td>\n",
       "      <td>[0.14527953741326094, 0.4858905954996182, 0.06...</td>\n",
       "      <td>0.157774</td>\n",
       "      <td>(data_memorability, face_emotion_CALM, face_em...</td>\n",
       "      <td>0.114247</td>\n",
       "      <td>0.153823</td>\n",
       "      <td>0.0512745</td>\n",
       "    </tr>\n",
       "    <tr>\n",
       "      <td>14</td>\n",
       "      <td>(1, 7, 8, 11, 14, 15, 19, 26, 31, 35, 36, 37, ...</td>\n",
       "      <td>[0.14553060743446367, 0.47401102081867363, 0.0...</td>\n",
       "      <td>0.155553</td>\n",
       "      <td>(data_memorability, face_emotion_CALM, face_em...</td>\n",
       "      <td>0.112249</td>\n",
       "      <td>0.151134</td>\n",
       "      <td>0.0503779</td>\n",
       "    </tr>\n",
       "    <tr>\n",
       "      <td>15</td>\n",
       "      <td>(0, 1, 7, 8, 11, 14, 15, 19, 26, 31, 35, 36, 3...</td>\n",
       "      <td>[0.14584020279853693, 0.4940405945561196, 0.02...</td>\n",
       "      <td>0.155006</td>\n",
       "      <td>(image_width, data_memorability, face_emotion_...</td>\n",
       "      <td>0.120383</td>\n",
       "      <td>0.162086</td>\n",
       "      <td>0.0540285</td>\n",
       "    </tr>\n",
       "    <tr>\n",
       "      <td>16</td>\n",
       "      <td>(0, 1, 7, 8, 10, 11, 14, 15, 19, 26, 31, 35, 3...</td>\n",
       "      <td>[0.15537750554893626, 0.3723904878964488, 0.06...</td>\n",
       "      <td>0.150266</td>\n",
       "      <td>(image_width, data_memorability, face_emotion_...</td>\n",
       "      <td>0.095006</td>\n",
       "      <td>0.127917</td>\n",
       "      <td>0.0426392</td>\n",
       "    </tr>\n",
       "    <tr>\n",
       "      <td>17</td>\n",
       "      <td>(0, 1, 7, 8, 10, 11, 12, 14, 15, 19, 26, 31, 3...</td>\n",
       "      <td>[0.15522557101050383, 0.3324694606573235, 0.05...</td>\n",
       "      <td>0.143937</td>\n",
       "      <td>(image_width, data_memorability, face_emotion_...</td>\n",
       "      <td>0.0900682</td>\n",
       "      <td>0.121269</td>\n",
       "      <td>0.0404231</td>\n",
       "    </tr>\n",
       "    <tr>\n",
       "      <td>18</td>\n",
       "      <td>(0, 1, 6, 7, 8, 10, 11, 12, 14, 15, 19, 26, 31...</td>\n",
       "      <td>[0.1343596798976361, 0.32770090733105073, 0.05...</td>\n",
       "      <td>0.13654</td>\n",
       "      <td>(image_width, data_memorability, face_emotion_...</td>\n",
       "      <td>0.0904364</td>\n",
       "      <td>0.121765</td>\n",
       "      <td>0.0405883</td>\n",
       "    </tr>\n",
       "    <tr>\n",
       "      <td>19</td>\n",
       "      <td>(0, 1, 6, 7, 8, 10, 11, 12, 14, 15, 17, 19, 26...</td>\n",
       "      <td>[0.14847793910437468, 0.3481635198689693, 0.09...</td>\n",
       "      <td>0.129009</td>\n",
       "      <td>(image_width, data_memorability, face_emotion_...</td>\n",
       "      <td>0.0908129</td>\n",
       "      <td>0.122272</td>\n",
       "      <td>0.0407573</td>\n",
       "    </tr>\n",
       "    <tr>\n",
       "      <td>20</td>\n",
       "      <td>(0, 1, 6, 7, 8, 10, 11, 12, 14, 15, 17, 19, 26...</td>\n",
       "      <td>[0.15208095512633313, 0.3506591096563981, 0.09...</td>\n",
       "      <td>0.119883</td>\n",
       "      <td>(image_width, data_memorability, face_emotion_...</td>\n",
       "      <td>0.0922807</td>\n",
       "      <td>0.124248</td>\n",
       "      <td>0.0414161</td>\n",
       "    </tr>\n",
       "    <tr>\n",
       "      <td>21</td>\n",
       "      <td>(0, 1, 6, 7, 8, 10, 11, 12, 14, 15, 16, 17, 19...</td>\n",
       "      <td>[0.15221585149790495, 0.3513431027108703, 0.07...</td>\n",
       "      <td>0.108027</td>\n",
       "      <td>(image_width, data_memorability, face_emotion_...</td>\n",
       "      <td>0.0882974</td>\n",
       "      <td>0.118885</td>\n",
       "      <td>0.0396283</td>\n",
       "    </tr>\n",
       "    <tr>\n",
       "      <td>22</td>\n",
       "      <td>(0, 1, 6, 7, 8, 10, 11, 12, 14, 15, 16, 17, 19...</td>\n",
       "      <td>[0.1396974197095563, 0.3465901040073749, 0.066...</td>\n",
       "      <td>0.0948681</td>\n",
       "      <td>(image_width, data_memorability, face_emotion_...</td>\n",
       "      <td>0.0960056</td>\n",
       "      <td>0.129263</td>\n",
       "      <td>0.0430878</td>\n",
       "    </tr>\n",
       "    <tr>\n",
       "      <td>23</td>\n",
       "      <td>(0, 1, 6, 7, 8, 10, 11, 12, 14, 15, 16, 17, 18...</td>\n",
       "      <td>[0.13269174195929934, 0.3613849546445772, 0.07...</td>\n",
       "      <td>0.0801387</td>\n",
       "      <td>(image_width, data_memorability, face_emotion_...</td>\n",
       "      <td>0.107543</td>\n",
       "      <td>0.144798</td>\n",
       "      <td>0.0482659</td>\n",
       "    </tr>\n",
       "    <tr>\n",
       "      <td>24</td>\n",
       "      <td>(0, 1, 6, 7, 8, 10, 11, 12, 14, 15, 16, 17, 18...</td>\n",
       "      <td>[0.13419654185469965, 0.2978986775026409, 0.00...</td>\n",
       "      <td>0.063103</td>\n",
       "      <td>(image_width, data_memorability, face_emotion_...</td>\n",
       "      <td>0.10031</td>\n",
       "      <td>0.135059</td>\n",
       "      <td>0.0450198</td>\n",
       "    </tr>\n",
       "    <tr>\n",
       "      <td>25</td>\n",
       "      <td>(0, 1, 6, 7, 8, 10, 11, 12, 14, 15, 16, 17, 18...</td>\n",
       "      <td>[0.13483819371140027, 0.3022900195593097, 0.00...</td>\n",
       "      <td>0.0421438</td>\n",
       "      <td>(image_width, data_memorability, face_emotion_...</td>\n",
       "      <td>0.107182</td>\n",
       "      <td>0.144312</td>\n",
       "      <td>0.0481038</td>\n",
       "    </tr>\n",
       "    <tr>\n",
       "      <td>26</td>\n",
       "      <td>(0, 1, 2, 6, 7, 8, 10, 11, 12, 14, 15, 16, 17,...</td>\n",
       "      <td>[0.14572062430628452, 0.3039490214985622, 0.01...</td>\n",
       "      <td>0.0166408</td>\n",
       "      <td>(image_width, data_memorability, user_follows,...</td>\n",
       "      <td>0.114287</td>\n",
       "      <td>0.153878</td>\n",
       "      <td>0.0512926</td>\n",
       "    </tr>\n",
       "    <tr>\n",
       "      <td>27</td>\n",
       "      <td>(0, 1, 2, 6, 7, 8, 10, 11, 12, 14, 15, 16, 17,...</td>\n",
       "      <td>[-0.07587538722695086, 0.3223614232959642, 0.0...</td>\n",
       "      <td>-0.00644265</td>\n",
       "      <td>(image_width, data_memorability, user_follows,...</td>\n",
       "      <td>0.131592</td>\n",
       "      <td>0.177177</td>\n",
       "      <td>0.0590591</td>\n",
       "    </tr>\n",
       "    <tr>\n",
       "      <td>28</td>\n",
       "      <td>(0, 1, 2, 6, 7, 8, 10, 11, 12, 14, 15, 16, 17,...</td>\n",
       "      <td>[-0.07587538722693243, 0.3223614232958554, 0.0...</td>\n",
       "      <td>-0.00644265</td>\n",
       "      <td>(image_width, data_memorability, user_follows,...</td>\n",
       "      <td>0.131592</td>\n",
       "      <td>0.177177</td>\n",
       "      <td>0.0590591</td>\n",
       "    </tr>\n",
       "    <tr>\n",
       "      <td>29</td>\n",
       "      <td>(0, 1, 2, 6, 7, 8, 10, 11, 12, 14, 15, 16, 17,...</td>\n",
       "      <td>[-0.07587538722694442, 0.32236142329588324, 0....</td>\n",
       "      <td>-0.00644265</td>\n",
       "      <td>(image_width, data_memorability, user_follows,...</td>\n",
       "      <td>0.131592</td>\n",
       "      <td>0.177177</td>\n",
       "      <td>0.0590591</td>\n",
       "    </tr>\n",
       "    <tr>\n",
       "      <td>30</td>\n",
       "      <td>(0, 1, 2, 6, 7, 8, 10, 11, 12, 14, 15, 16, 17,...</td>\n",
       "      <td>[-0.07587538722692111, 0.3223614232958806, 0.0...</td>\n",
       "      <td>-0.00644265</td>\n",
       "      <td>(image_width, data_memorability, user_follows,...</td>\n",
       "      <td>0.131592</td>\n",
       "      <td>0.177177</td>\n",
       "      <td>0.0590591</td>\n",
       "    </tr>\n",
       "    <tr>\n",
       "      <td>31</td>\n",
       "      <td>(0, 1, 2, 6, 7, 8, 9, 10, 11, 12, 14, 15, 16, ...</td>\n",
       "      <td>[-0.058034963826181674, 0.24929595965573537, 0...</td>\n",
       "      <td>-0.0439796</td>\n",
       "      <td>(image_width, data_memorability, user_follows,...</td>\n",
       "      <td>0.130771</td>\n",
       "      <td>0.176072</td>\n",
       "      <td>0.0586907</td>\n",
       "    </tr>\n",
       "    <tr>\n",
       "      <td>32</td>\n",
       "      <td>(0, 1, 2, 5, 6, 7, 8, 9, 10, 11, 12, 14, 15, 1...</td>\n",
       "      <td>[-0.06537993198541692, 0.2457255542210487, -0....</td>\n",
       "      <td>-0.0822534</td>\n",
       "      <td>(image_width, data_memorability, user_follows,...</td>\n",
       "      <td>0.13957</td>\n",
       "      <td>0.18792</td>\n",
       "      <td>0.0626399</td>\n",
       "    </tr>\n",
       "    <tr>\n",
       "      <td>33</td>\n",
       "      <td>(0, 1, 2, 5, 6, 7, 8, 9, 10, 11, 12, 14, 15, 1...</td>\n",
       "      <td>[-0.12735717831525895, 0.26960750177052073, -0...</td>\n",
       "      <td>-0.117229</td>\n",
       "      <td>(image_width, data_memorability, user_follows,...</td>\n",
       "      <td>0.218201</td>\n",
       "      <td>0.293789</td>\n",
       "      <td>0.0979296</td>\n",
       "    </tr>\n",
       "    <tr>\n",
       "      <td>34</td>\n",
       "      <td>(0, 1, 2, 5, 6, 7, 8, 9, 10, 11, 12, 14, 15, 1...</td>\n",
       "      <td>[-0.12433681833717403, 0.2761688230898359, -0....</td>\n",
       "      <td>-0.159391</td>\n",
       "      <td>(image_width, data_memorability, user_follows,...</td>\n",
       "      <td>0.26659</td>\n",
       "      <td>0.358941</td>\n",
       "      <td>0.119647</td>\n",
       "    </tr>\n",
       "    <tr>\n",
       "      <td>35</td>\n",
       "      <td>(0, 1, 2, 5, 6, 7, 8, 9, 10, 11, 12, 14, 15, 1...</td>\n",
       "      <td>[-0.17371935337789002, 0.2789019563061059, -0....</td>\n",
       "      <td>-0.192626</td>\n",
       "      <td>(image_width, data_memorability, user_follows,...</td>\n",
       "      <td>0.266732</td>\n",
       "      <td>0.359132</td>\n",
       "      <td>0.119711</td>\n",
       "    </tr>\n",
       "    <tr>\n",
       "      <td>36</td>\n",
       "      <td>(0, 1, 2, 5, 6, 7, 8, 9, 10, 11, 12, 14, 15, 1...</td>\n",
       "      <td>[-0.1942170809749575, 0.25314198290903833, -0....</td>\n",
       "      <td>-0.259047</td>\n",
       "      <td>(image_width, data_memorability, user_follows,...</td>\n",
       "      <td>0.241118</td>\n",
       "      <td>0.324645</td>\n",
       "      <td>0.108215</td>\n",
       "    </tr>\n",
       "    <tr>\n",
       "      <td>37</td>\n",
       "      <td>(0, 1, 2, 3, 5, 6, 7, 8, 9, 10, 11, 12, 14, 15...</td>\n",
       "      <td>[-0.0789670263917055, 0.24764922363177622, -0....</td>\n",
       "      <td>-0.300764</td>\n",
       "      <td>(image_width, data_memorability, user_follows,...</td>\n",
       "      <td>0.57682</td>\n",
       "      <td>0.776639</td>\n",
       "      <td>0.25888</td>\n",
       "    </tr>\n",
       "    <tr>\n",
       "      <td>38</td>\n",
       "      <td>(0, 1, 2, 3, 5, 6, 7, 8, 9, 10, 11, 12, 14, 15...</td>\n",
       "      <td>[-0.07549239501885086, 0.26261909907106096, -0...</td>\n",
       "      <td>-0.316517</td>\n",
       "      <td>(image_width, data_memorability, user_follows,...</td>\n",
       "      <td>0.573076</td>\n",
       "      <td>0.771598</td>\n",
       "      <td>0.257199</td>\n",
       "    </tr>\n",
       "    <tr>\n",
       "      <td>39</td>\n",
       "      <td>(0, 1, 2, 3, 5, 6, 7, 8, 9, 10, 11, 12, 14, 15...</td>\n",
       "      <td>[-0.094543568195115, 0.32306889939473615, -0.0...</td>\n",
       "      <td>-0.347102</td>\n",
       "      <td>(image_width, data_memorability, user_follows,...</td>\n",
       "      <td>0.606456</td>\n",
       "      <td>0.816542</td>\n",
       "      <td>0.272181</td>\n",
       "    </tr>\n",
       "    <tr>\n",
       "      <td>40</td>\n",
       "      <td>(0, 1, 2, 3, 5, 6, 7, 8, 9, 10, 11, 12, 13, 14...</td>\n",
       "      <td>[-0.09273386219716606, -0.08557881455017102, -...</td>\n",
       "      <td>-0.414249</td>\n",
       "      <td>(image_width, data_memorability, user_follows,...</td>\n",
       "      <td>0.588611</td>\n",
       "      <td>0.792515</td>\n",
       "      <td>0.264172</td>\n",
       "    </tr>\n",
       "    <tr>\n",
       "      <td>41</td>\n",
       "      <td>(0, 1, 2, 3, 4, 5, 6, 7, 8, 9, 10, 11, 12, 13,...</td>\n",
       "      <td>[-0.05354988670540339, -0.6195642859875679, -0...</td>\n",
       "      <td>-0.586561</td>\n",
       "      <td>(image_width, data_memorability, user_follows,...</td>\n",
       "      <td>0.679899</td>\n",
       "      <td>0.915426</td>\n",
       "      <td>0.305142</td>\n",
       "    </tr>\n",
       "    <tr>\n",
       "      <td>42</td>\n",
       "      <td>(0, 1, 2, 3, 4, 5, 6, 7, 8, 9, 10, 11, 12, 13,...</td>\n",
       "      <td>[-0.05176058770955683, -0.6971828702209852, -0...</td>\n",
       "      <td>-30.9568</td>\n",
       "      <td>(image_width, data_memorability, user_follows,...</td>\n",
       "      <td>67.3276</td>\n",
       "      <td>90.6509</td>\n",
       "      <td>30.217</td>\n",
       "    </tr>\n",
       "    <tr>\n",
       "      <td>43</td>\n",
       "      <td>(0, 1, 2, 3, 4, 5, 6, 7, 8, 9, 10, 11, 12, 13,...</td>\n",
       "      <td>[-0.051760587709853256, -0.6971828702207612, -...</td>\n",
       "      <td>-30.9568</td>\n",
       "      <td>(image_width, data_memorability, user_follows,...</td>\n",
       "      <td>67.3276</td>\n",
       "      <td>90.6509</td>\n",
       "      <td>30.217</td>\n",
       "    </tr>\n",
       "  </tbody>\n",
       "</table>\n",
       "</div>"
      ],
      "text/plain": [
       "                                          feature_idx  \\\n",
       "1                                               (36,)   \n",
       "2                                            (11, 36)   \n",
       "3                                        (11, 36, 40)   \n",
       "4                                    (11, 19, 36, 40)   \n",
       "5                                 (7, 11, 19, 36, 40)   \n",
       "6                             (7, 11, 19, 36, 37, 40)   \n",
       "7                          (1, 7, 11, 19, 36, 37, 40)   \n",
       "8                      (1, 7, 11, 15, 19, 36, 37, 40)   \n",
       "9                  (1, 7, 11, 15, 19, 36, 37, 38, 40)   \n",
       "10              (1, 7, 8, 11, 15, 19, 36, 37, 38, 40)   \n",
       "11          (1, 7, 8, 11, 14, 15, 19, 36, 37, 38, 40)   \n",
       "12      (1, 7, 8, 11, 14, 15, 19, 31, 36, 37, 38, 40)   \n",
       "13  (1, 7, 8, 11, 14, 15, 19, 31, 35, 36, 37, 38, 40)   \n",
       "14  (1, 7, 8, 11, 14, 15, 19, 26, 31, 35, 36, 37, ...   \n",
       "15  (0, 1, 7, 8, 11, 14, 15, 19, 26, 31, 35, 36, 3...   \n",
       "16  (0, 1, 7, 8, 10, 11, 14, 15, 19, 26, 31, 35, 3...   \n",
       "17  (0, 1, 7, 8, 10, 11, 12, 14, 15, 19, 26, 31, 3...   \n",
       "18  (0, 1, 6, 7, 8, 10, 11, 12, 14, 15, 19, 26, 31...   \n",
       "19  (0, 1, 6, 7, 8, 10, 11, 12, 14, 15, 17, 19, 26...   \n",
       "20  (0, 1, 6, 7, 8, 10, 11, 12, 14, 15, 17, 19, 26...   \n",
       "21  (0, 1, 6, 7, 8, 10, 11, 12, 14, 15, 16, 17, 19...   \n",
       "22  (0, 1, 6, 7, 8, 10, 11, 12, 14, 15, 16, 17, 19...   \n",
       "23  (0, 1, 6, 7, 8, 10, 11, 12, 14, 15, 16, 17, 18...   \n",
       "24  (0, 1, 6, 7, 8, 10, 11, 12, 14, 15, 16, 17, 18...   \n",
       "25  (0, 1, 6, 7, 8, 10, 11, 12, 14, 15, 16, 17, 18...   \n",
       "26  (0, 1, 2, 6, 7, 8, 10, 11, 12, 14, 15, 16, 17,...   \n",
       "27  (0, 1, 2, 6, 7, 8, 10, 11, 12, 14, 15, 16, 17,...   \n",
       "28  (0, 1, 2, 6, 7, 8, 10, 11, 12, 14, 15, 16, 17,...   \n",
       "29  (0, 1, 2, 6, 7, 8, 10, 11, 12, 14, 15, 16, 17,...   \n",
       "30  (0, 1, 2, 6, 7, 8, 10, 11, 12, 14, 15, 16, 17,...   \n",
       "31  (0, 1, 2, 6, 7, 8, 9, 10, 11, 12, 14, 15, 16, ...   \n",
       "32  (0, 1, 2, 5, 6, 7, 8, 9, 10, 11, 12, 14, 15, 1...   \n",
       "33  (0, 1, 2, 5, 6, 7, 8, 9, 10, 11, 12, 14, 15, 1...   \n",
       "34  (0, 1, 2, 5, 6, 7, 8, 9, 10, 11, 12, 14, 15, 1...   \n",
       "35  (0, 1, 2, 5, 6, 7, 8, 9, 10, 11, 12, 14, 15, 1...   \n",
       "36  (0, 1, 2, 5, 6, 7, 8, 9, 10, 11, 12, 14, 15, 1...   \n",
       "37  (0, 1, 2, 3, 5, 6, 7, 8, 9, 10, 11, 12, 14, 15...   \n",
       "38  (0, 1, 2, 3, 5, 6, 7, 8, 9, 10, 11, 12, 14, 15...   \n",
       "39  (0, 1, 2, 3, 5, 6, 7, 8, 9, 10, 11, 12, 14, 15...   \n",
       "40  (0, 1, 2, 3, 5, 6, 7, 8, 9, 10, 11, 12, 13, 14...   \n",
       "41  (0, 1, 2, 3, 4, 5, 6, 7, 8, 9, 10, 11, 12, 13,...   \n",
       "42  (0, 1, 2, 3, 4, 5, 6, 7, 8, 9, 10, 11, 12, 13,...   \n",
       "43  (0, 1, 2, 3, 4, 5, 6, 7, 8, 9, 10, 11, 12, 13,...   \n",
       "\n",
       "                                            cv_scores   avg_score  \\\n",
       "1   [0.04627949378560514, 0.0352261223865199, -0.0...  -0.0166715   \n",
       "2   [0.07908154341884432, 0.11079008038824945, -0....   0.0157638   \n",
       "3   [0.09509738404547985, 0.2223989001453004, -0.0...   0.0302235   \n",
       "4   [0.12592660614954498, 0.17691707160892078, -0....   0.0523776   \n",
       "5   [0.1486791368399274, 0.30251349786932913, -0.0...   0.0730996   \n",
       "6   [0.16153635506099873, 0.2979850668171721, 0.04...   0.0925751   \n",
       "7   [0.18547278864007988, 0.32409506795254595, 0.0...    0.120282   \n",
       "8   [0.14705972515845245, 0.44013728487215786, 0.0...    0.137124   \n",
       "9   [0.17988317769277373, 0.45450270019345007, 0.0...    0.155582   \n",
       "10  [0.19296597369141577, 0.4806698646131242, 0.10...    0.158123   \n",
       "11  [0.19827665779961323, 0.4653324712553395, 0.07...    0.154671   \n",
       "12  [0.21707741767561384, 0.4686608879182116, 0.04...    0.154675   \n",
       "13  [0.14527953741326094, 0.4858905954996182, 0.06...    0.157774   \n",
       "14  [0.14553060743446367, 0.47401102081867363, 0.0...    0.155553   \n",
       "15  [0.14584020279853693, 0.4940405945561196, 0.02...    0.155006   \n",
       "16  [0.15537750554893626, 0.3723904878964488, 0.06...    0.150266   \n",
       "17  [0.15522557101050383, 0.3324694606573235, 0.05...    0.143937   \n",
       "18  [0.1343596798976361, 0.32770090733105073, 0.05...     0.13654   \n",
       "19  [0.14847793910437468, 0.3481635198689693, 0.09...    0.129009   \n",
       "20  [0.15208095512633313, 0.3506591096563981, 0.09...    0.119883   \n",
       "21  [0.15221585149790495, 0.3513431027108703, 0.07...    0.108027   \n",
       "22  [0.1396974197095563, 0.3465901040073749, 0.066...   0.0948681   \n",
       "23  [0.13269174195929934, 0.3613849546445772, 0.07...   0.0801387   \n",
       "24  [0.13419654185469965, 0.2978986775026409, 0.00...    0.063103   \n",
       "25  [0.13483819371140027, 0.3022900195593097, 0.00...   0.0421438   \n",
       "26  [0.14572062430628452, 0.3039490214985622, 0.01...   0.0166408   \n",
       "27  [-0.07587538722695086, 0.3223614232959642, 0.0... -0.00644265   \n",
       "28  [-0.07587538722693243, 0.3223614232958554, 0.0... -0.00644265   \n",
       "29  [-0.07587538722694442, 0.32236142329588324, 0.... -0.00644265   \n",
       "30  [-0.07587538722692111, 0.3223614232958806, 0.0... -0.00644265   \n",
       "31  [-0.058034963826181674, 0.24929595965573537, 0...  -0.0439796   \n",
       "32  [-0.06537993198541692, 0.2457255542210487, -0....  -0.0822534   \n",
       "33  [-0.12735717831525895, 0.26960750177052073, -0...   -0.117229   \n",
       "34  [-0.12433681833717403, 0.2761688230898359, -0....   -0.159391   \n",
       "35  [-0.17371935337789002, 0.2789019563061059, -0....   -0.192626   \n",
       "36  [-0.1942170809749575, 0.25314198290903833, -0....   -0.259047   \n",
       "37  [-0.0789670263917055, 0.24764922363177622, -0....   -0.300764   \n",
       "38  [-0.07549239501885086, 0.26261909907106096, -0...   -0.316517   \n",
       "39  [-0.094543568195115, 0.32306889939473615, -0.0...   -0.347102   \n",
       "40  [-0.09273386219716606, -0.08557881455017102, -...   -0.414249   \n",
       "41  [-0.05354988670540339, -0.6195642859875679, -0...   -0.586561   \n",
       "42  [-0.05176058770955683, -0.6971828702209852, -0...    -30.9568   \n",
       "43  [-0.051760587709853256, -0.6971828702207612, -...    -30.9568   \n",
       "\n",
       "                                        feature_names   ci_bound   std_dev  \\\n",
       "1                               (emotion_label_rage,)  0.0655482  0.088255   \n",
       "2        (face_emotion_SURPRISED, emotion_label_rage)  0.0945456  0.127298   \n",
       "3   (face_emotion_SURPRISED, emotion_label_rage, e...   0.107546  0.144801   \n",
       "4   (face_emotion_SURPRISED, emotion_label_accepta...   0.133623  0.179912   \n",
       "5   (face_emotion_CALM, face_emotion_SURPRISED, em...   0.142449  0.191796   \n",
       "6   (face_emotion_CALM, face_emotion_SURPRISED, em...   0.143368  0.193033   \n",
       "7   (data_memorability, face_emotion_CALM, face_em...   0.127436  0.171582   \n",
       "8   (data_memorability, face_emotion_CALM, face_em...   0.123562  0.166365   \n",
       "9   (data_memorability, face_emotion_CALM, face_em...   0.117852  0.158677   \n",
       "10  (data_memorability, face_emotion_CALM, face_em...   0.117669  0.158432   \n",
       "11  (data_memorability, face_emotion_CALM, face_em...   0.113155  0.152354   \n",
       "12  (data_memorability, face_emotion_CALM, face_em...   0.116947   0.15746   \n",
       "13  (data_memorability, face_emotion_CALM, face_em...   0.114247  0.153823   \n",
       "14  (data_memorability, face_emotion_CALM, face_em...   0.112249  0.151134   \n",
       "15  (image_width, data_memorability, face_emotion_...   0.120383  0.162086   \n",
       "16  (image_width, data_memorability, face_emotion_...   0.095006  0.127917   \n",
       "17  (image_width, data_memorability, face_emotion_...  0.0900682  0.121269   \n",
       "18  (image_width, data_memorability, face_emotion_...  0.0904364  0.121765   \n",
       "19  (image_width, data_memorability, face_emotion_...  0.0908129  0.122272   \n",
       "20  (image_width, data_memorability, face_emotion_...  0.0922807  0.124248   \n",
       "21  (image_width, data_memorability, face_emotion_...  0.0882974  0.118885   \n",
       "22  (image_width, data_memorability, face_emotion_...  0.0960056  0.129263   \n",
       "23  (image_width, data_memorability, face_emotion_...   0.107543  0.144798   \n",
       "24  (image_width, data_memorability, face_emotion_...    0.10031  0.135059   \n",
       "25  (image_width, data_memorability, face_emotion_...   0.107182  0.144312   \n",
       "26  (image_width, data_memorability, user_follows,...   0.114287  0.153878   \n",
       "27  (image_width, data_memorability, user_follows,...   0.131592  0.177177   \n",
       "28  (image_width, data_memorability, user_follows,...   0.131592  0.177177   \n",
       "29  (image_width, data_memorability, user_follows,...   0.131592  0.177177   \n",
       "30  (image_width, data_memorability, user_follows,...   0.131592  0.177177   \n",
       "31  (image_width, data_memorability, user_follows,...   0.130771  0.176072   \n",
       "32  (image_width, data_memorability, user_follows,...    0.13957   0.18792   \n",
       "33  (image_width, data_memorability, user_follows,...   0.218201  0.293789   \n",
       "34  (image_width, data_memorability, user_follows,...    0.26659  0.358941   \n",
       "35  (image_width, data_memorability, user_follows,...   0.266732  0.359132   \n",
       "36  (image_width, data_memorability, user_follows,...   0.241118  0.324645   \n",
       "37  (image_width, data_memorability, user_follows,...    0.57682  0.776639   \n",
       "38  (image_width, data_memorability, user_follows,...   0.573076  0.771598   \n",
       "39  (image_width, data_memorability, user_follows,...   0.606456  0.816542   \n",
       "40  (image_width, data_memorability, user_follows,...   0.588611  0.792515   \n",
       "41  (image_width, data_memorability, user_follows,...   0.679899  0.915426   \n",
       "42  (image_width, data_memorability, user_follows,...    67.3276   90.6509   \n",
       "43  (image_width, data_memorability, user_follows,...    67.3276   90.6509   \n",
       "\n",
       "      std_err  \n",
       "1   0.0294183  \n",
       "2   0.0424325  \n",
       "3   0.0482671  \n",
       "4   0.0599707  \n",
       "5   0.0639318  \n",
       "6   0.0643444  \n",
       "7   0.0571941  \n",
       "8   0.0554551  \n",
       "9   0.0528925  \n",
       "10  0.0528106  \n",
       "11  0.0507847  \n",
       "12  0.0524865  \n",
       "13  0.0512745  \n",
       "14  0.0503779  \n",
       "15  0.0540285  \n",
       "16  0.0426392  \n",
       "17  0.0404231  \n",
       "18  0.0405883  \n",
       "19  0.0407573  \n",
       "20  0.0414161  \n",
       "21  0.0396283  \n",
       "22  0.0430878  \n",
       "23  0.0482659  \n",
       "24  0.0450198  \n",
       "25  0.0481038  \n",
       "26  0.0512926  \n",
       "27  0.0590591  \n",
       "28  0.0590591  \n",
       "29  0.0590591  \n",
       "30  0.0590591  \n",
       "31  0.0586907  \n",
       "32  0.0626399  \n",
       "33  0.0979296  \n",
       "34   0.119647  \n",
       "35   0.119711  \n",
       "36   0.108215  \n",
       "37    0.25888  \n",
       "38   0.257199  \n",
       "39   0.272181  \n",
       "40   0.264172  \n",
       "41   0.305142  \n",
       "42     30.217  \n",
       "43     30.217  "
      ]
     },
     "execution_count": 24,
     "metadata": {},
     "output_type": "execute_result"
    }
   ],
   "source": [
    "best_feat = list(sfs.k_feature_names_)\n",
    "print(\"Amount chosen\", len(sfs.k_feature_idx_),\n",
    "    \"CV score:\", sfs.k_score_,\n",
    "      \n",
    "    \"Best features:\", *best_feat, sep = \"\\n\")\n",
    "pd.DataFrame.from_dict(sfs.get_metric_dict()).T"
   ]
  },
  {
   "cell_type": "code",
   "execution_count": 25,
   "metadata": {},
   "outputs": [
    {
     "name": "stdout",
     "output_type": "stream",
     "text": [
      "R^2: 0.15630528430800028\n",
      "Root Mean Squared Error: 1.1874107866378678\n"
     ]
    }
   ],
   "source": [
    "# Evaluate best single model\n",
    "\n",
    "# Create training and test sets\n",
    "X_train_best, X_test_best, y_train, y_test = train_test_split(features_df[best_feat], target_df[\"PERMA\"]\n",
    "                                                    , test_size = 0.30, random_state=42)\n",
    "\n",
    "# Create the regressor: reg_all\n",
    "reg_best = LinearRegression()\n",
    "\n",
    "# Fit the regressor to the training data\n",
    "reg_best.fit(X_train_best, y_train)\n",
    "\n",
    "# Predict on the test data: y_pred\n",
    "y_pred = reg_best.predict(X_test_best)\n",
    "\n",
    "# Compute and print R^2 and RMSE\n",
    "print(\"R^2: {}\".format(reg_best.score(X_test_best, y_test)))\n",
    "rmse = np.sqrt(mean_squared_error(y_test, y_pred))\n",
    "print(\"Root Mean Squared Error: {}\".format(rmse))"
   ]
  },
  {
   "cell_type": "code",
   "execution_count": 26,
   "metadata": {},
   "outputs": [],
   "source": [
    "# Create compound model of 6 perma score elements\n",
    "perma_elements = [\"P\", \"E\", \"R\", \"M\", \"A\", \"HAP\"]\n",
    "\n",
    "best_features = dict()\n",
    "\n",
    "for question in perma_elements:\n",
    "    lr = LinearRegression()\n",
    "    sfs = SFS(lr, \n",
    "              k_features=\"best\", \n",
    "              forward=True, \n",
    "              floating=False, \n",
    "              scoring='r2',\n",
    "              cv=10)\n",
    "    sfs = sfs.fit(features_df, target_df[question])\n",
    "    best_features[question] = (sfs.k_score_, sfs.k_feature_names_)"
   ]
  },
  {
   "cell_type": "code",
   "execution_count": 27,
   "metadata": {},
   "outputs": [
    {
     "data": {
      "text/plain": [
       "['image_width',\n",
       " 'data_memorability',\n",
       " 'user_posted_photos',\n",
       " 'face_emotion_CALM',\n",
       " 'face_emotion_CONFUSED',\n",
       " 'face_emotion_SURPRISED',\n",
       " 'male',\n",
       " 'emotion_label_acceptance',\n",
       " 'emotion_label_annoyance',\n",
       " 'emotion_label_ecstasy',\n",
       " 'emotion_label_grief',\n",
       " 'emotion_label_joy',\n",
       " 'emotion_label_rage',\n",
       " 'emotion_label_serenity',\n",
       " 'emotion_label_terror']"
      ]
     },
     "execution_count": 27,
     "metadata": {},
     "output_type": "execute_result"
    }
   ],
   "source": [
    "list(best_features[\"P\"][1])"
   ]
  },
  {
   "cell_type": "code",
   "execution_count": 28,
   "metadata": {},
   "outputs": [
    {
     "name": "stdout",
     "output_type": "stream",
     "text": [
      "R^2: 0.2927484572105994\n",
      "Root Mean Squared Error: 1.3092132273083377\n"
     ]
    }
   ],
   "source": [
    "# Evaluate compound model\n",
    "\n",
    "# Create training and test sets\n",
    "X_train_flex, X_test_flex, y_train_flex, y_test_flex = train_test_split(features_df, target_df\n",
    "                                                    , test_size = 0.30, random_state=69)\n",
    "predicted_data = pd.DataFrame()\n",
    "models = dict()\n",
    "\n",
    "for element in perma_elements:\n",
    "    # Create the regressor: lr\n",
    "    lr = LinearRegression()\n",
    "\n",
    "    # Extract the best features for the element\n",
    "    features = list(best_features[element][1])\n",
    "    \n",
    "    # Fit the regressor to the training data\n",
    "    lr.fit(X_train_flex[features], y_train_flex[element])\n",
    "\n",
    "    # Predict on the test data: y_pred\n",
    "    y_pred = lr.predict(X_test_flex[features])\n",
    "  \n",
    "    predicted_data[element] = y_pred\n",
    "    models[element] = lr\n",
    "    \n",
    "predicted_data[\"PERMA\"] = predicted_data.mean(1)\n",
    "\n",
    "\n",
    "# Compute and print R^2 and RMSE\n",
    "print(\"R^2: {}\".format(r2_score(y_test_flex[\"PERMA\"], predicted_data[\"PERMA\"].values)))\n",
    "rmse = np.sqrt(mean_squared_error(y_test_flex[\"PERMA\"], predicted_data[\"PERMA\"].values))\n",
    "print(\"Root Mean Squared Error: {}\".format(rmse))"
   ]
  },
  {
   "cell_type": "code",
   "execution_count": 31,
   "metadata": {},
   "outputs": [],
   "source": [
    "# Save total model to pickle\n",
    "pickle.dump(reg_all, open(\"../models/reg_all\", 'wb'))\n",
    "# Save best single model to pickle\n",
    "pickle.dump(best_feat, open(\"../models/best_feat\", 'wb'))\n",
    "pickle.dump(reg_best, open(\"../models/reg_best\", 'wb'))\n",
    "# Save compound model to pickle\n",
    "pickle.dump(best_features, open(\"../models/comp_features.pickle\", 'wb'))\n",
    "pickle.dump(models, open(\"../models/perma_el.pickle\", 'wb'))\n",
    "pickle.dump(perma_elements, open(\"../models/compound.pickle\", 'wb'))"
   ]
  },
  {
   "cell_type": "markdown",
   "metadata": {},
   "source": [
    "#### Dataset size & random seed discussion\n",
    "Due to small size of the dataset and thus a small test dataset the RMSE & R^2 are heavily dependent on the random seed. Different seed choices result in large variations of the two statistics mentioned. To-Do: plot difference in statistic values per random_state in say...two or three regressors, 10 or 15 random_state values."
   ]
  },
  {
   "cell_type": "code",
   "execution_count": 32,
   "metadata": {
    "scrolled": true
   },
   "outputs": [
    {
     "data": {
      "image/png": "[encoded data removed]",
      "text/plain": [
       "<Figure size 504x360 with 1 Axes>"
      ]
     },
     "metadata": {
      "needs_background": "light"
     },
     "output_type": "display_data"
    }
   ],
   "source": [
    "fig = plt.figure(figsize=(7,5))\n",
    "xl = plt.xlim(1, 10)\n",
    "yl = plt.ylim(1, 10)\n",
    "\n",
    "ax = plt.gca()\n",
    "ax.set_xlabel('Test Value')\n",
    "ax.set_ylabel('Predicted Value')\n",
    "plt.title('Prediction using SKLearn LinearRegression\\n R^2 Score: %f Root MSE: %f'\\\n",
    "% (r2_score(y_test_flex[\"PERMA\"], predicted_data[\"PERMA\"].values),\\\n",
    "np.sqrt(mean_squared_error(y_test_flex[\"PERMA\"], predicted_data[\"PERMA\"].values))))\n",
    "\n",
    "plt.scatter(x=y_test_flex[\"PERMA\"], y=predicted_data[\"PERMA\"])\n",
    "plt.plot(xl, yl, '--', color='r',linewidth=0.3)\n",
    "ax.hlines(y=predicted_data[\"PERMA\"], xmin=predicted_data[\"PERMA\"], xmax=y_test_flex[\"PERMA\"], color='orange', linestyle='dotted', linewidth=0.4)\n",
    "plt.grid(linestyle='--')\n",
    "plt.savefig('../images/regression/SKL_LR_fig1.png', format='png')\n",
    "plt.show()\n"
   ]
  },
  {
   "cell_type": "code",
   "execution_count": 33,
   "metadata": {},
   "outputs": [
    {
     "name": "stdout",
     "output_type": "stream",
     "text": [
      "1.665450018748639\n",
      "-2.3150215767621605\n",
      "-0.46869798137030827\n",
      "0.9132130035187771\n",
      "-1.442891349851263\n",
      "-0.5731343917672618\n",
      "-0.1686793837613827\n",
      "1.6293578763557761\n",
      "-3.4489202723637957\n",
      "-2.1598128117855415\n",
      "-0.2969888466024342\n",
      "-0.9478565477965271\n",
      "0.6757845942204765\n",
      "-0.24007789011008196\n",
      "0.6042978265703347\n",
      "-1.7274194653452648\n",
      "-0.8961589612001859\n",
      "-0.5365295171508349\n",
      "-3.1372532059692375\n",
      "0.8600349941305936\n",
      "0.13279406076425548\n",
      "-1.788780798928225\n",
      "1.3146880968655585\n",
      "-0.9731792925349163\n",
      "1.6550248225159292\n",
      "0.8752656129494971\n",
      "1.1566681666430476\n",
      "0.5693210495444996\n",
      "0.915450018748639\n",
      "-2.3390367511306343\n",
      "1.4349384294821794\n",
      "-0.12752157676216047\n",
      "-1.2613525397070093\n",
      "1.665518964922203\n",
      "-0.7779685566874557\n",
      "0.3824768013613351\n",
      "0.8575823055222793\n",
      "-0.28564671251140883\n",
      "-0.5506523201781564\n",
      "-0.07218719733126022\n",
      "-2.2809921087273706\n",
      "-1.2352926751551196\n",
      "0.08312787700041735\n",
      "1.4574521753682994\n",
      "1.263374706781537\n",
      "-0.2120018899570857\n"
     ]
    }
   ],
   "source": [
    "print(y_test_flex[\"PERMA\"].max() - predicted_data[\"PERMA\"].max())\n",
    "print(y_test_flex[\"PERMA\"].min() - predicted_data[\"PERMA\"].min())\n",
    "\n",
    "for foo in zip(y_test_flex[\"PERMA\"], predicted_data[\"PERMA\"]):\n",
    "    print(foo[0] - foo[1])\n",
    "\n",
    "\n"
   ]
  },
  {
   "cell_type": "code",
   "execution_count": null,
   "metadata": {},
   "outputs": [],
   "source": []
  },
  {
   "cell_type": "markdown",
   "metadata": {},
   "source": [
    "#### Testing with an SVM\n",
    "\n",
    "Some notes: the SVM benifits from as much training data as it can get. I gave it 90% to eat.\n",
    "In testing for the target of the highest possible R^2 combined with the lowest possible MSE, I iterated over a range of C=0.7-1.3 and e=0.0-0.3 where C is the penalty for falling outside the epsilon tube and e is the radius of the tube."
   ]
  },
  {
   "cell_type": "code",
   "execution_count": 37,
   "metadata": {},
   "outputs": [
    {
     "name": "stdout",
     "output_type": "stream",
     "text": [
      "R^2: -0.15709179718665567\n",
      "Root Mean Squared Error: 1.540468306780597\n"
     ]
    }
   ],
   "source": [
    "# Evaluate compound model with an SVM\n",
    "\n",
    "# Create training and test sets\n",
    "X_train_flex, X_test_flex, y_train_flex, y_test_flex = train_test_split(features_df, target_df\n",
    "                                                    , test_size = 0.10, random_state=69)\n",
    "predicted_data = pd.DataFrame()\n",
    "models_svm = dict()\n",
    "\n",
    "for element in perma_elements:\n",
    "    # Create the regressor: SVR\n",
    "    clf = SVR(kernel='linear', gamma='scale', C=1.3, epsilon=0)\n",
    "\n",
    "    # Extract the best features for the element\n",
    "    features = list(best_features[element][1])\n",
    "    \n",
    "    # Fit the regressor to the training data\n",
    "    clf.fit(X_train_flex[features], y_train_flex[element])\n",
    "\n",
    "    # Predict on the test data: y_pred\n",
    "    y_pred = clf.predict(X_test_flex[features])\n",
    "    \n",
    "    models_svm[element] = clf\n",
    "  \n",
    "    predicted_data[element] = y_pred\n",
    "    \n",
    "predicted_data[\"PERMA\"] = predicted_data.mean(1)\n",
    "\n",
    "# Compute and print R^2 and RMSE\n",
    "print(\"R^2: {}\".format(r2_score(y_test_flex[\"PERMA\"], predicted_data[\"PERMA\"].values)))\n",
    "rmse = np.sqrt(mean_squared_error(y_test_flex[\"PERMA\"], predicted_data[\"PERMA\"].values))\n",
    "print(\"Root Mean Squared Error: {}\".format(rmse))"
   ]
  },
  {
   "cell_type": "code",
   "execution_count": 38,
   "metadata": {},
   "outputs": [],
   "source": [
    "# Save compound model to pickle\n",
    "pickle.dump(models_svm, open(\"../models/models_svm.pickle\", 'wb'))"
   ]
  },
  {
   "cell_type": "code",
   "execution_count": 35,
   "metadata": {},
   "outputs": [
    {
     "data": {
      "image/png": "[encoded data removed]",
      "text/plain": [
       "<Figure size 504x360 with 1 Axes>"
      ]
     },
     "metadata": {
      "needs_background": "light"
     },
     "output_type": "display_data"
    }
   ],
   "source": [
    "fig = plt.figure(figsize=(7,5))\n",
    "xl = plt.xlim(1, 10)\n",
    "yl = plt.ylim(1, 10)\n",
    "\n",
    "ax = plt.gca()\n",
    "ax.set_xlabel('Test Value')\n",
    "ax.set_ylabel('Predicted Value')\n",
    "plt.title('Prediction using SKLearn SVM Linear Kernel C=1.3, e=0\\n \\\n",
    "R^2 Score: %f Root MSE: %f' % (r2_score(y_test_flex[\"PERMA\"],\\\n",
    "predicted_data[\"PERMA\"].values), np.sqrt(mean_squared_error(y_test_flex[\"PERMA\"], \\\n",
    "predicted_data[\"PERMA\"].values))))\n",
    "\n",
    "ax.scatter(x=y_test_flex[\"PERMA\"], y=predicted_data[\"PERMA\"])\n",
    "ax.plot(xl, yl, '--', color='r',linewidth=0.3)\n",
    "ax.hlines(y=predicted_data[\"PERMA\"], xmin=predicted_data[\"PERMA\"], xmax=y_test_flex[\"PERMA\"], color='orange', linestyle='dotted', linewidth=0.4)\n",
    "ax.grid(linestyle='--')\n",
    "plt.savefig('../images/regression/SKL_SVM_LK_fig1.png', format='png')\n",
    "plt.show()\n"
   ]
  },
  {
   "cell_type": "markdown",
   "metadata": {},
   "source": [
    "# Old stuff, ignore for now"
   ]
  },
  {
   "cell_type": "code",
   "execution_count": null,
   "metadata": {},
   "outputs": [],
   "source": [
    "# # Scale data\n",
    "# scaler = preprocessing.StandardScaler()\n",
    "# features_df_scaled = features_df.copy()\n",
    "# features_df_scaled[features_df_scaled.columns] = scaler.fit_transform(\n",
    "#     features_df_scaled[features_df_scaled.columns])\n",
    "\n",
    "# normalizer = preprocessing.Normalizer()\n",
    "# features_df_norm = features_df.copy()\n",
    "# features_df_norm[features_df_norm.columns] = scaler.fit_transform(\n",
    "#     features_df_norm[features_df_norm.columns])\n",
    "\n",
    "# features_df_n=((features_df-features_df.min())/(features_df.max()-features_df.min()))\n",
    "\n",
    "# plt.plot(features_df_n.std())\n",
    "# Check variance\n",
    "# sel = VarianceThreshold(threshold=(.8 * (1 - .8)))\n",
    "# sel.fit_transform(X)\n",
    "features_df.shape"
   ]
  },
  {
   "cell_type": "code",
   "execution_count": null,
   "metadata": {},
   "outputs": [],
   "source": [
    "# the intercept is the expected mean of the perma score if some X is equal to 0\n",
    "# in our case, it's pretty low\n",
    "print('Estimated intercept coefficient:', lr.intercept_)\n",
    "\n",
    "# the number of coefficients\n",
    "print('Number of coefficients:', len(lr.coef_))\n",
    "\n",
    "# output the coefficients\n",
    "pd.DataFrame(list(zip(X_train_flex.columns, lr.coef_)), columns = ['features', 'estimatedCoefficients'])"
   ]
  },
  {
   "cell_type": "markdown",
   "metadata": {},
   "source": [
    "The coefficient of the **glasses** feature, is significantly higher than all other features. We can use a residential plot to see if the this feature is suitable for linear regression."
   ]
  },
  {
   "cell_type": "code",
   "execution_count": 24,
   "metadata": {},
   "outputs": [
    {
     "data": {
      "text/plain": [
       "<matplotlib.axes._subplots.AxesSubplot at 0x7faa44684208>"
      ]
     },
     "execution_count": 24,
     "metadata": {},
     "output_type": "execute_result"
    },
    {
     "data": {
      "image/png": "[encoded data removed]",
      "text/plain": [
       "<Figure size 720x504 with 1 Axes>"
      ]
     },
     "metadata": {
      "needs_background": "light"
     },
     "output_type": "display_data"
    }
   ],
   "source": [
    "fig = plt.figure(figsize=(10,7))\n",
    "sns.residplot(X_test_flex.glasses, y_test_flex.PERMA, color='magenta')"
   ]
  },
  {
   "cell_type": "markdown",
   "metadata": {},
   "source": [
    "Plot a scatter plot using the **glasses** feature and the **PERMA** scores from the test -and predicted dataset."
   ]
  },
  {
   "cell_type": "code",
   "execution_count": 25,
   "metadata": {},
   "outputs": [
    {
     "data": {
      "text/plain": [
       "<matplotlib.axes._subplots.AxesSubplot at 0x7faa44522080>"
      ]
     },
     "execution_count": 25,
     "metadata": {},
     "output_type": "execute_result"
    },
    {
     "data": {
      "image/png": "[encoded data removed]",
      "text/plain": [
       "<Figure size 720x504 with 1 Axes>"
      ]
     },
     "metadata": {
      "needs_background": "light"
     },
     "output_type": "display_data"
    }
   ],
   "source": [
    "fig = plt.figure(figsize=(10,7))\n",
    "ax1 = sns.regplot(x=X_test_flex.glasses,y=y_test_flex.PERMA,color='blue', marker='+')\n",
    "sns.regplot(x=X_test_flex.glasses,y=y_pred,color='magenta', marker='+', ax=ax1)"
   ]
  },
  {
   "cell_type": "code",
   "execution_count": 26,
   "metadata": {
    "scrolled": false
   },
   "outputs": [
    {
     "data": {
      "text/plain": [
       "<matplotlib.axes._subplots.AxesSubplot at 0x7faa444445c0>"
      ]
     },
     "execution_count": 26,
     "metadata": {},
     "output_type": "execute_result"
    },
    {
     "data": {
      "image/png": "[encoded data removed]",
      "text/plain": [
       "<Figure size 720x504 with 1 Axes>"
      ]
     },
     "metadata": {
      "needs_background": "light"
     },
     "output_type": "display_data"
    }
   ],
   "source": [
    "# try to do the same for the CALM emotion\n",
    "fig = plt.figure(figsize=(10,7))\n",
    "ax1 = sns.regplot(x=X_test_flex.face_emotion_CALM,y=y_test_flex.PERMA,color='blue', marker='+')\n",
    "sns.regplot(x=X_test_flex.face_emotion_CALM,y=y_pred,color='magenta', marker='+', ax=ax1)"
   ]
  },
  {
   "cell_type": "code",
   "execution_count": 27,
   "metadata": {},
   "outputs": [
    {
     "name": "stdout",
     "output_type": "stream",
     "text": [
      "['data_memorability', 'face_emotion_CALM', 'face_emotion_CONFUSED', 'face_emotion_SURPRISED', 'male', 'emotion_label_acceptance', 'emotion_label_rage', 'emotion_label_sadness', 'emotion_label_serenity', 'emotion_label_terror']\n"
     ]
    },
    {
     "data": {
      "image/png": "[encoded data removed]",
      "text/plain": [
       "<Figure size 432x288 with 1 Axes>"
      ]
     },
     "metadata": {
      "needs_background": "light"
     },
     "output_type": "display_data"
    }
   ],
   "source": [
    "print(best_feat)\n",
    "plt.scatter(target_df.PERMA, reg_best.predict(features_df[best_feat]))\n",
    "plt.xlabel('PERMA scores')\n",
    "plt.ylabel('Predicted PERMA scores')\n",
    "plt.show()"
   ]
  }
 ],
 "metadata": {
  "kernelspec": {
   "display_name": "Python 3",
   "language": "python",
   "name": "python3"
  },
  "language_info": {
   "codemirror_mode": {
    "name": "ipython",
    "version": 3
   },
   "file_extension": ".py",
   "mimetype": "text/x-python",
   "name": "python",
   "nbconvert_exporter": "python",
   "pygments_lexer": "ipython3",
   "version": "3.7.4"
  }
 },
 "nbformat": 4,
 "nbformat_minor": 2
}
