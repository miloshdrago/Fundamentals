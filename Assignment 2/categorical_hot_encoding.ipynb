{
 "cells": [
  {
   "cell_type": "code",
   "execution_count": 1,
   "metadata": {},
   "outputs": [],
   "source": [
    "import numpy\n",
    "import pandas as pd\n",
    "import matplotlib.pyplot as plt\n",
    "from pandas.plotting import scatter_matrix"
   ]
  },
  {
   "cell_type": "code",
   "execution_count": 3,
   "metadata": {},
   "outputs": [],
   "source": [
    "#The default is pickle format. If you are working with the feather format, then the comments on each line indicate how to use it\n",
    "anp_df = pd.read_pickle(r'visual_well_being_pickle_format/anp.pickle') #feather.read_dataframe('data_science_case/anp.feather')\n",
    "face_df = pd.read_pickle(r'visual_well_being_pickle_format/face.pickle') #feather.read_dataframe('data_science_case/face.feather')\n",
    "image_df = pd.read_pickle(r'visual_well_being_pickle_format/image_data.pickle') #feather.read_dataframe('data_science_case/image_data.feather')\n",
    "metrics_df = pd.read_pickle(r'visual_well_being_pickle_format/image_metrics.pickle') #feather.read_dataframe('data_science_case/image_metrics.feather')\n",
    "object_labels_df = pd.read_pickle(r'visual_well_being_pickle_format/object_labels.pickle') #feather.read_dataframe('data_science_case/object_labels.feather')\n",
    "survey_df = pd.read_pickle(r'visual_well_being_pickle_format/survey.pickle') #feather.read_dataframe('data_science_case/survey.feather')"
   ]
  },
  {
   "cell_type": "markdown",
   "metadata": {},
   "source": [
    "---\n",
    "# Categorical Variables: One hot encoding"
   ]
  },
  {
   "cell_type": "code",
   "execution_count": 42,
   "metadata": {},
   "outputs": [],
   "source": [
    "def hot_encode_df(df, cols):\n",
    "    for c in cols:\n",
    "        dummy_col = pd.get_dummies(df[c], prefix=c)\n",
    "        df = pd.concat([df, dummy_col], axis=1)\n",
    "        df.drop(c, axis=1, inplace=True)\n",
    "        \n",
    "    return df"
   ]
  },
  {
   "cell_type": "code",
   "execution_count": 43,
   "metadata": {
    "scrolled": true
   },
   "outputs": [],
   "source": [
    "# For each dataframe, I selected the categorical columns that make sense to include. \n",
    "# If a dataframe is not below is because it doesn't have any cat. columns or any that make sense.\n",
    "\n",
    "face_df_cat = ['face_gender', 'face_sunglasses', 'face_smile', 'face_emo']\n",
    "anp_df_cat = ['emotion_label']\n",
    "image_df_cat = ['image_filter']\n",
    "survey_df_cat = ['gender', 'employed', 'participate', 'completed', 'private_account']\n",
    "\n",
    "new_face_df = hot_encode_df(face_df, face_df_cat)\n",
    "new_anp_df = hot_encode_df(anp_df, anp_df_cat)\n",
    "new_image_df = hot_encode_df(image_df, image_df_cat)\n",
    "new_survey_df = hot_encode_df(survey_df, survey_df_cat)"
   ]
  },
  {
   "cell_type": "code",
   "execution_count": null,
   "metadata": {},
   "outputs": [],
   "source": []
  }
 ],
 "metadata": {
  "kernelspec": {
   "display_name": "Python 3",
   "language": "python",
   "name": "python3"
  },
  "language_info": {
   "codemirror_mode": {
    "name": "ipython",
    "version": 3
   },
   "file_extension": ".py",
   "mimetype": "text/x-python",
   "name": "python",
   "nbconvert_exporter": "python",
   "pygments_lexer": "ipython3",
   "version": "3.7.3"
  }
 },
 "nbformat": 4,
 "nbformat_minor": 2
}
