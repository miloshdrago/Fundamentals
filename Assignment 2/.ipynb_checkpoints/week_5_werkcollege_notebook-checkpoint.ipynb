{
 "cells": [
  {
   "cell_type": "markdown",
   "metadata": {},
   "source": [
    "# Fundamentals of Data Science - Week 5\n",
    "\n",
    "###  <span style='color: green'>Use case 2: Business - assignment at bottom of the notebook. Due date: 11/10/19 23:59</span> "
   ]
  },
  {
   "cell_type": "markdown",
   "metadata": {},
   "source": [
    "In this notebook, the first section is going to cover the following practical aspects of data science:\n",
    "+ Creating a Linear Regression model\n",
    "+ Predicting the model on unseen data and calculating error on the predicted score vs orginal score\n",
    "+ Create a simple linear regression (with a single variable and a target) on the Diabetes dataset\n",
    "+ Fit a linear model on the data and plot it\n",
    "+ Create multivariate linear regression to predict house prices in Boston\n",
    "+ Plot correlation between variables, predicted price vs original price and calculate mean square errors \n"
   ]
  },
  {
   "cell_type": "code",
   "execution_count": 1,
   "metadata": {},
   "outputs": [],
   "source": [
    "import pandas as pd\n",
    "\n",
    "import matplotlib.pyplot as plt\n",
    "import numpy as np\n",
    "from sklearn import datasets, linear_model\n",
    "from sklearn.metrics import mean_squared_error, r2_score\n"
   ]
  },
  {
   "cell_type": "markdown",
   "metadata": {},
   "source": [
    "<h3> Single Variable Linear regression </h3>"
   ]
  },
  {
   "cell_type": "code",
   "execution_count": 2,
   "metadata": {},
   "outputs": [
    {
     "data": {
      "text/html": [
       "<div>\n",
       "<style scoped>\n",
       "    .dataframe tbody tr th:only-of-type {\n",
       "        vertical-align: middle;\n",
       "    }\n",
       "\n",
       "    .dataframe tbody tr th {\n",
       "        vertical-align: top;\n",
       "    }\n",
       "\n",
       "    .dataframe thead th {\n",
       "        text-align: right;\n",
       "    }\n",
       "</style>\n",
       "<table border=\"1\" class=\"dataframe\">\n",
       "  <thead>\n",
       "    <tr style=\"text-align: right;\">\n",
       "      <th></th>\n",
       "      <th>feature</th>\n",
       "      <th>Target</th>\n",
       "    </tr>\n",
       "  </thead>\n",
       "  <tbody>\n",
       "    <tr>\n",
       "      <td>0</td>\n",
       "      <td>[0.0616962065186885]</td>\n",
       "      <td>151.0</td>\n",
       "    </tr>\n",
       "    <tr>\n",
       "      <td>1</td>\n",
       "      <td>[-0.0514740612388061]</td>\n",
       "      <td>75.0</td>\n",
       "    </tr>\n",
       "    <tr>\n",
       "      <td>2</td>\n",
       "      <td>[0.0444512133365941]</td>\n",
       "      <td>141.0</td>\n",
       "    </tr>\n",
       "    <tr>\n",
       "      <td>3</td>\n",
       "      <td>[-0.0115950145052127]</td>\n",
       "      <td>206.0</td>\n",
       "    </tr>\n",
       "    <tr>\n",
       "      <td>4</td>\n",
       "      <td>[-0.0363846922044735]</td>\n",
       "      <td>135.0</td>\n",
       "    </tr>\n",
       "    <tr>\n",
       "      <td>...</td>\n",
       "      <td>...</td>\n",
       "      <td>...</td>\n",
       "    </tr>\n",
       "    <tr>\n",
       "      <td>437</td>\n",
       "      <td>[0.0196615356373334]</td>\n",
       "      <td>178.0</td>\n",
       "    </tr>\n",
       "    <tr>\n",
       "      <td>438</td>\n",
       "      <td>[-0.0159062628007364]</td>\n",
       "      <td>104.0</td>\n",
       "    </tr>\n",
       "    <tr>\n",
       "      <td>439</td>\n",
       "      <td>[-0.0159062628007364]</td>\n",
       "      <td>132.0</td>\n",
       "    </tr>\n",
       "    <tr>\n",
       "      <td>440</td>\n",
       "      <td>[0.0390621529671896]</td>\n",
       "      <td>220.0</td>\n",
       "    </tr>\n",
       "    <tr>\n",
       "      <td>441</td>\n",
       "      <td>[-0.0730303027164241]</td>\n",
       "      <td>57.0</td>\n",
       "    </tr>\n",
       "  </tbody>\n",
       "</table>\n",
       "<p>442 rows × 2 columns</p>\n",
       "</div>"
      ],
      "text/plain": [
       "                   feature  Target\n",
       "0     [0.0616962065186885]   151.0\n",
       "1    [-0.0514740612388061]    75.0\n",
       "2     [0.0444512133365941]   141.0\n",
       "3    [-0.0115950145052127]   206.0\n",
       "4    [-0.0363846922044735]   135.0\n",
       "..                     ...     ...\n",
       "437   [0.0196615356373334]   178.0\n",
       "438  [-0.0159062628007364]   104.0\n",
       "439  [-0.0159062628007364]   132.0\n",
       "440   [0.0390621529671896]   220.0\n",
       "441  [-0.0730303027164241]    57.0\n",
       "\n",
       "[442 rows x 2 columns]"
      ]
     },
     "execution_count": 2,
     "metadata": {},
     "output_type": "execute_result"
    }
   ],
   "source": [
    "# Load the diabetes dataset\n",
    "diabetes = datasets.load_diabetes()\n",
    "\n",
    "# Use only one feature\n",
    "diabetes_X = diabetes.data[:, np.newaxis, 2]\n",
    "#Construct a data frame that contains features and estimated coefficients.\n",
    "pd.DataFrame(list(zip(diabetes_X, diabetes.target)), columns = ['feature', 'Target'])"
   ]
  },
  {
   "cell_type": "code",
   "execution_count": 3,
   "metadata": {},
   "outputs": [
    {
     "name": "stdout",
     "output_type": "stream",
     "text": [
      "Coefficients: \n",
      " [938.23786125]\n",
      "Mean squared error: 2548.07\n",
      "Variance score: 0.47\n"
     ]
    },
    {
     "data": {
      "image/png": "[encoded data removed]",
      "text/plain": [
       "<Figure size 432x288 with 1 Axes>"
      ]
     },
     "metadata": {},
     "output_type": "display_data"
    }
   ],
   "source": [
    "# Split the data into training/testing sets\n",
    "diabetes_X_train = diabetes_X[:-20]\n",
    "diabetes_X_test = diabetes_X[-20:]\n",
    "\n",
    "# Split the targets into training/testing sets\n",
    "diabetes_y_train = diabetes.target[:-20]\n",
    "diabetes_y_test = diabetes.target[-20:]\n",
    "\n",
    "# Create linear regression object\n",
    "regr = linear_model.LinearRegression()\n",
    "\n",
    "# Train the model using the training sets\n",
    "regr.fit(diabetes_X_train, diabetes_y_train)\n",
    "\n",
    "# Make predictions using the testing set\n",
    "diabetes_y_pred = regr.predict(diabetes_X_test)\n",
    "\n",
    "# The coefficients\n",
    "print('Coefficients: \\n', regr.coef_)\n",
    "# The mean squared error\n",
    "print(\"Mean squared error: %.2f\"\n",
    "      % mean_squared_error(diabetes_y_test, diabetes_y_pred))\n",
    "# Explained variance score: 1 is perfect prediction\n",
    "print('Variance score: %.2f' % r2_score(diabetes_y_test, diabetes_y_pred))\n",
    "\n",
    "# Plot outputs\n",
    "plt.scatter(diabetes_X_test, diabetes_y_test,  color='black')\n",
    "plt.plot(diabetes_X_test, diabetes_y_pred, color='blue', linewidth=3)\n",
    "plt.xlabel(\"Features\")\n",
    "plt.ylabel(\"Target Values\")\n",
    "plt.title(\"Plot of original target (black dots) and the linearly fit model(blue line)\")\n",
    "\n",
    "plt.xticks(())\n",
    "plt.yticks(())\n",
    "\n",
    "\n",
    "plt.show()"
   ]
  },
  {
   "cell_type": "markdown",
   "metadata": {},
   "source": [
    "<h3> Multivariate Regression: Predicting house prices in Boston  </h3>"
   ]
  },
  {
   "cell_type": "code",
   "execution_count": null,
   "metadata": {},
   "outputs": [],
   "source": [
    "#Import Boston data set and store it in a variable called boston\n",
    "\n",
    "from sklearn.datasets import load_boston\n",
    "boston = load_boston()\n",
    "\n",
    "#The object boston is a dictionary, so you can explore the keys of this dictionary and the shape of the key -'data'\n",
    "print(boston.keys())\n",
    "print(boston.data.shape)"
   ]
  },
  {
   "cell_type": "markdown",
   "metadata": {},
   "source": [
    "Before starting the analysis it is always good to delve into the data. First, we look into the feature names\n",
    "of boston data set. We can also see the description of this data set to know more about it. In this  data set there are 506 instances(rows) and 13 attributes or parameters(columns). The goal of this exercise is to predict the  housing prices in boston region using the features given.\n"
   ]
  },
  {
   "cell_type": "code",
   "execution_count": null,
   "metadata": {},
   "outputs": [],
   "source": [
    "print(boston.feature_names)\n",
    "print(boston.DESCR)"
   ]
  },
  {
   "cell_type": "markdown",
   "metadata": {},
   "source": [
    "<h4> Convert <i> boston.data </i> into a pandas data frame. <h4>"
   ]
  },
  {
   "cell_type": "code",
   "execution_count": null,
   "metadata": {},
   "outputs": [],
   "source": [
    "bos = pd.DataFrame(boston.data)\n",
    "bos.head()"
   ]
  },
  {
   "cell_type": "code",
   "execution_count": null,
   "metadata": {},
   "outputs": [],
   "source": [
    "#As we can see the column names are just numbers, so to replace those numbers with the feature names.\n",
    "\n",
    "bos.columns = boston.feature_names\n",
    "bos.head()"
   ]
  },
  {
   "cell_type": "code",
   "execution_count": null,
   "metadata": {},
   "outputs": [],
   "source": [
    "#boston.target contains the housing prices. We need to add add one more column 'PRICE' to the dataframe for the target.\n",
    "bos['PRICE'] = boston.target\n",
    "bos.head()"
   ]
  },
  {
   "cell_type": "markdown",
   "metadata": {},
   "source": [
    "We are now going to  fit a linear regression model and predict the Boston housing prices. We will use the least squares method as the way to estimate the coefficients.\n",
    "\n",
    "Y = boston housing price(also called “target” data in Python)\n",
    "\n",
    "and\n",
    "\n",
    "X = all the other features (or independent variables)\n",
    "\n",
    "First, import linear regression from sci-kit learn module. Then we need to drop the price column as we want only the parameters as our X values and store linear regression object in a variable called <i>lm</i>."
   ]
  },
  {
   "cell_type": "code",
   "execution_count": null,
   "metadata": {},
   "outputs": [],
   "source": [
    "from sklearn.linear_model import LinearRegression\n",
    "X = bos.drop('PRICE', axis = 1)\n",
    "\n",
    "#This creates a LinearRegression object\n",
    "lm = LinearRegression()\n",
    "lm"
   ]
  },
  {
   "cell_type": "markdown",
   "metadata": {},
   "source": [
    "<h4> Fitting a Linear Model </h4> We will use all 13 parameters to fit a linear regression model. Two other parameters that we can pass to linear regression object are <i>fit_intercept</i> and <i>normalize</i>."
   ]
  },
  {
   "cell_type": "code",
   "execution_count": null,
   "metadata": {},
   "outputs": [],
   "source": [
    "lm.fit(X, bos.PRICE)\n",
    "#print the intercept and number of coefficients.\n",
    "print('Estimated intercept coefficient:', lm.intercept_)\n",
    "print('Number of coefficients:', len(lm.coef_))"
   ]
  },
  {
   "cell_type": "code",
   "execution_count": null,
   "metadata": {},
   "outputs": [],
   "source": [
    "#Construct a data frame that contains features and estimated coefficients.\n",
    "pd.DataFrame(list(zip(X.columns, lm.coef_)), columns = ['features', 'estimatedCoefficients'])"
   ]
  },
  {
   "cell_type": "markdown",
   "metadata": {},
   "source": [
    "As can be seen from the data frame that there is a high correlation between RM and prices. Lets plot a scatter plot between True housing prices and True RM."
   ]
  },
  {
   "cell_type": "code",
   "execution_count": null,
   "metadata": {},
   "outputs": [],
   "source": [
    "plt.scatter(bos.RM, bos.PRICE)\n",
    "plt.xlabel(\"Average number of rooms per dwelling (RM)\")\n",
    "plt.ylabel(\"Housing Price\")\n",
    "plt.title(\"Relationship between RM and Price\")\n",
    "plt.show()\n",
    "# As can be seen that there is a positive correlation between RM and housing prices."
   ]
  },
  {
   "cell_type": "markdown",
   "metadata": {},
   "source": [
    "<h4> Predicting Prices </h4> To calculate the predicted prices (Y_i) we use <i>lm.predict</i>. Then we print the first 5 housing prices predicted by our model. We then plot a scatter plot to compare true prices vs the predicted prices."
   ]
  },
  {
   "cell_type": "code",
   "execution_count": null,
   "metadata": {},
   "outputs": [],
   "source": [
    "lm.predict(X)[0:5]"
   ]
  },
  {
   "cell_type": "code",
   "execution_count": null,
   "metadata": {},
   "outputs": [],
   "source": [
    "plt.scatter(bos.PRICE, lm.predict(X))\n",
    "plt.xlabel(\"Prices: $Y_i$\")\n",
    "plt.ylabel(\"Predicted prices: $\\hat{Y}_i$\")\n",
    "plt.title(\"Prices vs Predicted Prices: $Y_i$ vs $\\hat{Y}_i$\")\n",
    "plt.show()"
   ]
  },
  {
   "cell_type": "code",
   "execution_count": null,
   "metadata": {},
   "outputs": [],
   "source": [
    "#We can notice that there is some error in  the prediction as the housing prices increase.\n",
    "#Lets calculate the mean squared error.\n",
    "mseFull = np.mean((bos.PRICE - lm.predict(X))** 2)\n",
    "print(mseFull)"
   ]
  },
  {
   "cell_type": "markdown",
   "metadata": {},
   "source": [
    "But if we fit linear regression for <b>one feature</b> the error will be very high. Lets take the feature ‘PTRATIO’ and calculate the mean squared error."
   ]
  },
  {
   "cell_type": "code",
   "execution_count": null,
   "metadata": {},
   "outputs": [],
   "source": [
    "lm = LinearRegression()\n",
    "lm.fit(X[['PTRATIO']], bos.PRICE)\n",
    "\n",
    "msePTRATIO = np.mean((bos.PRICE - lm.predict(X[['PTRATIO']]))** 2)\n",
    "print(msePTRATIO)"
   ]
  },
  {
   "cell_type": "markdown",
   "metadata": {},
   "source": [
    "The <b>mean squared error</b> has increased. So this shows that a single feature is not a good predictor of housing prices.\n",
    "\n",
    "<b> To-Do 1: Make a train-test split and calculate the mean squared error for training data and test data. </b>\n",
    "\n",
    "<b> To-Do 2: Plot the residuals for training and test datasets </b>\n"
   ]
  },
  {
   "cell_type": "code",
   "execution_count": null,
   "metadata": {},
   "outputs": [],
   "source": []
  },
  {
   "cell_type": "code",
   "execution_count": null,
   "metadata": {},
   "outputs": [],
   "source": []
  },
  {
   "cell_type": "markdown",
   "metadata": {},
   "source": [
    "## We now switch to working with wellness data from intagram\n",
    "You need to get the 'visual_well_being_pickle_format.zip' file from Canvas and unzip it to run the rest of this section. \n",
    "\n",
    "If for some reason the pickle format is not readable to you, you can try the feather format files found in visual_well_being_feather_format.zip . The data should be identical between formats. However, when I tried this on Windows 10, installing the relevant package - feather-format - destroyed my anaconda installation. Use at your own risk."
   ]
  },
  {
   "cell_type": "code",
   "execution_count": null,
   "metadata": {},
   "outputs": [],
   "source": [
    "#This line is only needed if you intend to use the feather format\n",
    "#import feather \n",
    "import numpy\n",
    "import pandas as pd\n",
    "import matplotlib.pyplot as plt\n",
    "from pandas.tools.plotting import scatter_matrix\n",
    "\n"
   ]
  },
  {
   "cell_type": "code",
   "execution_count": null,
   "metadata": {},
   "outputs": [],
   "source": [
    "#Read the individual data frames\n",
    "#The default is pickle format. If you are working with the feather format, then the comments on each line indicate how to use it\n",
    "anp_df = pd.read_pickle(r'anp.pickle') #feather.read_dataframe('data_science_case/anp.feather')\n",
    "face_df = pd.read_pickle(r'face.pickle') #feather.read_dataframe('data_science_case/face.feather')\n",
    "image_df = pd.read_pickle(r'image_data.pickle') #feather.read_dataframe('data_science_case/image_data.feather')\n",
    "metrics_df = pd.read_pickle(r'image_metrics.pickle') #feather.read_dataframe('data_science_case/image_metrics.feather')\n",
    "object_labels_df = pd.read_pickle(r'object_labels.pickle') #feather.read_dataframe('data_science_case/object_labels.feather')\n",
    "survey_df = pd.read_pickle(r'survey.pickle') #feather.read_dataframe('data_science_case/survey.feather')"
   ]
  },
  {
   "cell_type": "code",
   "execution_count": null,
   "metadata": {},
   "outputs": [],
   "source": [
    "# Merge them based on the image_id so that we have a large data frame containing all the elements\n",
    "\n",
    "image_anp_frame = pd.merge(image_df, anp_df, how='inner', on='image_id')\n",
    "im_anp_obj_frame = pd.merge(image_anp_frame, object_labels_df, how='inner', on='image_id')\n",
    "im_anp_obj_face_frame = pd.merge(im_anp_obj_frame, face_df, how='inner', on='image_id')\n",
    "im_anp_obj_face_frame = pd.merge(im_anp_obj_frame, face_df, how='inner', on='image_id')"
   ]
  },
  {
   "cell_type": "code",
   "execution_count": null,
   "metadata": {},
   "outputs": [],
   "source": [
    "# Calculate the correlation coefficients. Notice how the main diagonal is 1.00\n",
    "\n",
    "correlation_matrix = im_anp_obj_face_frame.corr()\n",
    "correlation_matrix"
   ]
  },
  {
   "cell_type": "markdown",
   "metadata": {},
   "source": [
    "<b>To-Do 3: Plot the correlation matrix with color codes corresponding to the how much two attributes are correlated.</b>\n",
    "\n",
    "<b>To-Do 4: Calculate the Spearman rank for the attributes. </b>"
   ]
  },
  {
   "cell_type": "code",
   "execution_count": null,
   "metadata": {},
   "outputs": [],
   "source": []
  },
  {
   "cell_type": "code",
   "execution_count": null,
   "metadata": {},
   "outputs": [],
   "source": []
  },
  {
   "cell_type": "markdown",
   "metadata": {},
   "source": [
    "# ASSIGNMENT\n",
    "\n",
    "Case Assignment: Predicting Well-being from Instagram data\n",
    "\n",
    "#### Introduction\n",
    "A growing proportion of social interactions are now mediated by digital services and devices. Such digitally mediated behaviors can easily be recorded and analyzed, fueling the emergence of computational marketing and social science. Researchers have used social media to predict individual and aggregated measures of heart attacks, political preference, personality and perhaps most importantly well-being. Well-being, which is defined as peoples’ positive evaluations of their lives, includes positive emotion, engagement, satisfaction, and meaning (Diener and Seligman, 2004). \n",
    "\n",
    "Previous research, however, has been based on text input, usually based on Facebook and Twitter. Your assignment is to assess the relationship between visual social media data, in this case Instagram, and well-being (Park et al 2016).  While a recent study (Reece and Danforth 2016) demonstrated a relationship between Instagram user posts and clinical markers of depression, no study has however looked at the relation between Instagram posts and well-being. Well-being is measured through a survey using the PERMA scale (Seligman 2012). Just like the “state” of an airplane is not given by a single indicator but instead by a variety of different indicators (altitude, speed, head-ing, fuel consumption)  — well-being is best measured as separate, correlated dimensions, Positive  Emotions,  Engagement,  Relationships,  Meaning,  and Accomplish (PERMA). \n",
    "\n",
    "#### Data\n",
    "Users from crowdsourcing platforms (Mechanical Turk and Microwork) where asked to login with their Instagram account and fill out the survey including the PERMA scale. Next we extracted all images a user posted and extracted different features for each image. Please see the data document for a description of individual variables. \n",
    "\n",
    "#### Assignment\n",
    "Your assignment is to assess the nature of the relationship between user Instagram activity and the content of the images and their well-being. At your disposal you have data on the user, images and their metadata and features extracted from the images (e.g. sentiment, faces). \n",
    "\n",
    "In your analysis consider the individual aspects of well-being (separate PERMA factors) as well a the PERMA score itself. Consider the hierarchical relationship between the predictor variables (user -> images -> image features) and please note that the dependent variable only has 160 observations. (= filled out questionnaires) The sample size thus might require additional procedures to ensure you can draw confident conclusions from your analysis.\n",
    "\n",
    "References below might provide interesting methods for your analysis. \n",
    "\n",
    "#### Suggested starting point\n",
    "\n",
    "1. Split the data into training and testing splits\n",
    "2. Train a regressor to predict the PERMA scores on the test set using different sets of attributes (not all of them at once)\n",
    "3. Analyze which features (attributes) correlate well with each other and help in fitting the curve to the data better.\n",
    "4. Elaborate on the results.\n",
    "\n",
    "\n",
    "#### References\n",
    "\n",
    "Diener, Ed and Martin E. P. Seligman (2004), “Beyond Money: Toward an Economy of Well-Being,” Psychological Science in the Public Interest: A Journal of the American Psychological Society, 5, 1, 1–31.\n",
    "\n",
    "Park, G., D. Stillwell, and M. Kosinski (2016), “Predicting Individual Well-Being through the Language of Social Media,” : Proceedings of the …, davidstillwell.co.uk, http://www.davidstillwell.co.uk/articles/2016_predicting_wellbeing.pdf.\n",
    "\n",
    "Reece, Andrew G. and Christopher M. Danforth (2016), “Instagram Photos Reveal Predictive Markers of Depression,” arXiv [cs.SI], arXiv. http://arxiv.org/abs/1608.03282. \n",
    "\n",
    "Seligman, Martin E. P. (2012), Flourish: A Visionary New Understanding of Happiness and Well-Being, Simon and Schuster.\n",
    "\n",
    "\n"
   ]
  }
 ],
 "metadata": {
  "kernelspec": {
   "display_name": "Python 3",
   "language": "python",
   "name": "python3"
  },
  "language_info": {
   "codemirror_mode": {
    "name": "ipython",
    "version": 3
   },
   "file_extension": ".py",
   "mimetype": "text/x-python",
   "name": "python",
   "nbconvert_exporter": "python",
   "pygments_lexer": "ipython3",
   "version": "3.7.4"
  }
 },
 "nbformat": 4,
 "nbformat_minor": 2
}
