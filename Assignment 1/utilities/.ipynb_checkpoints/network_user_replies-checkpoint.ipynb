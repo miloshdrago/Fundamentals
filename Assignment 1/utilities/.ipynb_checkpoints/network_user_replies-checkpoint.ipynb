{
 "cells": [
  {
   "cell_type": "code",
   "execution_count": 1,
   "metadata": {},
   "outputs": [],
   "source": [
    "# dependencies\n",
    "import networkx as nx\n",
    "import pandas as pd\n",
    "import ast\n",
    "import matplotlib.pyplot as plt\n",
    "%matplotlib inline"
   ]
  },
  {
   "cell_type": "code",
   "execution_count": 2,
   "metadata": {},
   "outputs": [],
   "source": [
    "df = pd.read_csv('../datasets/user_replies.csv')"
   ]
  },
  {
   "cell_type": "code",
   "execution_count": 3,
   "metadata": {},
   "outputs": [
    {
     "data": {
      "text/html": [
       "<div>\n",
       "<style scoped>\n",
       "    .dataframe tbody tr th:only-of-type {\n",
       "        vertical-align: middle;\n",
       "    }\n",
       "\n",
       "    .dataframe tbody tr th {\n",
       "        vertical-align: top;\n",
       "    }\n",
       "\n",
       "    .dataframe thead th {\n",
       "        text-align: right;\n",
       "    }\n",
       "</style>\n",
       "<table border=\"1\" class=\"dataframe\">\n",
       "  <thead>\n",
       "    <tr style=\"text-align: right;\">\n",
       "      <th></th>\n",
       "      <th>user</th>\n",
       "      <th>replied_to</th>\n",
       "    </tr>\n",
       "  </thead>\n",
       "  <tbody>\n",
       "    <tr>\n",
       "      <td>0</td>\n",
       "      <td>100007790</td>\n",
       "      <td>['274218280']</td>\n",
       "    </tr>\n",
       "    <tr>\n",
       "      <td>1</td>\n",
       "      <td>1000153826</td>\n",
       "      <td>['25073877']</td>\n",
       "    </tr>\n",
       "    <tr>\n",
       "      <td>2</td>\n",
       "      <td>100025085</td>\n",
       "      <td>['1367531', '9300262', '1367531']</td>\n",
       "    </tr>\n",
       "    <tr>\n",
       "      <td>3</td>\n",
       "      <td>1000340761</td>\n",
       "      <td>['127375220', '1339835893']</td>\n",
       "    </tr>\n",
       "    <tr>\n",
       "      <td>4</td>\n",
       "      <td>100041840</td>\n",
       "      <td>['25073877', '25073877', '25073877', '25073877...</td>\n",
       "    </tr>\n",
       "    <tr>\n",
       "      <td>...</td>\n",
       "      <td>...</td>\n",
       "      <td>...</td>\n",
       "    </tr>\n",
       "    <tr>\n",
       "      <td>39599</td>\n",
       "      <td>999576338</td>\n",
       "      <td>['39689218']</td>\n",
       "    </tr>\n",
       "    <tr>\n",
       "      <td>39600</td>\n",
       "      <td>99959281</td>\n",
       "      <td>['116245566', '2468758092', '70555576253848780...</td>\n",
       "    </tr>\n",
       "    <tr>\n",
       "      <td>39601</td>\n",
       "      <td>99960562</td>\n",
       "      <td>['25073877', '809887021', '24578794', '2507387...</td>\n",
       "    </tr>\n",
       "    <tr>\n",
       "      <td>39602</td>\n",
       "      <td>999642914</td>\n",
       "      <td>['813286']</td>\n",
       "    </tr>\n",
       "    <tr>\n",
       "      <td>39603</td>\n",
       "      <td>99981345</td>\n",
       "      <td>['489596897']</td>\n",
       "    </tr>\n",
       "  </tbody>\n",
       "</table>\n",
       "<p>39604 rows × 2 columns</p>\n",
       "</div>"
      ],
      "text/plain": [
       "             user                                         replied_to\n",
       "0       100007790                                      ['274218280']\n",
       "1      1000153826                                       ['25073877']\n",
       "2       100025085                  ['1367531', '9300262', '1367531']\n",
       "3      1000340761                        ['127375220', '1339835893']\n",
       "4       100041840  ['25073877', '25073877', '25073877', '25073877...\n",
       "...           ...                                                ...\n",
       "39599   999576338                                       ['39689218']\n",
       "39600    99959281  ['116245566', '2468758092', '70555576253848780...\n",
       "39601    99960562  ['25073877', '809887021', '24578794', '2507387...\n",
       "39602   999642914                                         ['813286']\n",
       "39603    99981345                                      ['489596897']\n",
       "\n",
       "[39604 rows x 2 columns]"
      ]
     },
     "execution_count": 3,
     "metadata": {},
     "output_type": "execute_result"
    }
   ],
   "source": [
    "df"
   ]
  },
  {
   "cell_type": "code",
   "execution_count": 4,
   "metadata": {},
   "outputs": [],
   "source": [
    "df['replied_to'] = df['replied_to'].apply(lambda x: ast.literal_eval(x))\n",
    "df['user'] = df['user'].apply(str)"
   ]
  },
  {
   "cell_type": "code",
   "execution_count": 5,
   "metadata": {},
   "outputs": [],
   "source": [
    "# we need a graph\n",
    "G = nx.Graph()\n",
    "\n",
    "# we need a list of nodes and edges\n",
    "nodes = []\n",
    "edges = []\n",
    "\n",
    "# iterate over the users\n",
    "for index, row in df.iterrows():\n",
    "    user, replies = row.values\n",
    "    \n",
    "    # add the node to the nodes\n",
    "    nodes.append(user)\n",
    "    \n",
    "    # iterate over the replied to\n",
    "    for reply in replies:\n",
    "        edges.append((user, reply))\n",
    "        "
   ]
  },
  {
   "cell_type": "code",
   "execution_count": 6,
   "metadata": {},
   "outputs": [
    {
     "data": {
      "text/plain": [
       "(39604, 288486)"
      ]
     },
     "execution_count": 6,
     "metadata": {},
     "output_type": "execute_result"
    }
   ],
   "source": [
    "len(nodes), len(edges)"
   ]
  },
  {
   "cell_type": "code",
   "execution_count": 7,
   "metadata": {},
   "outputs": [],
   "source": [
    "G.add_nodes_from(nodes[:10])\n",
    "G.add_edges_from(edges[:10])"
   ]
  },
  {
   "cell_type": "code",
   "execution_count": 8,
   "metadata": {},
   "outputs": [
    {
     "name": "stderr",
     "output_type": "stream",
     "text": [
      "/usr/local/lib/python3.7/site-packages/networkx/drawing/nx_pylab.py:579: MatplotlibDeprecationWarning: \n",
      "The iterable function was deprecated in Matplotlib 3.1 and will be removed in 3.3. Use np.iterable instead.\n",
      "  if not cb.iterable(width):\n"
     ]
    },
    {
     "data": {
      "image/png": "[encoded data removed]",
      "text/plain": [
       "<Figure size 432x288 with 1 Axes>"
      ]
     },
     "metadata": {},
     "output_type": "display_data"
    }
   ],
   "source": [
    "nx.draw(G)\n",
    "plt.show()"
   ]
  },
  {
   "cell_type": "code",
   "execution_count": null,
   "metadata": {},
   "outputs": [],
   "source": []
  }
 ],
 "metadata": {
  "kernelspec": {
   "display_name": "Python 3",
   "language": "python",
   "name": "python3"
  },
  "language_info": {
   "codemirror_mode": {
    "name": "ipython",
    "version": 3
   },
   "file_extension": ".py",
   "mimetype": "text/x-python",
   "name": "python",
   "nbconvert_exporter": "python",
   "pygments_lexer": "ipython3",
   "version": "3.7.4"
  }
 },
 "nbformat": 4,
 "nbformat_minor": 2
}
