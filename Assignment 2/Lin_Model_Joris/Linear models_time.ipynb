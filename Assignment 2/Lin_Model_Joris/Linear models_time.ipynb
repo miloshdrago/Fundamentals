{
 "cells": [
  {
   "cell_type": "markdown",
   "metadata": {},
   "source": [
    "# Linear Model Testing & Evaluation"
   ]
  },
  {
   "cell_type": "code",
   "execution_count": 32,
   "metadata": {},
   "outputs": [],
   "source": [
    "# Dependencies\n",
    "import pandas as pd\n",
    "from sklearn.feature_selection import VarianceThreshold\n",
    "from sklearn import preprocessing\n",
    "import matplotlib.pyplot as plt\n",
    "from sklearn.linear_model import LinearRegression, Lasso\n",
    "from sklearn.svm import SVR\n",
    "from sklearn.metrics import mean_squared_error, r2_score\n",
    "from sklearn.model_selection import train_test_split, cross_val_score, GridSearchCV\n",
    "import numpy as np\n",
    "from mlxtend.feature_selection import SequentialFeatureSelector as SFS\n",
    "from mlxtend.plotting import plot_sequential_feature_selection as plot_sfs\n",
    "import math\n",
    "import seaborn as sns\n",
    "import pickle"
   ]
  },
  {
   "cell_type": "code",
   "execution_count": 12,
   "metadata": {},
   "outputs": [
    {
     "data": {
      "text/plain": [
       "'/Users/Joris/Documents/Studie/Information Studies/FDS/Assignment 2/Lin_Model_Joris'"
      ]
     },
     "execution_count": 12,
     "metadata": {},
     "output_type": "execute_result"
    }
   ],
   "source": [
    "os.getcwd()"
   ]
  },
  {
   "cell_type": "code",
   "execution_count": 42,
   "metadata": {},
   "outputs": [],
   "source": [
    "# Location files\n",
    "features_loc = \"../dataset/time_scored/train_feat_cleaned.pickle\"\n",
    "target_loc = \"../dataset/time_scored/train_target_cleaned.pickle\""
   ]
  },
  {
   "cell_type": "code",
   "execution_count": 43,
   "metadata": {},
   "outputs": [],
   "source": [
    "features_df = pd.read_pickle(features_loc)\n",
    "target_df = pd.read_pickle(target_loc)"
   ]
  },
  {
   "cell_type": "code",
   "execution_count": 15,
   "metadata": {},
   "outputs": [
    {
     "data": {
      "text/html": [
       "<div>\n",
       "<style scoped>\n",
       "    .dataframe tbody tr th:only-of-type {\n",
       "        vertical-align: middle;\n",
       "    }\n",
       "\n",
       "    .dataframe tbody tr th {\n",
       "        vertical-align: top;\n",
       "    }\n",
       "\n",
       "    .dataframe thead th {\n",
       "        text-align: right;\n",
       "    }\n",
       "</style>\n",
       "<table border=\"1\" class=\"dataframe\">\n",
       "  <thead>\n",
       "    <tr style=\"text-align: right;\">\n",
       "      <th></th>\n",
       "      <th>id</th>\n",
       "      <th>gender</th>\n",
       "      <th>born</th>\n",
       "      <th>education</th>\n",
       "      <th>employed</th>\n",
       "      <th>income</th>\n",
       "      <th>A_2</th>\n",
       "      <th>N_1</th>\n",
       "      <th>P_1</th>\n",
       "      <th>E_1</th>\n",
       "      <th>...</th>\n",
       "      <th>P</th>\n",
       "      <th>E</th>\n",
       "      <th>R</th>\n",
       "      <th>M</th>\n",
       "      <th>A</th>\n",
       "      <th>PERMA</th>\n",
       "      <th>N_EMO</th>\n",
       "      <th>P_EMO</th>\n",
       "      <th>imagecount</th>\n",
       "      <th>private_account</th>\n",
       "    </tr>\n",
       "  </thead>\n",
       "  <tbody>\n",
       "  </tbody>\n",
       "</table>\n",
       "<p>0 rows × 45 columns</p>\n",
       "</div>"
      ],
      "text/plain": [
       "Empty DataFrame\n",
       "Columns: [id, gender, born, education, employed, income, A_2, N_1, P_1, E_1, A_1, H_1, M_1, R_1, M_2, E_2, LON, H_2, P_2, N_2, A_3, N_3, E_3, H_3, R_2, M_3, R_3, P_3, HAP, participate, insta_user_id, completed, start_q, end_q, network_id, P, E, R, M, A, PERMA, N_EMO, P_EMO, imagecount, private_account]\n",
       "Index: []\n",
       "\n",
       "[0 rows x 45 columns]"
      ]
     },
     "execution_count": 15,
     "metadata": {},
     "output_type": "execute_result"
    }
   ],
   "source": [
    "target_df[target_df[\"PERMA\"].isna()]"
   ]
  },
  {
   "cell_type": "code",
   "execution_count": 16,
   "metadata": {},
   "outputs": [
    {
     "data": {
      "text/plain": [
       "Index(['id', 'gender', 'born', 'education', 'employed', 'income', 'A_2', 'N_1',\n",
       "       'P_1', 'E_1', 'A_1', 'H_1', 'M_1', 'R_1', 'M_2', 'E_2', 'LON', 'H_2',\n",
       "       'P_2', 'N_2', 'A_3', 'N_3', 'E_3', 'H_3', 'R_2', 'M_3', 'R_3', 'P_3',\n",
       "       'HAP', 'participate', 'insta_user_id', 'completed', 'start_q', 'end_q',\n",
       "       'network_id', 'P', 'E', 'R', 'M', 'A', 'PERMA', 'N_EMO', 'P_EMO',\n",
       "       'imagecount', 'private_account'],\n",
       "      dtype='object')"
      ]
     },
     "execution_count": 16,
     "metadata": {},
     "output_type": "execute_result"
    }
   ],
   "source": [
    "target_df.columns"
   ]
  },
  {
   "cell_type": "code",
   "execution_count": 17,
   "metadata": {},
   "outputs": [
    {
     "name": "stdout",
     "output_type": "stream",
     "text": [
      "['A_1', 'A_2', 'A_3', 'E_1', 'E_2', 'E_3', 'HAP', 'M_1', 'M_2', 'M_3', 'P_1', 'P_2', 'P_3', 'R_1', 'R_2', 'R_3']\n"
     ]
    }
   ],
   "source": [
    "# Create vector for columns of questions\n",
    "questions = list(target_df.columns[6:29])\n",
    "questions.remove('LON')\n",
    "questions = [q for q in questions if q not in ('LON', 'N_1', 'N_2', 'N_3','H_1', 'H_2', 'H_3')]\n",
    "questions.sort()\n",
    "print(questions)"
   ]
  },
  {
   "cell_type": "code",
   "execution_count": 18,
   "metadata": {},
   "outputs": [
    {
     "data": {
      "text/plain": [
       "1.0"
      ]
     },
     "execution_count": 18,
     "metadata": {},
     "output_type": "execute_result"
    }
   ],
   "source": [
    "# Check if all individual questions aa up to the PERMA score\n",
    "(target_df[questions].mean(axis = 1) == target_df[\"PERMA\"]).mean()"
   ]
  },
  {
   "cell_type": "code",
   "execution_count": 19,
   "metadata": {},
   "outputs": [
    {
     "name": "stdout",
     "output_type": "stream",
     "text": [
      "0 0\n"
     ]
    }
   ],
   "source": [
    "# Check missing values\n",
    "print(features_df.isnull().sum().sum(), \n",
    "      target_df.isnull().sum().sum())"
   ]
  },
  {
   "cell_type": "code",
   "execution_count": 20,
   "metadata": {},
   "outputs": [
    {
     "name": "stdout",
     "output_type": "stream",
     "text": [
      "R^2: -7.12633605570154\n",
      "Root Mean Squared Error: 4.33079276809014\n"
     ]
    }
   ],
   "source": [
    "# Basic linear model with all features\n",
    "\n",
    "# Create training and test sets\n",
    "X_train, X_test, y_train, y_test = train_test_split(features_df, target_df[\"PERMA\"], test_size = 0.20, random_state=10)\n",
    "\n",
    "# Create the regressor: reg_all\n",
    "reg_all = LinearRegression()\n",
    "\n",
    "# Fit the regressor to the training data\n",
    "reg_all.fit(X_train, y_train)\n",
    "\n",
    "# Predict on the test data: y_pred\n",
    "y_pred = reg_all.predict(X_test)\n",
    "\n",
    "# Compute and print R^2 and RMSE\n",
    "print(\"R^2: {}\".format(reg_all.score(X_test, y_test)))\n",
    "rmse = np.sqrt(mean_squared_error(y_test, y_pred))\n",
    "print(\"Root Mean Squared Error: {}\".format(rmse))\n"
   ]
  },
  {
   "cell_type": "markdown",
   "metadata": {},
   "source": [
    "Full model gets a negative r^2, so reaaly bad."
   ]
  },
  {
   "cell_type": "code",
   "execution_count": 21,
   "metadata": {},
   "outputs": [
    {
     "name": "stdout",
     "output_type": "stream",
     "text": [
      "[-3.89935329e-01 -1.13319438e-01 -3.35003899e-01 -7.92201249e-01\n",
      " -2.00393283e+02]\n",
      "Average 5-Fold CV Score: -40.40474850592336\n"
     ]
    }
   ],
   "source": [
    "# Try a number of times using Cross validation\n",
    "# Not for report\n",
    "\n",
    "# Create a linear regression object: reg\n",
    "reg = LinearRegression()\n",
    "\n",
    "# Compute 5-fold cross-validation scores: cv_scores\n",
    "cv_scores = cross_val_score(reg, features_df, target_df[\"PERMA\"], cv = 5)\n",
    "\n",
    "# Print the 5-fold cross-validation scores\n",
    "print(cv_scores)\n",
    "\n",
    "print(\"Average 5-Fold CV Score: {}\".format(np.mean(cv_scores)))\n"
   ]
  },
  {
   "cell_type": "code",
   "execution_count": 22,
   "metadata": {},
   "outputs": [
    {
     "name": "stdout",
     "output_type": "stream",
     "text": [
      "Tuned Logistic Regression Parameters: {'alpha': 0.06999999999999999}\n",
      "Best score is -0.03828511360479989\n"
     ]
    },
    {
     "name": "stderr",
     "output_type": "stream",
     "text": [
      "/Users/Joris/anaconda3/lib/python3.7/site-packages/sklearn/model_selection/_search.py:814: DeprecationWarning: The default of the `iid` parameter will change from True to False in version 0.22 and will be removed in 0.24. This will change numeric results when test-set sizes are unequal.\n",
      "  DeprecationWarning)\n"
     ]
    }
   ],
   "source": [
    "# Trying a Lasso Regression\n",
    "X = features_df\n",
    "y = target_df[\"PERMA\"]\n",
    "\n",
    "a_space = np.linspace(0.01, 1, 100)\n",
    "param_grid = {'alpha': a_space}\n",
    "# Instantiate a lasso regressor: lasso\n",
    "lasso = Lasso()\n",
    "\n",
    "# Instantiate the GridSearchCV object: logreg_cv\n",
    "lasso_cv = GridSearchCV(lasso, param_grid, cv=10)\n",
    "\n",
    "# Fit the regressor to the data\n",
    "lasso_cv.fit(X, y)\n",
    "\n",
    "# Print the tuned parameters and score\n",
    "print(\"Tuned Logistic Regression Parameters: {}\".format(lasso_cv.best_params_)) \n",
    "print(\"Best score is {}\".format(lasso_cv.best_score_))\n"
   ]
  },
  {
   "cell_type": "code",
   "execution_count": 23,
   "metadata": {},
   "outputs": [],
   "source": [
    "# Use MLXtend package to automaticly do forward feature selection\n",
    "\n",
    "X = features_df\n",
    "y = target_df[\"PERMA\"]\n",
    "\n",
    "lr = LinearRegression()\n",
    "\n",
    "sfs = SFS(lr, \n",
    "          k_features=\"best\", \n",
    "          forward=True, \n",
    "          floating=False, \n",
    "          scoring='r2',\n",
    "          cv=10)\n",
    "\n",
    "sfs = sfs.fit(X, y)"
   ]
  },
  {
   "cell_type": "code",
   "execution_count": 60,
   "metadata": {},
   "outputs": [
    {
     "data": {
      "image/png": "[encoded data removed]",
      "text/plain": [
       "<Figure size 576x432 with 1 Axes>"
      ]
     },
     "metadata": {
      "needs_background": "light"
     },
     "output_type": "display_data"
    }
   ],
   "source": [
    "fig = plot_sfs(sfs.get_metric_dict(), kind='ci', figsize= (8,6))\n",
    "\n",
    "plt.ylim(-1,1)\n",
    "plt.title('Sequential Forward Feature Selection for\\n time-penalized Linear Regression (w. CI)')\n",
    "plt.ylabel(\"Performance (R^2)\")\n",
    "plt.grid()\n",
    "# plt.show()\n",
    "plt.savefig(\"../images/LR_Forward_Selection-time.png\")"
   ]
  },
  {
   "cell_type": "code",
   "execution_count": 25,
   "metadata": {
    "scrolled": false
   },
   "outputs": [
    {
     "name": "stdout",
     "output_type": "stream",
     "text": [
      "Amount chosen\n",
      "13\n",
      "CV score:\n",
      "0.16473305317010006\n",
      "Best features:\n",
      "user_posted_photos\n",
      "face_emotion_CALM\n",
      "face_emotion_CONFUSED\n",
      "facial_hear\n",
      "unkown_gender\n",
      "male\n",
      "anp_sentiment\n",
      "emotion_label_annoyance\n",
      "emotion_label_disgust\n",
      "emotion_label_pensiveness\n",
      "emotion_label_rage\n",
      "emotion_label_sadness\n",
      "emotion_label_terror\n"
     ]
    },
    {
     "data": {
      "text/html": [
       "<div>\n",
       "<style scoped>\n",
       "    .dataframe tbody tr th:only-of-type {\n",
       "        vertical-align: middle;\n",
       "    }\n",
       "\n",
       "    .dataframe tbody tr th {\n",
       "        vertical-align: top;\n",
       "    }\n",
       "\n",
       "    .dataframe thead th {\n",
       "        text-align: right;\n",
       "    }\n",
       "</style>\n",
       "<table border=\"1\" class=\"dataframe\">\n",
       "  <thead>\n",
       "    <tr style=\"text-align: right;\">\n",
       "      <th></th>\n",
       "      <th>feature_idx</th>\n",
       "      <th>cv_scores</th>\n",
       "      <th>avg_score</th>\n",
       "      <th>feature_names</th>\n",
       "      <th>ci_bound</th>\n",
       "      <th>std_dev</th>\n",
       "      <th>std_err</th>\n",
       "    </tr>\n",
       "  </thead>\n",
       "  <tbody>\n",
       "    <tr>\n",
       "      <td>1</td>\n",
       "      <td>(36,)</td>\n",
       "      <td>[0.04184606879753061, 0.03301993718397411, -0....</td>\n",
       "      <td>-0.0188204</td>\n",
       "      <td>(emotion_label_rage,)</td>\n",
       "      <td>0.0699055</td>\n",
       "      <td>0.0941219</td>\n",
       "      <td>0.031374</td>\n",
       "    </tr>\n",
       "    <tr>\n",
       "      <td>2</td>\n",
       "      <td>(36, 37)</td>\n",
       "      <td>[0.08465552488387929, -0.03004561690683083, 0....</td>\n",
       "      <td>0.000567345</td>\n",
       "      <td>(emotion_label_rage, emotion_label_sadness)</td>\n",
       "      <td>0.121839</td>\n",
       "      <td>0.164046</td>\n",
       "      <td>0.054682</td>\n",
       "    </tr>\n",
       "    <tr>\n",
       "      <td>3</td>\n",
       "      <td>(3, 36, 37)</td>\n",
       "      <td>[0.19612938048999573, -0.24936370658007911, 0....</td>\n",
       "      <td>0.0486808</td>\n",
       "      <td>(user_posted_photos, emotion_label_rage, emoti...</td>\n",
       "      <td>0.189907</td>\n",
       "      <td>0.255694</td>\n",
       "      <td>0.0852313</td>\n",
       "    </tr>\n",
       "    <tr>\n",
       "      <td>4</td>\n",
       "      <td>(3, 17, 36, 37)</td>\n",
       "      <td>[0.26479397904539814, -0.1004901124927351, -0....</td>\n",
       "      <td>0.0653889</td>\n",
       "      <td>(user_posted_photos, anp_sentiment, emotion_la...</td>\n",
       "      <td>0.158264</td>\n",
       "      <td>0.213089</td>\n",
       "      <td>0.0710296</td>\n",
       "    </tr>\n",
       "    <tr>\n",
       "      <td>5</td>\n",
       "      <td>(3, 7, 17, 36, 37)</td>\n",
       "      <td>[0.2706173136008304, 0.051614529213692806, -0....</td>\n",
       "      <td>0.0796236</td>\n",
       "      <td>(user_posted_photos, face_emotion_CALM, anp_se...</td>\n",
       "      <td>0.148918</td>\n",
       "      <td>0.200505</td>\n",
       "      <td>0.066835</td>\n",
       "    </tr>\n",
       "    <tr>\n",
       "      <td>6</td>\n",
       "      <td>(3, 7, 15, 17, 36, 37)</td>\n",
       "      <td>[0.330488174245244, 0.3786256275395854, 0.0314...</td>\n",
       "      <td>0.129288</td>\n",
       "      <td>(user_posted_photos, face_emotion_CALM, male, ...</td>\n",
       "      <td>0.165062</td>\n",
       "      <td>0.222242</td>\n",
       "      <td>0.0740808</td>\n",
       "    </tr>\n",
       "    <tr>\n",
       "      <td>7</td>\n",
       "      <td>(3, 7, 15, 17, 36, 37, 40)</td>\n",
       "      <td>[0.29719067091817075, 0.43726766679592244, 0.0...</td>\n",
       "      <td>0.152266</td>\n",
       "      <td>(user_posted_photos, face_emotion_CALM, male, ...</td>\n",
       "      <td>0.160367</td>\n",
       "      <td>0.215921</td>\n",
       "      <td>0.0719736</td>\n",
       "    </tr>\n",
       "    <tr>\n",
       "      <td>8</td>\n",
       "      <td>(3, 7, 8, 15, 17, 36, 37, 40)</td>\n",
       "      <td>[0.3386066560609815, 0.5767776444095468, 0.085...</td>\n",
       "      <td>0.159294</td>\n",
       "      <td>(user_posted_photos, face_emotion_CALM, face_e...</td>\n",
       "      <td>0.1774</td>\n",
       "      <td>0.238855</td>\n",
       "      <td>0.0796182</td>\n",
       "    </tr>\n",
       "    <tr>\n",
       "      <td>9</td>\n",
       "      <td>(3, 7, 8, 15, 17, 27, 36, 37, 40)</td>\n",
       "      <td>[0.3387024384863079, 0.579555855962528, 0.0934...</td>\n",
       "      <td>0.160579</td>\n",
       "      <td>(user_posted_photos, face_emotion_CALM, face_e...</td>\n",
       "      <td>0.17807</td>\n",
       "      <td>0.239756</td>\n",
       "      <td>0.0799186</td>\n",
       "    </tr>\n",
       "    <tr>\n",
       "      <td>10</td>\n",
       "      <td>(3, 7, 8, 15, 17, 23, 27, 36, 37, 40)</td>\n",
       "      <td>[0.31847420610775057, 0.5794790253308744, 0.09...</td>\n",
       "      <td>0.160734</td>\n",
       "      <td>(user_posted_photos, face_emotion_CALM, face_e...</td>\n",
       "      <td>0.177642</td>\n",
       "      <td>0.23918</td>\n",
       "      <td>0.0797266</td>\n",
       "    </tr>\n",
       "    <tr>\n",
       "      <td>11</td>\n",
       "      <td>(3, 7, 8, 14, 15, 17, 23, 27, 36, 37, 40)</td>\n",
       "      <td>[0.32619951991825635, 0.5778594063539526, 0.01...</td>\n",
       "      <td>0.160295</td>\n",
       "      <td>(user_posted_photos, face_emotion_CALM, face_e...</td>\n",
       "      <td>0.174593</td>\n",
       "      <td>0.235075</td>\n",
       "      <td>0.0783584</td>\n",
       "    </tr>\n",
       "    <tr>\n",
       "      <td>12</td>\n",
       "      <td>(3, 7, 8, 14, 15, 17, 23, 27, 35, 36, 37, 40)</td>\n",
       "      <td>[0.31056696077273316, 0.5857563814586013, 0.00...</td>\n",
       "      <td>0.159243</td>\n",
       "      <td>(user_posted_photos, face_emotion_CALM, face_e...</td>\n",
       "      <td>0.171141</td>\n",
       "      <td>0.230427</td>\n",
       "      <td>0.0768088</td>\n",
       "    </tr>\n",
       "    <tr>\n",
       "      <td>13</td>\n",
       "      <td>(3, 7, 8, 12, 14, 15, 17, 23, 27, 35, 36, 37, 40)</td>\n",
       "      <td>[0.3141960848075117, 0.5351253731317558, 0.010...</td>\n",
       "      <td>0.164733</td>\n",
       "      <td>(user_posted_photos, face_emotion_CALM, face_e...</td>\n",
       "      <td>0.162701</td>\n",
       "      <td>0.219063</td>\n",
       "      <td>0.0730209</td>\n",
       "    </tr>\n",
       "    <tr>\n",
       "      <td>14</td>\n",
       "      <td>(3, 7, 8, 12, 14, 15, 17, 23, 26, 27, 35, 36, ...</td>\n",
       "      <td>[0.3011263532760531, 0.5435305755366653, 0.011...</td>\n",
       "      <td>0.161636</td>\n",
       "      <td>(user_posted_photos, face_emotion_CALM, face_e...</td>\n",
       "      <td>0.16449</td>\n",
       "      <td>0.221472</td>\n",
       "      <td>0.073824</td>\n",
       "    </tr>\n",
       "    <tr>\n",
       "      <td>15</td>\n",
       "      <td>(3, 7, 8, 12, 14, 15, 17, 23, 26, 27, 31, 35, ...</td>\n",
       "      <td>[0.30554672990684517, 0.555008184614963, 0.021...</td>\n",
       "      <td>0.15809</td>\n",
       "      <td>(user_posted_photos, face_emotion_CALM, face_e...</td>\n",
       "      <td>0.170256</td>\n",
       "      <td>0.229235</td>\n",
       "      <td>0.0764117</td>\n",
       "    </tr>\n",
       "    <tr>\n",
       "      <td>16</td>\n",
       "      <td>(3, 7, 8, 12, 14, 15, 17, 19, 23, 26, 27, 31, ...</td>\n",
       "      <td>[0.33385829171804016, 0.5610332796533557, 0.00...</td>\n",
       "      <td>0.159914</td>\n",
       "      <td>(user_posted_photos, face_emotion_CALM, face_e...</td>\n",
       "      <td>0.187854</td>\n",
       "      <td>0.25293</td>\n",
       "      <td>0.08431</td>\n",
       "    </tr>\n",
       "    <tr>\n",
       "      <td>17</td>\n",
       "      <td>(2, 3, 7, 8, 12, 14, 15, 17, 19, 23, 26, 27, 3...</td>\n",
       "      <td>[0.3280022148135098, 0.5922524888426588, -0.05...</td>\n",
       "      <td>0.163057</td>\n",
       "      <td>(user_follows, user_posted_photos, face_emotio...</td>\n",
       "      <td>0.193919</td>\n",
       "      <td>0.261096</td>\n",
       "      <td>0.087032</td>\n",
       "    </tr>\n",
       "    <tr>\n",
       "      <td>18</td>\n",
       "      <td>(2, 3, 7, 8, 12, 14, 15, 17, 19, 23, 26, 27, 3...</td>\n",
       "      <td>[0.3378120213733886, 0.580882967710512, -0.062...</td>\n",
       "      <td>0.159632</td>\n",
       "      <td>(user_follows, user_posted_photos, face_emotio...</td>\n",
       "      <td>0.200316</td>\n",
       "      <td>0.269708</td>\n",
       "      <td>0.0899027</td>\n",
       "    </tr>\n",
       "    <tr>\n",
       "      <td>19</td>\n",
       "      <td>(2, 3, 6, 7, 8, 12, 14, 15, 17, 19, 23, 26, 27...</td>\n",
       "      <td>[0.33455554253816544, 0.581480074042328, -0.06...</td>\n",
       "      <td>0.157263</td>\n",
       "      <td>(user_follows, user_posted_photos, face_emotio...</td>\n",
       "      <td>0.200889</td>\n",
       "      <td>0.27048</td>\n",
       "      <td>0.0901599</td>\n",
       "    </tr>\n",
       "    <tr>\n",
       "      <td>20</td>\n",
       "      <td>(2, 3, 6, 7, 8, 12, 14, 15, 17, 19, 23, 26, 27...</td>\n",
       "      <td>[0.3278704469466879, 0.5730078914376666, -0.06...</td>\n",
       "      <td>0.148531</td>\n",
       "      <td>(user_follows, user_posted_photos, face_emotio...</td>\n",
       "      <td>0.201226</td>\n",
       "      <td>0.270933</td>\n",
       "      <td>0.0903111</td>\n",
       "    </tr>\n",
       "    <tr>\n",
       "      <td>21</td>\n",
       "      <td>(2, 3, 6, 7, 8, 12, 14, 15, 17, 19, 23, 26, 27...</td>\n",
       "      <td>[0.3136925226043983, 0.5534078863418803, -0.06...</td>\n",
       "      <td>0.135545</td>\n",
       "      <td>(user_follows, user_posted_photos, face_emotio...</td>\n",
       "      <td>0.20033</td>\n",
       "      <td>0.269728</td>\n",
       "      <td>0.0899093</td>\n",
       "    </tr>\n",
       "    <tr>\n",
       "      <td>22</td>\n",
       "      <td>(2, 3, 6, 7, 8, 12, 14, 15, 17, 19, 22, 23, 26...</td>\n",
       "      <td>[0.22229648865808282, 0.5329287162592352, -0.0...</td>\n",
       "      <td>0.122527</td>\n",
       "      <td>(user_follows, user_posted_photos, face_emotio...</td>\n",
       "      <td>0.193424</td>\n",
       "      <td>0.260428</td>\n",
       "      <td>0.0868095</td>\n",
       "    </tr>\n",
       "    <tr>\n",
       "      <td>23</td>\n",
       "      <td>(2, 3, 5, 6, 7, 8, 12, 14, 15, 17, 19, 22, 23,...</td>\n",
       "      <td>[0.2029045467811491, 0.5480487824057061, -0.09...</td>\n",
       "      <td>0.109104</td>\n",
       "      <td>(user_follows, user_posted_photos, glasses, fa...</td>\n",
       "      <td>0.202569</td>\n",
       "      <td>0.272742</td>\n",
       "      <td>0.0909139</td>\n",
       "    </tr>\n",
       "    <tr>\n",
       "      <td>24</td>\n",
       "      <td>(2, 3, 5, 6, 7, 8, 12, 14, 15, 17, 19, 22, 23,...</td>\n",
       "      <td>[0.1823440908362305, 0.5433221555086993, -0.09...</td>\n",
       "      <td>0.0912494</td>\n",
       "      <td>(user_follows, user_posted_photos, glasses, fa...</td>\n",
       "      <td>0.200785</td>\n",
       "      <td>0.270339</td>\n",
       "      <td>0.0901131</td>\n",
       "    </tr>\n",
       "    <tr>\n",
       "      <td>25</td>\n",
       "      <td>(1, 2, 3, 5, 6, 7, 8, 12, 14, 15, 17, 19, 22, ...</td>\n",
       "      <td>[0.1908990583480863, 0.5465664830500259, -0.14...</td>\n",
       "      <td>0.0732646</td>\n",
       "      <td>(data_memorability, user_follows, user_posted_...</td>\n",
       "      <td>0.214301</td>\n",
       "      <td>0.288538</td>\n",
       "      <td>0.0961795</td>\n",
       "    </tr>\n",
       "    <tr>\n",
       "      <td>26</td>\n",
       "      <td>(1, 2, 3, 5, 6, 7, 8, 12, 14, 15, 17, 19, 22, ...</td>\n",
       "      <td>[0.11955837498503419, 0.5818700376350368, -0.2...</td>\n",
       "      <td>0.0706914</td>\n",
       "      <td>(data_memorability, user_follows, user_posted_...</td>\n",
       "      <td>0.231412</td>\n",
       "      <td>0.311576</td>\n",
       "      <td>0.103859</td>\n",
       "    </tr>\n",
       "    <tr>\n",
       "      <td>27</td>\n",
       "      <td>(0, 1, 2, 3, 5, 6, 7, 8, 12, 14, 15, 17, 19, 2...</td>\n",
       "      <td>[0.10804486376026401, 0.5666701614503247, -0.2...</td>\n",
       "      <td>0.0509273</td>\n",
       "      <td>(image_width, data_memorability, user_follows,...</td>\n",
       "      <td>0.223762</td>\n",
       "      <td>0.301276</td>\n",
       "      <td>0.100425</td>\n",
       "    </tr>\n",
       "    <tr>\n",
       "      <td>28</td>\n",
       "      <td>(0, 1, 2, 3, 5, 6, 7, 8, 12, 14, 15, 16, 17, 1...</td>\n",
       "      <td>[0.10404122730630783, 0.5467967241309745, -0.3...</td>\n",
       "      <td>0.0285119</td>\n",
       "      <td>(image_width, data_memorability, user_follows,...</td>\n",
       "      <td>0.222781</td>\n",
       "      <td>0.299955</td>\n",
       "      <td>0.0999851</td>\n",
       "    </tr>\n",
       "    <tr>\n",
       "      <td>29</td>\n",
       "      <td>(0, 1, 2, 3, 5, 6, 7, 8, 12, 13, 14, 15, 16, 1...</td>\n",
       "      <td>[-0.007253822830990186, 0.544172730002308, -0....</td>\n",
       "      <td>-0.00262891</td>\n",
       "      <td>(image_width, data_memorability, user_follows,...</td>\n",
       "      <td>0.235767</td>\n",
       "      <td>0.31744</td>\n",
       "      <td>0.105813</td>\n",
       "    </tr>\n",
       "    <tr>\n",
       "      <td>30</td>\n",
       "      <td>(0, 1, 2, 3, 5, 6, 7, 8, 12, 13, 14, 15, 16, 1...</td>\n",
       "      <td>[-0.21145015538203826, 0.5494053687109833, -0....</td>\n",
       "      <td>-0.0358596</td>\n",
       "      <td>(image_width, data_memorability, user_follows,...</td>\n",
       "      <td>0.250786</td>\n",
       "      <td>0.337662</td>\n",
       "      <td>0.112554</td>\n",
       "    </tr>\n",
       "    <tr>\n",
       "      <td>31</td>\n",
       "      <td>(0, 1, 2, 3, 5, 6, 7, 8, 12, 13, 14, 15, 16, 1...</td>\n",
       "      <td>[-0.21145015538212242, 0.5494053687109784, -0....</td>\n",
       "      <td>-0.0358596</td>\n",
       "      <td>(image_width, data_memorability, user_follows,...</td>\n",
       "      <td>0.250786</td>\n",
       "      <td>0.337662</td>\n",
       "      <td>0.112554</td>\n",
       "    </tr>\n",
       "    <tr>\n",
       "      <td>32</td>\n",
       "      <td>(0, 1, 2, 3, 5, 6, 7, 8, 12, 13, 14, 15, 16, 1...</td>\n",
       "      <td>[-0.21145015538219947, 0.549405368710963, -0.3...</td>\n",
       "      <td>-0.0358596</td>\n",
       "      <td>(image_width, data_memorability, user_follows,...</td>\n",
       "      <td>0.250786</td>\n",
       "      <td>0.337662</td>\n",
       "      <td>0.112554</td>\n",
       "    </tr>\n",
       "    <tr>\n",
       "      <td>33</td>\n",
       "      <td>(0, 1, 2, 3, 5, 6, 7, 8, 12, 13, 14, 15, 16, 1...</td>\n",
       "      <td>[-0.21145015535913236, 0.5494053687154178, -0....</td>\n",
       "      <td>-0.0358596</td>\n",
       "      <td>(image_width, data_memorability, user_follows,...</td>\n",
       "      <td>0.250786</td>\n",
       "      <td>0.337662</td>\n",
       "      <td>0.112554</td>\n",
       "    </tr>\n",
       "    <tr>\n",
       "      <td>34</td>\n",
       "      <td>(0, 1, 2, 3, 5, 6, 7, 8, 9, 12, 13, 14, 15, 16...</td>\n",
       "      <td>[-0.2224248602225074, 0.4128964424769841, -0.2...</td>\n",
       "      <td>-0.0729971</td>\n",
       "      <td>(image_width, data_memorability, user_follows,...</td>\n",
       "      <td>0.252721</td>\n",
       "      <td>0.340268</td>\n",
       "      <td>0.113423</td>\n",
       "    </tr>\n",
       "    <tr>\n",
       "      <td>35</td>\n",
       "      <td>(0, 1, 2, 3, 5, 6, 7, 8, 9, 12, 13, 14, 15, 16...</td>\n",
       "      <td>[-0.30475724422517225, 0.48183665672802845, -0...</td>\n",
       "      <td>-0.0832402</td>\n",
       "      <td>(image_width, data_memorability, user_follows,...</td>\n",
       "      <td>0.281736</td>\n",
       "      <td>0.379333</td>\n",
       "      <td>0.126444</td>\n",
       "    </tr>\n",
       "    <tr>\n",
       "      <td>36</td>\n",
       "      <td>(0, 1, 2, 3, 5, 6, 7, 8, 9, 12, 13, 14, 15, 16...</td>\n",
       "      <td>[-0.3107671760105386, 0.40943062030265276, -0....</td>\n",
       "      <td>-0.104015</td>\n",
       "      <td>(image_width, data_memorability, user_follows,...</td>\n",
       "      <td>0.269118</td>\n",
       "      <td>0.362344</td>\n",
       "      <td>0.120781</td>\n",
       "    </tr>\n",
       "    <tr>\n",
       "      <td>37</td>\n",
       "      <td>(0, 1, 2, 3, 5, 6, 7, 8, 9, 12, 13, 14, 15, 16...</td>\n",
       "      <td>[-0.3132476327620348, 0.3953150191537729, -0.3...</td>\n",
       "      <td>-0.13564</td>\n",
       "      <td>(image_width, data_memorability, user_follows,...</td>\n",
       "      <td>0.289817</td>\n",
       "      <td>0.390214</td>\n",
       "      <td>0.130071</td>\n",
       "    </tr>\n",
       "    <tr>\n",
       "      <td>38</td>\n",
       "      <td>(0, 1, 2, 3, 5, 6, 7, 8, 9, 12, 13, 14, 15, 16...</td>\n",
       "      <td>[-0.3097118016380578, 0.41144861034752533, -0....</td>\n",
       "      <td>-0.197994</td>\n",
       "      <td>(image_width, data_memorability, user_follows,...</td>\n",
       "      <td>0.300832</td>\n",
       "      <td>0.405044</td>\n",
       "      <td>0.135015</td>\n",
       "    </tr>\n",
       "    <tr>\n",
       "      <td>39</td>\n",
       "      <td>(0, 1, 2, 3, 5, 6, 7, 8, 9, 11, 12, 13, 14, 15...</td>\n",
       "      <td>[-0.44291555567089724, 0.44785725527835496, -0...</td>\n",
       "      <td>-0.280007</td>\n",
       "      <td>(image_width, data_memorability, user_follows,...</td>\n",
       "      <td>0.37492</td>\n",
       "      <td>0.504798</td>\n",
       "      <td>0.168266</td>\n",
       "    </tr>\n",
       "    <tr>\n",
       "      <td>40</td>\n",
       "      <td>(0, 1, 2, 3, 5, 6, 7, 8, 9, 10, 11, 12, 13, 14...</td>\n",
       "      <td>[-0.4715080777284748, 0.29898897346873343, -0....</td>\n",
       "      <td>-0.352965</td>\n",
       "      <td>(image_width, data_memorability, user_follows,...</td>\n",
       "      <td>0.36559</td>\n",
       "      <td>0.492236</td>\n",
       "      <td>0.164079</td>\n",
       "    </tr>\n",
       "    <tr>\n",
       "      <td>41</td>\n",
       "      <td>(0, 1, 2, 3, 5, 6, 7, 8, 9, 10, 11, 12, 13, 14...</td>\n",
       "      <td>[-0.4710602667810919, 0.31405216398620883, -0....</td>\n",
       "      <td>-0.473618</td>\n",
       "      <td>(image_width, data_memorability, user_follows,...</td>\n",
       "      <td>0.461809</td>\n",
       "      <td>0.621787</td>\n",
       "      <td>0.207262</td>\n",
       "    </tr>\n",
       "    <tr>\n",
       "      <td>42</td>\n",
       "      <td>(0, 1, 2, 3, 4, 5, 6, 7, 8, 9, 10, 11, 12, 13,...</td>\n",
       "      <td>[-0.4366073669210184, -0.23999786283733515, -0...</td>\n",
       "      <td>-0.92831</td>\n",
       "      <td>(image_width, data_memorability, user_follows,...</td>\n",
       "      <td>0.973815</td>\n",
       "      <td>1.31116</td>\n",
       "      <td>0.437053</td>\n",
       "    </tr>\n",
       "    <tr>\n",
       "      <td>43</td>\n",
       "      <td>(0, 1, 2, 3, 4, 5, 6, 7, 8, 9, 10, 11, 12, 13,...</td>\n",
       "      <td>[-0.43850025480709665, -0.3089555153486916, -0...</td>\n",
       "      <td>-2.26863</td>\n",
       "      <td>(image_width, data_memorability, user_follows,...</td>\n",
       "      <td>2.77688</td>\n",
       "      <td>3.73883</td>\n",
       "      <td>1.24628</td>\n",
       "    </tr>\n",
       "    <tr>\n",
       "      <td>44</td>\n",
       "      <td>(0, 1, 2, 3, 4, 5, 6, 7, 8, 9, 10, 11, 12, 13,...</td>\n",
       "      <td>[-0.4301955572106708, -0.47207839485545167, -0...</td>\n",
       "      <td>-22.9603</td>\n",
       "      <td>(image_width, data_memorability, user_follows,...</td>\n",
       "      <td>48.2031</td>\n",
       "      <td>64.9014</td>\n",
       "      <td>21.6338</td>\n",
       "    </tr>\n",
       "  </tbody>\n",
       "</table>\n",
       "</div>"
      ],
      "text/plain": [
       "                                          feature_idx  \\\n",
       "1                                               (36,)   \n",
       "2                                            (36, 37)   \n",
       "3                                         (3, 36, 37)   \n",
       "4                                     (3, 17, 36, 37)   \n",
       "5                                  (3, 7, 17, 36, 37)   \n",
       "6                              (3, 7, 15, 17, 36, 37)   \n",
       "7                          (3, 7, 15, 17, 36, 37, 40)   \n",
       "8                       (3, 7, 8, 15, 17, 36, 37, 40)   \n",
       "9                   (3, 7, 8, 15, 17, 27, 36, 37, 40)   \n",
       "10              (3, 7, 8, 15, 17, 23, 27, 36, 37, 40)   \n",
       "11          (3, 7, 8, 14, 15, 17, 23, 27, 36, 37, 40)   \n",
       "12      (3, 7, 8, 14, 15, 17, 23, 27, 35, 36, 37, 40)   \n",
       "13  (3, 7, 8, 12, 14, 15, 17, 23, 27, 35, 36, 37, 40)   \n",
       "14  (3, 7, 8, 12, 14, 15, 17, 23, 26, 27, 35, 36, ...   \n",
       "15  (3, 7, 8, 12, 14, 15, 17, 23, 26, 27, 31, 35, ...   \n",
       "16  (3, 7, 8, 12, 14, 15, 17, 19, 23, 26, 27, 31, ...   \n",
       "17  (2, 3, 7, 8, 12, 14, 15, 17, 19, 23, 26, 27, 3...   \n",
       "18  (2, 3, 7, 8, 12, 14, 15, 17, 19, 23, 26, 27, 3...   \n",
       "19  (2, 3, 6, 7, 8, 12, 14, 15, 17, 19, 23, 26, 27...   \n",
       "20  (2, 3, 6, 7, 8, 12, 14, 15, 17, 19, 23, 26, 27...   \n",
       "21  (2, 3, 6, 7, 8, 12, 14, 15, 17, 19, 23, 26, 27...   \n",
       "22  (2, 3, 6, 7, 8, 12, 14, 15, 17, 19, 22, 23, 26...   \n",
       "23  (2, 3, 5, 6, 7, 8, 12, 14, 15, 17, 19, 22, 23,...   \n",
       "24  (2, 3, 5, 6, 7, 8, 12, 14, 15, 17, 19, 22, 23,...   \n",
       "25  (1, 2, 3, 5, 6, 7, 8, 12, 14, 15, 17, 19, 22, ...   \n",
       "26  (1, 2, 3, 5, 6, 7, 8, 12, 14, 15, 17, 19, 22, ...   \n",
       "27  (0, 1, 2, 3, 5, 6, 7, 8, 12, 14, 15, 17, 19, 2...   \n",
       "28  (0, 1, 2, 3, 5, 6, 7, 8, 12, 14, 15, 16, 17, 1...   \n",
       "29  (0, 1, 2, 3, 5, 6, 7, 8, 12, 13, 14, 15, 16, 1...   \n",
       "30  (0, 1, 2, 3, 5, 6, 7, 8, 12, 13, 14, 15, 16, 1...   \n",
       "31  (0, 1, 2, 3, 5, 6, 7, 8, 12, 13, 14, 15, 16, 1...   \n",
       "32  (0, 1, 2, 3, 5, 6, 7, 8, 12, 13, 14, 15, 16, 1...   \n",
       "33  (0, 1, 2, 3, 5, 6, 7, 8, 12, 13, 14, 15, 16, 1...   \n",
       "34  (0, 1, 2, 3, 5, 6, 7, 8, 9, 12, 13, 14, 15, 16...   \n",
       "35  (0, 1, 2, 3, 5, 6, 7, 8, 9, 12, 13, 14, 15, 16...   \n",
       "36  (0, 1, 2, 3, 5, 6, 7, 8, 9, 12, 13, 14, 15, 16...   \n",
       "37  (0, 1, 2, 3, 5, 6, 7, 8, 9, 12, 13, 14, 15, 16...   \n",
       "38  (0, 1, 2, 3, 5, 6, 7, 8, 9, 12, 13, 14, 15, 16...   \n",
       "39  (0, 1, 2, 3, 5, 6, 7, 8, 9, 11, 12, 13, 14, 15...   \n",
       "40  (0, 1, 2, 3, 5, 6, 7, 8, 9, 10, 11, 12, 13, 14...   \n",
       "41  (0, 1, 2, 3, 5, 6, 7, 8, 9, 10, 11, 12, 13, 14...   \n",
       "42  (0, 1, 2, 3, 4, 5, 6, 7, 8, 9, 10, 11, 12, 13,...   \n",
       "43  (0, 1, 2, 3, 4, 5, 6, 7, 8, 9, 10, 11, 12, 13,...   \n",
       "44  (0, 1, 2, 3, 4, 5, 6, 7, 8, 9, 10, 11, 12, 13,...   \n",
       "\n",
       "                                            cv_scores    avg_score  \\\n",
       "1   [0.04184606879753061, 0.03301993718397411, -0....   -0.0188204   \n",
       "2   [0.08465552488387929, -0.03004561690683083, 0....  0.000567345   \n",
       "3   [0.19612938048999573, -0.24936370658007911, 0....    0.0486808   \n",
       "4   [0.26479397904539814, -0.1004901124927351, -0....    0.0653889   \n",
       "5   [0.2706173136008304, 0.051614529213692806, -0....    0.0796236   \n",
       "6   [0.330488174245244, 0.3786256275395854, 0.0314...     0.129288   \n",
       "7   [0.29719067091817075, 0.43726766679592244, 0.0...     0.152266   \n",
       "8   [0.3386066560609815, 0.5767776444095468, 0.085...     0.159294   \n",
       "9   [0.3387024384863079, 0.579555855962528, 0.0934...     0.160579   \n",
       "10  [0.31847420610775057, 0.5794790253308744, 0.09...     0.160734   \n",
       "11  [0.32619951991825635, 0.5778594063539526, 0.01...     0.160295   \n",
       "12  [0.31056696077273316, 0.5857563814586013, 0.00...     0.159243   \n",
       "13  [0.3141960848075117, 0.5351253731317558, 0.010...     0.164733   \n",
       "14  [0.3011263532760531, 0.5435305755366653, 0.011...     0.161636   \n",
       "15  [0.30554672990684517, 0.555008184614963, 0.021...      0.15809   \n",
       "16  [0.33385829171804016, 0.5610332796533557, 0.00...     0.159914   \n",
       "17  [0.3280022148135098, 0.5922524888426588, -0.05...     0.163057   \n",
       "18  [0.3378120213733886, 0.580882967710512, -0.062...     0.159632   \n",
       "19  [0.33455554253816544, 0.581480074042328, -0.06...     0.157263   \n",
       "20  [0.3278704469466879, 0.5730078914376666, -0.06...     0.148531   \n",
       "21  [0.3136925226043983, 0.5534078863418803, -0.06...     0.135545   \n",
       "22  [0.22229648865808282, 0.5329287162592352, -0.0...     0.122527   \n",
       "23  [0.2029045467811491, 0.5480487824057061, -0.09...     0.109104   \n",
       "24  [0.1823440908362305, 0.5433221555086993, -0.09...    0.0912494   \n",
       "25  [0.1908990583480863, 0.5465664830500259, -0.14...    0.0732646   \n",
       "26  [0.11955837498503419, 0.5818700376350368, -0.2...    0.0706914   \n",
       "27  [0.10804486376026401, 0.5666701614503247, -0.2...    0.0509273   \n",
       "28  [0.10404122730630783, 0.5467967241309745, -0.3...    0.0285119   \n",
       "29  [-0.007253822830990186, 0.544172730002308, -0....  -0.00262891   \n",
       "30  [-0.21145015538203826, 0.5494053687109833, -0....   -0.0358596   \n",
       "31  [-0.21145015538212242, 0.5494053687109784, -0....   -0.0358596   \n",
       "32  [-0.21145015538219947, 0.549405368710963, -0.3...   -0.0358596   \n",
       "33  [-0.21145015535913236, 0.5494053687154178, -0....   -0.0358596   \n",
       "34  [-0.2224248602225074, 0.4128964424769841, -0.2...   -0.0729971   \n",
       "35  [-0.30475724422517225, 0.48183665672802845, -0...   -0.0832402   \n",
       "36  [-0.3107671760105386, 0.40943062030265276, -0....    -0.104015   \n",
       "37  [-0.3132476327620348, 0.3953150191537729, -0.3...     -0.13564   \n",
       "38  [-0.3097118016380578, 0.41144861034752533, -0....    -0.197994   \n",
       "39  [-0.44291555567089724, 0.44785725527835496, -0...    -0.280007   \n",
       "40  [-0.4715080777284748, 0.29898897346873343, -0....    -0.352965   \n",
       "41  [-0.4710602667810919, 0.31405216398620883, -0....    -0.473618   \n",
       "42  [-0.4366073669210184, -0.23999786283733515, -0...     -0.92831   \n",
       "43  [-0.43850025480709665, -0.3089555153486916, -0...     -2.26863   \n",
       "44  [-0.4301955572106708, -0.47207839485545167, -0...     -22.9603   \n",
       "\n",
       "                                        feature_names   ci_bound    std_dev  \\\n",
       "1                               (emotion_label_rage,)  0.0699055  0.0941219   \n",
       "2         (emotion_label_rage, emotion_label_sadness)   0.121839   0.164046   \n",
       "3   (user_posted_photos, emotion_label_rage, emoti...   0.189907   0.255694   \n",
       "4   (user_posted_photos, anp_sentiment, emotion_la...   0.158264   0.213089   \n",
       "5   (user_posted_photos, face_emotion_CALM, anp_se...   0.148918   0.200505   \n",
       "6   (user_posted_photos, face_emotion_CALM, male, ...   0.165062   0.222242   \n",
       "7   (user_posted_photos, face_emotion_CALM, male, ...   0.160367   0.215921   \n",
       "8   (user_posted_photos, face_emotion_CALM, face_e...     0.1774   0.238855   \n",
       "9   (user_posted_photos, face_emotion_CALM, face_e...    0.17807   0.239756   \n",
       "10  (user_posted_photos, face_emotion_CALM, face_e...   0.177642    0.23918   \n",
       "11  (user_posted_photos, face_emotion_CALM, face_e...   0.174593   0.235075   \n",
       "12  (user_posted_photos, face_emotion_CALM, face_e...   0.171141   0.230427   \n",
       "13  (user_posted_photos, face_emotion_CALM, face_e...   0.162701   0.219063   \n",
       "14  (user_posted_photos, face_emotion_CALM, face_e...    0.16449   0.221472   \n",
       "15  (user_posted_photos, face_emotion_CALM, face_e...   0.170256   0.229235   \n",
       "16  (user_posted_photos, face_emotion_CALM, face_e...   0.187854    0.25293   \n",
       "17  (user_follows, user_posted_photos, face_emotio...   0.193919   0.261096   \n",
       "18  (user_follows, user_posted_photos, face_emotio...   0.200316   0.269708   \n",
       "19  (user_follows, user_posted_photos, face_emotio...   0.200889    0.27048   \n",
       "20  (user_follows, user_posted_photos, face_emotio...   0.201226   0.270933   \n",
       "21  (user_follows, user_posted_photos, face_emotio...    0.20033   0.269728   \n",
       "22  (user_follows, user_posted_photos, face_emotio...   0.193424   0.260428   \n",
       "23  (user_follows, user_posted_photos, glasses, fa...   0.202569   0.272742   \n",
       "24  (user_follows, user_posted_photos, glasses, fa...   0.200785   0.270339   \n",
       "25  (data_memorability, user_follows, user_posted_...   0.214301   0.288538   \n",
       "26  (data_memorability, user_follows, user_posted_...   0.231412   0.311576   \n",
       "27  (image_width, data_memorability, user_follows,...   0.223762   0.301276   \n",
       "28  (image_width, data_memorability, user_follows,...   0.222781   0.299955   \n",
       "29  (image_width, data_memorability, user_follows,...   0.235767    0.31744   \n",
       "30  (image_width, data_memorability, user_follows,...   0.250786   0.337662   \n",
       "31  (image_width, data_memorability, user_follows,...   0.250786   0.337662   \n",
       "32  (image_width, data_memorability, user_follows,...   0.250786   0.337662   \n",
       "33  (image_width, data_memorability, user_follows,...   0.250786   0.337662   \n",
       "34  (image_width, data_memorability, user_follows,...   0.252721   0.340268   \n",
       "35  (image_width, data_memorability, user_follows,...   0.281736   0.379333   \n",
       "36  (image_width, data_memorability, user_follows,...   0.269118   0.362344   \n",
       "37  (image_width, data_memorability, user_follows,...   0.289817   0.390214   \n",
       "38  (image_width, data_memorability, user_follows,...   0.300832   0.405044   \n",
       "39  (image_width, data_memorability, user_follows,...    0.37492   0.504798   \n",
       "40  (image_width, data_memorability, user_follows,...    0.36559   0.492236   \n",
       "41  (image_width, data_memorability, user_follows,...   0.461809   0.621787   \n",
       "42  (image_width, data_memorability, user_follows,...   0.973815    1.31116   \n",
       "43  (image_width, data_memorability, user_follows,...    2.77688    3.73883   \n",
       "44  (image_width, data_memorability, user_follows,...    48.2031    64.9014   \n",
       "\n",
       "      std_err  \n",
       "1    0.031374  \n",
       "2    0.054682  \n",
       "3   0.0852313  \n",
       "4   0.0710296  \n",
       "5    0.066835  \n",
       "6   0.0740808  \n",
       "7   0.0719736  \n",
       "8   0.0796182  \n",
       "9   0.0799186  \n",
       "10  0.0797266  \n",
       "11  0.0783584  \n",
       "12  0.0768088  \n",
       "13  0.0730209  \n",
       "14   0.073824  \n",
       "15  0.0764117  \n",
       "16    0.08431  \n",
       "17   0.087032  \n",
       "18  0.0899027  \n",
       "19  0.0901599  \n",
       "20  0.0903111  \n",
       "21  0.0899093  \n",
       "22  0.0868095  \n",
       "23  0.0909139  \n",
       "24  0.0901131  \n",
       "25  0.0961795  \n",
       "26   0.103859  \n",
       "27   0.100425  \n",
       "28  0.0999851  \n",
       "29   0.105813  \n",
       "30   0.112554  \n",
       "31   0.112554  \n",
       "32   0.112554  \n",
       "33   0.112554  \n",
       "34   0.113423  \n",
       "35   0.126444  \n",
       "36   0.120781  \n",
       "37   0.130071  \n",
       "38   0.135015  \n",
       "39   0.168266  \n",
       "40   0.164079  \n",
       "41   0.207262  \n",
       "42   0.437053  \n",
       "43    1.24628  \n",
       "44    21.6338  "
      ]
     },
     "execution_count": 25,
     "metadata": {},
     "output_type": "execute_result"
    }
   ],
   "source": [
    "best_feat = list(sfs.k_feature_names_)\n",
    "print(\"Amount chosen\", len(sfs.k_feature_idx_),\n",
    "    \"CV score:\", sfs.k_score_,\n",
    "      \n",
    "    \"Best features:\", *best_feat, sep = \"\\n\")\n",
    "pd.DataFrame.from_dict(sfs.get_metric_dict()).T"
   ]
  },
  {
   "cell_type": "code",
   "execution_count": 26,
   "metadata": {},
   "outputs": [
    {
     "name": "stdout",
     "output_type": "stream",
     "text": [
      "R^2: 0.25939160709547093\n",
      "Root Mean Squared Error: 1.112506712345294\n"
     ]
    }
   ],
   "source": [
    "# Evaluate best single model\n",
    "\n",
    "# Create training and test sets\n",
    "X_train_best, X_test_best, y_train, y_test = train_test_split(features_df[best_feat], target_df[\"PERMA\"]\n",
    "                                                    , test_size = 0.30, random_state=42)\n",
    "\n",
    "# Create the regressor: reg_all\n",
    "reg_best = LinearRegression()\n",
    "\n",
    "# Fit the regressor to the training data\n",
    "reg_best.fit(X_train_best, y_train)\n",
    "\n",
    "# Predict on the test data: y_pred\n",
    "y_pred = reg_best.predict(X_test_best)\n",
    "\n",
    "# Compute and print R^2 and RMSE\n",
    "print(\"R^2: {}\".format(reg_best.score(X_test_best, y_test)))\n",
    "rmse = np.sqrt(mean_squared_error(y_test, y_pred))\n",
    "print(\"Root Mean Squared Error: {}\".format(rmse))"
   ]
  },
  {
   "cell_type": "code",
   "execution_count": 27,
   "metadata": {},
   "outputs": [],
   "source": [
    "# Create compound model of 6 perma score elements\n",
    "perma_elements = [\"P\", \"E\", \"R\", \"M\", \"A\", \"HAP\"]\n",
    "\n",
    "best_features = dict()\n",
    "\n",
    "for question in perma_elements:\n",
    "    lr = LinearRegression()\n",
    "    sfs = SFS(lr, \n",
    "              k_features=\"best\", \n",
    "              forward=True, \n",
    "              floating=False, \n",
    "              scoring='r2',\n",
    "              cv=10)\n",
    "    sfs = sfs.fit(features_df, target_df[question])\n",
    "    best_features[question] = (sfs.k_score_, sfs.k_feature_names_)"
   ]
  },
  {
   "cell_type": "code",
   "execution_count": 28,
   "metadata": {},
   "outputs": [
    {
     "data": {
      "text/plain": [
       "['image_width',\n",
       " 'user_posted_photos',\n",
       " 'face_emotion_CONFUSED',\n",
       " 'face_emotion_SURPRISED',\n",
       " 'emotion_label_acceptance',\n",
       " 'emotion_label_anger',\n",
       " 'emotion_label_disgust',\n",
       " 'emotion_label_ecstasy',\n",
       " 'emotion_label_grief',\n",
       " 'emotion_label_joy',\n",
       " 'emotion_label_rage',\n",
       " 'emotion_label_terror',\n",
       " 'emotion_label_trust',\n",
       " 'elapsed_time']"
      ]
     },
     "execution_count": 28,
     "metadata": {},
     "output_type": "execute_result"
    }
   ],
   "source": [
    "list(best_features[\"P\"][1])"
   ]
  },
  {
   "cell_type": "code",
   "execution_count": 48,
   "metadata": {},
   "outputs": [
    {
     "name": "stdout",
     "output_type": "stream",
     "text": [
      "R^2: 0.23509279366103242\n",
      "Root Mean Squared Error: 1.3615318619391297\n"
     ]
    }
   ],
   "source": [
    "# Evaluate compound model\n",
    "\n",
    "# Create training and test sets\n",
    "X_train_flex, X_test_flex, y_train_flex, y_test_flex = train_test_split(features_df, target_df\n",
    "                                                    , test_size = 0.30, random_state=69)\n",
    "predicted_data = pd.DataFrame()\n",
    "models = dict()\n",
    "\n",
    "for element in perma_elements:\n",
    "    # Create the regressor: lr\n",
    "    lr = LinearRegression()\n",
    "\n",
    "    # Extract the best features for the element\n",
    "    features = list(best_features[element][1])\n",
    "    \n",
    "    # Fit the regressor to the training data\n",
    "    lr.fit(X_train_flex[features], y_train_flex[element])\n",
    "\n",
    "    # Predict on the test data: y_pred\n",
    "    y_pred = lr.predict(X_test_flex[features])\n",
    "  \n",
    "    predicted_data[element] = y_pred\n",
    "    models[element] = lr\n",
    "    \n",
    "predicted_data[\"PERMA\"] = predicted_data.mean(1)\n",
    "\n",
    "\n",
    "# Compute and print R^2 and RMSE\n",
    "print(\"R^2: {}\".format(r2_score(y_test_flex[\"PERMA\"], predicted_data[\"PERMA\"].values)))\n",
    "rmse = np.sqrt(mean_squared_error(y_test_flex[\"PERMA\"], predicted_data[\"PERMA\"].values))\n",
    "print(\"Root Mean Squared Error: {}\".format(rmse))"
   ]
  },
  {
   "cell_type": "code",
   "execution_count": 44,
   "metadata": {},
   "outputs": [],
   "source": [
    "# Save total model to pickle\n",
    "pickle.dump(reg_all, open(\"../models/reg_all-time.pickle\", 'wb'))\n",
    "# Save best single model to pickle\n",
    "pickle.dump(best_feat, open(\"../models/best_feat-time.pickle\", 'wb'))\n",
    "pickle.dump(reg_best, open(\"../models/reg_best-time.pickle\", 'wb'))\n",
    "# Save compound model to pickle\n",
    "pickle.dump(best_features, open(\"../models/comp_features-time.pickle\", 'wb'))\n",
    "pickle.dump(models, open(\"../models/perma_el-time.pickle\", 'wb'))\n",
    "pickle.dump(perma_elements, open(\"../models/compound-time.pickle\", 'wb'))"
   ]
  },
  {
   "cell_type": "markdown",
   "metadata": {},
   "source": [
    "#### Dataset size & random seed discussion\n",
    "Due to small size of the dataset and thus a small test dataset the RMSE & R^2 are heavily dependent on the random seed. Different seed choices result in large variations of the two statistics mentioned. To-Do: plot difference in statistic values per random_state in say...two or three regressors, 10 or 15 random_state values."
   ]
  },
  {
   "cell_type": "code",
   "execution_count": 49,
   "metadata": {
    "scrolled": true
   },
   "outputs": [
    {
     "data": {
      "image/png": "[encoded data removed]",
      "text/plain": [
       "<Figure size 504x360 with 1 Axes>"
      ]
     },
     "metadata": {
      "needs_background": "light"
     },
     "output_type": "display_data"
    }
   ],
   "source": [
    "fig = plt.figure(figsize=(7,5))\n",
    "xl = plt.xlim(1, 10)\n",
    "yl = plt.ylim(1, 10)\n",
    "\n",
    "ax = plt.gca()\n",
    "ax.set_xlabel('Test Value')\n",
    "ax.set_ylabel('Predicted Value')\n",
    "plt.title('Prediction time-penalized data\\n using SKLearn LinearRegression\\n R^2 Score: %f Root MSE: %f'\\\n",
    "% (r2_score(y_test_flex[\"PERMA\"], predicted_data[\"PERMA\"].values),\\\n",
    "np.sqrt(mean_squared_error(y_test_flex[\"PERMA\"], predicted_data[\"PERMA\"].values))))\n",
    "\n",
    "plt.scatter(x=y_test_flex[\"PERMA\"], y=predicted_data[\"PERMA\"])\n",
    "plt.plot(xl, yl, '--', color='r',linewidth=0.3)\n",
    "ax.hlines(y=predicted_data[\"PERMA\"], xmin=predicted_data[\"PERMA\"], xmax=y_test_flex[\"PERMA\"], color='orange', linestyle='dotted', linewidth=0.4)\n",
    "plt.grid(linestyle='--')\n",
    "plt.savefig('../images/regression/SKL_LR_fig1-time.png', format='png')\n",
    "plt.show()\n"
   ]
  },
  {
   "cell_type": "code",
   "execution_count": 19,
   "metadata": {},
   "outputs": [
    {
     "name": "stdout",
     "output_type": "stream",
     "text": [
      "0.9430422020504654\n",
      "-2.6321462664357567\n",
      "0.7275060661335226\n",
      "0.6942604647806832\n",
      "-0.5584882999980323\n",
      "0.9715783607023658\n",
      "2.0168923399217524\n",
      "1.470528758294968\n",
      "1.1178537335642433\n",
      "-1.016150086980967\n",
      "0.912155568206356\n",
      "-0.1050045407558855\n",
      "0.07887375495987925\n",
      "0.8471628834485427\n",
      "-0.879870095271535\n",
      "-1.5569577979495346\n",
      "0.35540906229841074\n",
      "-0.2405015049558985\n",
      "0.2915173218824867\n",
      "0.7215825305571855\n",
      "2.3903539343805447\n",
      "0.1340223381905732\n",
      "0.5717226730073186\n",
      "-1.0723157092539068\n",
      "0.9149579893072186\n",
      "-0.9272635766110815\n",
      "0.07906217846684171\n",
      "-2.4513683685017247\n",
      "0.06506337884619029\n",
      "-1.9948139750232246\n",
      "0.6183845098116185\n",
      "0.8638729883308249\n",
      "1.154693739457528\n",
      "1.1368859656993875\n",
      "0.5503364004588853\n",
      "-1.0481654599114174\n",
      "0.2550854326790466\n",
      "-1.699092100785463\n",
      "-1.407908260383639\n",
      "1.1519045008092883\n",
      "1.4214415236111089\n",
      "-1.2809746791529575\n",
      "-0.3531502650327356\n",
      "-3.028718297074512\n",
      "0.558016544042971\n",
      "-1.2285151971363248\n"
     ]
    }
   ],
   "source": [
    "print(y_test_flex[\"PERMA\"].max() - predicted_data[\"PERMA\"].max())\n",
    "print(y_test_flex[\"PERMA\"].min() - predicted_data[\"PERMA\"].min())\n",
    "\n",
    "for foo in zip(y_test_flex[\"PERMA\"], predicted_data[\"PERMA\"]):\n",
    "    print(foo[0] - foo[1])\n",
    "\n",
    "\n"
   ]
  },
  {
   "cell_type": "code",
   "execution_count": null,
   "metadata": {},
   "outputs": [],
   "source": []
  },
  {
   "cell_type": "markdown",
   "metadata": {},
   "source": [
    "#### Testing with an SVM\n",
    "\n",
    "Some notes: the SVM benifits from as much training data as it can get. I gave it 90% to eat.\n",
    "In testing for the target of the highest possible R^2 combined with the lowest possible MSE, I iterated over a range of C=0.7-1.3 and e=0.0-0.3 where C is the penalty for falling outside the epsilon tube and e is the radius of the tube."
   ]
  },
  {
   "cell_type": "code",
   "execution_count": 56,
   "metadata": {},
   "outputs": [
    {
     "name": "stdout",
     "output_type": "stream",
     "text": [
      "R^2: -0.17937408198932303\n",
      "Root Mean Squared Error: 1.5552300891836104\n"
     ]
    }
   ],
   "source": [
    "# Evaluate compound model with an SVM\n",
    "\n",
    "# Create training and test sets\n",
    "X_train_flex, X_test_flex, y_train_flex, y_test_flex = train_test_split(features_df, target_df\n",
    "                                                    , test_size = 0.10, random_state=69)\n",
    "predicted_data = pd.DataFrame()\n",
    "models_svm = dict()\n",
    "\n",
    "for element in perma_elements:\n",
    "    # Create the regressor: SVR\n",
    "    clf = SVR(kernel='linear', gamma='scale', C=1.3, epsilon=0)\n",
    "\n",
    "    # Extract the best features for the element\n",
    "    features = list(best_features[element][1])\n",
    "    \n",
    "    # Fit the regressor to the training data\n",
    "    clf.fit(X_train_flex[features], y_train_flex[element])\n",
    "\n",
    "    # Predict on the test data: y_pred\n",
    "    y_pred = clf.predict(X_test_flex[features])\n",
    "    \n",
    "    models_svm[element] = clf\n",
    "  \n",
    "    predicted_data[element] = y_pred\n",
    "    \n",
    "predicted_data[\"PERMA\"] = predicted_data.mean(1)\n",
    "\n",
    "# Compute and print R^2 and RMSE\n",
    "print(\"R^2: {}\".format(r2_score(y_test_flex[\"PERMA\"], predicted_data[\"PERMA\"].values)))\n",
    "rmse = np.sqrt(mean_squared_error(y_test_flex[\"PERMA\"], predicted_data[\"PERMA\"].values))\n",
    "print(\"Root Mean Squared Error: {}\".format(rmse))"
   ]
  },
  {
   "cell_type": "code",
   "execution_count": 57,
   "metadata": {},
   "outputs": [],
   "source": [
    "# Save compound model to pickle\n",
    "pickle.dump(models_svm, open(\"../models/models_svm-time.pickle\", 'wb'))"
   ]
  },
  {
   "cell_type": "code",
   "execution_count": 52,
   "metadata": {},
   "outputs": [
    {
     "data": {
      "image/png": "[encoded data removed]",
      "text/plain": [
       "<Figure size 504x360 with 1 Axes>"
      ]
     },
     "metadata": {
      "needs_background": "light"
     },
     "output_type": "display_data"
    }
   ],
   "source": [
    "fig = plt.figure(figsize=(7,5))\n",
    "xl = plt.xlim(1, 10)\n",
    "yl = plt.ylim(1, 10)\n",
    "\n",
    "ax = plt.gca()\n",
    "ax.set_xlabel('Test Value')\n",
    "ax.set_ylabel('Predicted Value')\n",
    "plt.title('Prediction time-penalized data\\n using SKLearn SVM Linear Kernel C=1.3, e=0\\n \\\n",
    "R^2 Score: %f Root MSE: %f' % (r2_score(y_test_flex[\"PERMA\"],\\\n",
    "predicted_data[\"PERMA\"].values), np.sqrt(mean_squared_error(y_test_flex[\"PERMA\"], \\\n",
    "predicted_data[\"PERMA\"].values))))\n",
    "\n",
    "ax.scatter(x=y_test_flex[\"PERMA\"], y=predicted_data[\"PERMA\"])\n",
    "ax.plot(xl, yl, '--', color='r',linewidth=0.3)\n",
    "ax.hlines(y=predicted_data[\"PERMA\"], xmin=predicted_data[\"PERMA\"], xmax=y_test_flex[\"PERMA\"], color='orange', linestyle='dotted', linewidth=0.4)\n",
    "ax.grid(linestyle='--')\n",
    "plt.savefig('../images/regression/SKL_SVM_LK_fig1-time.png', format='png')\n",
    "plt.show()\n"
   ]
  },
  {
   "cell_type": "markdown",
   "metadata": {},
   "source": [
    "# Old stuff, ignore for now"
   ]
  },
  {
   "cell_type": "code",
   "execution_count": 22,
   "metadata": {},
   "outputs": [
    {
     "data": {
      "text/plain": [
       "(144, 43)"
      ]
     },
     "execution_count": 22,
     "metadata": {},
     "output_type": "execute_result"
    }
   ],
   "source": [
    "# # Scale data\n",
    "# scaler = preprocessing.StandardScaler()\n",
    "# features_df_scaled = features_df.copy()\n",
    "# features_df_scaled[features_df_scaled.columns] = scaler.fit_transform(\n",
    "#     features_df_scaled[features_df_scaled.columns])\n",
    "\n",
    "# normalizer = preprocessing.Normalizer()\n",
    "# features_df_norm = features_df.copy()\n",
    "# features_df_norm[features_df_norm.columns] = scaler.fit_transform(\n",
    "#     features_df_norm[features_df_norm.columns])\n",
    "\n",
    "# features_df_n=((features_df-features_df.min())/(features_df.max()-features_df.min()))\n",
    "\n",
    "# plt.plot(features_df_n.std())\n",
    "# Check variance\n",
    "# sel = VarianceThreshold(threshold=(.8 * (1 - .8)))\n",
    "# sel.fit_transform(X)\n",
    "features_df.shape"
   ]
  },
  {
   "cell_type": "code",
   "execution_count": 23,
   "metadata": {},
   "outputs": [
    {
     "name": "stdout",
     "output_type": "stream",
     "text": [
      "Estimated intercept coefficient: 2.434476810730719\n",
      "Number of coefficients: 11\n"
     ]
    },
    {
     "data": {
      "text/html": [
       "<div>\n",
       "<style scoped>\n",
       "    .dataframe tbody tr th:only-of-type {\n",
       "        vertical-align: middle;\n",
       "    }\n",
       "\n",
       "    .dataframe tbody tr th {\n",
       "        vertical-align: top;\n",
       "    }\n",
       "\n",
       "    .dataframe thead th {\n",
       "        text-align: right;\n",
       "    }\n",
       "</style>\n",
       "<table border=\"1\" class=\"dataframe\">\n",
       "  <thead>\n",
       "    <tr style=\"text-align: right;\">\n",
       "      <th></th>\n",
       "      <th>features</th>\n",
       "      <th>estimatedCoefficients</th>\n",
       "    </tr>\n",
       "  </thead>\n",
       "  <tbody>\n",
       "    <tr>\n",
       "      <td>0</td>\n",
       "      <td>image_width</td>\n",
       "      <td>4.803700</td>\n",
       "    </tr>\n",
       "    <tr>\n",
       "      <td>1</td>\n",
       "      <td>data_memorability</td>\n",
       "      <td>-0.366321</td>\n",
       "    </tr>\n",
       "    <tr>\n",
       "      <td>2</td>\n",
       "      <td>user_follows</td>\n",
       "      <td>-0.068669</td>\n",
       "    </tr>\n",
       "    <tr>\n",
       "      <td>3</td>\n",
       "      <td>user_posted_photos</td>\n",
       "      <td>11.520431</td>\n",
       "    </tr>\n",
       "    <tr>\n",
       "      <td>4</td>\n",
       "      <td>age</td>\n",
       "      <td>0.311459</td>\n",
       "    </tr>\n",
       "    <tr>\n",
       "      <td>5</td>\n",
       "      <td>glasses</td>\n",
       "      <td>323.962581</td>\n",
       "    </tr>\n",
       "    <tr>\n",
       "      <td>6</td>\n",
       "      <td>face_emotion_ANGRY</td>\n",
       "      <td>49.575499</td>\n",
       "    </tr>\n",
       "    <tr>\n",
       "      <td>7</td>\n",
       "      <td>face_emotion_CALM</td>\n",
       "      <td>67.470166</td>\n",
       "    </tr>\n",
       "    <tr>\n",
       "      <td>8</td>\n",
       "      <td>face_emotion_CONFUSED</td>\n",
       "      <td>8.706423</td>\n",
       "    </tr>\n",
       "    <tr>\n",
       "      <td>9</td>\n",
       "      <td>face_emotion_DISGUSTED</td>\n",
       "      <td>35.935305</td>\n",
       "    </tr>\n",
       "    <tr>\n",
       "      <td>10</td>\n",
       "      <td>face_emotion_SAD</td>\n",
       "      <td>-57.636147</td>\n",
       "    </tr>\n",
       "  </tbody>\n",
       "</table>\n",
       "</div>"
      ],
      "text/plain": [
       "                  features  estimatedCoefficients\n",
       "0              image_width               4.803700\n",
       "1        data_memorability              -0.366321\n",
       "2             user_follows              -0.068669\n",
       "3       user_posted_photos              11.520431\n",
       "4                      age               0.311459\n",
       "5                  glasses             323.962581\n",
       "6       face_emotion_ANGRY              49.575499\n",
       "7        face_emotion_CALM              67.470166\n",
       "8    face_emotion_CONFUSED               8.706423\n",
       "9   face_emotion_DISGUSTED              35.935305\n",
       "10        face_emotion_SAD             -57.636147"
      ]
     },
     "execution_count": 23,
     "metadata": {},
     "output_type": "execute_result"
    }
   ],
   "source": [
    "# the intercept is the expected mean of the perma score if some X is equal to 0\n",
    "# in our case, it's pretty low\n",
    "print('Estimated intercept coefficient:', lr.intercept_)\n",
    "\n",
    "# the number of coefficients\n",
    "print('Number of coefficients:', len(lr.coef_))\n",
    "\n",
    "# output the coefficients\n",
    "pd.DataFrame(list(zip(X_train_flex.columns, lr.coef_)), columns = ['features', 'estimatedCoefficients'])"
   ]
  },
  {
   "cell_type": "markdown",
   "metadata": {},
   "source": [
    "The coefficient of the **glasses** feature, is significantly higher than all other features. We can use a residential plot to see if the this feature is suitable for linear regression."
   ]
  },
  {
   "cell_type": "code",
   "execution_count": 24,
   "metadata": {},
   "outputs": [
    {
     "data": {
      "text/plain": [
       "<matplotlib.axes._subplots.AxesSubplot at 0x7faa44684208>"
      ]
     },
     "execution_count": 24,
     "metadata": {},
     "output_type": "execute_result"
    },
    {
     "data": {
      "image/png": "[encoded data removed]",
      "text/plain": [
       "<Figure size 720x504 with 1 Axes>"
      ]
     },
     "metadata": {
      "needs_background": "light"
     },
     "output_type": "display_data"
    }
   ],
   "source": [
    "fig = plt.figure(figsize=(10,7))\n",
    "sns.residplot(X_test_flex.glasses, y_test_flex.PERMA, color='magenta')"
   ]
  },
  {
   "cell_type": "markdown",
   "metadata": {},
   "source": [
    "Plot a scatter plot using the **glasses** feature and the **PERMA** scores from the test -and predicted dataset."
   ]
  },
  {
   "cell_type": "code",
   "execution_count": 25,
   "metadata": {},
   "outputs": [
    {
     "data": {
      "text/plain": [
       "<matplotlib.axes._subplots.AxesSubplot at 0x7faa44522080>"
      ]
     },
     "execution_count": 25,
     "metadata": {},
     "output_type": "execute_result"
    },
    {
     "data": {
      "image/png": "[encoded data removed]",
      "text/plain": [
       "<Figure size 720x504 with 1 Axes>"
      ]
     },
     "metadata": {
      "needs_background": "light"
     },
     "output_type": "display_data"
    }
   ],
   "source": [
    "fig = plt.figure(figsize=(10,7))\n",
    "ax1 = sns.regplot(x=X_test_flex.glasses,y=y_test_flex.PERMA,color='blue', marker='+')\n",
    "sns.regplot(x=X_test_flex.glasses,y=y_pred,color='magenta', marker='+', ax=ax1)"
   ]
  },
  {
   "cell_type": "code",
   "execution_count": 26,
   "metadata": {
    "scrolled": false
   },
   "outputs": [
    {
     "data": {
      "text/plain": [
       "<matplotlib.axes._subplots.AxesSubplot at 0x7faa444445c0>"
      ]
     },
     "execution_count": 26,
     "metadata": {},
     "output_type": "execute_result"
    },
    {
     "data": {
      "image/png": "[encoded data removed]",
      "text/plain": [
       "<Figure size 720x504 with 1 Axes>"
      ]
     },
     "metadata": {
      "needs_background": "light"
     },
     "output_type": "display_data"
    }
   ],
   "source": [
    "# try to do the same for the CALM emotion\n",
    "fig = plt.figure(figsize=(10,7))\n",
    "ax1 = sns.regplot(x=X_test_flex.face_emotion_CALM,y=y_test_flex.PERMA,color='blue', marker='+')\n",
    "sns.regplot(x=X_test_flex.face_emotion_CALM,y=y_pred,color='magenta', marker='+', ax=ax1)"
   ]
  },
  {
   "cell_type": "code",
   "execution_count": 27,
   "metadata": {},
   "outputs": [
    {
     "name": "stdout",
     "output_type": "stream",
     "text": [
      "['data_memorability', 'face_emotion_CALM', 'face_emotion_CONFUSED', 'face_emotion_SURPRISED', 'male', 'emotion_label_acceptance', 'emotion_label_rage', 'emotion_label_sadness', 'emotion_label_serenity', 'emotion_label_terror']\n"
     ]
    },
    {
     "data": {
      "image/png": "[encoded data removed]",
      "text/plain": [
       "<Figure size 432x288 with 1 Axes>"
      ]
     },
     "metadata": {
      "needs_background": "light"
     },
     "output_type": "display_data"
    }
   ],
   "source": [
    "print(best_feat)\n",
    "plt.scatter(target_df.PERMA, reg_best.predict(features_df[best_feat]))\n",
    "plt.xlabel('PERMA scores')\n",
    "plt.ylabel('Predicted PERMA scores')\n",
    "plt.show()"
   ]
  }
 ],
 "metadata": {
  "kernelspec": {
   "display_name": "Python 3",
   "language": "python",
   "name": "python3"
  },
  "language_info": {
   "codemirror_mode": {
    "name": "ipython",
    "version": 3
   },
   "file_extension": ".py",
   "mimetype": "text/x-python",
   "name": "python",
   "nbconvert_exporter": "python",
   "pygments_lexer": "ipython3",
   "version": "3.7.4"
  }
 },
 "nbformat": 4,
 "nbformat_minor": 2
}
