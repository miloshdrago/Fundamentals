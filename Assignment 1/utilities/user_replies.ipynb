{
 "cells": [
  {
   "cell_type": "code",
   "execution_count": 1,
   "metadata": {},
   "outputs": [],
   "source": [
    "# dependencies\n",
    "import pymongo\n",
    "import pandas as pd\n",
    "import json"
   ]
  },
  {
   "cell_type": "code",
   "execution_count": 2,
   "metadata": {},
   "outputs": [
    {
     "data": {
      "text/plain": [
       "'user.id_1'"
      ]
     },
     "execution_count": 2,
     "metadata": {},
     "output_type": "execute_result"
    }
   ],
   "source": [
    "# setup\n",
    "client = pymongo.MongoClient()\n",
    "database = client.fds_twitter\n",
    "collection = database.messages\n",
    "collection.create_index([('user.id', 1)])"
   ]
  },
  {
   "cell_type": "code",
   "execution_count": 32,
   "metadata": {},
   "outputs": [
    {
     "data": {
      "text/html": [
       "<div>\n",
       "<style scoped>\n",
       "    .dataframe tbody tr th:only-of-type {\n",
       "        vertical-align: middle;\n",
       "    }\n",
       "\n",
       "    .dataframe tbody tr th {\n",
       "        vertical-align: top;\n",
       "    }\n",
       "\n",
       "    .dataframe thead th {\n",
       "        text-align: right;\n",
       "    }\n",
       "</style>\n",
       "<table border=\"1\" class=\"dataframe\">\n",
       "  <thead>\n",
       "    <tr style=\"text-align: right;\">\n",
       "      <th></th>\n",
       "      <th>_id</th>\n",
       "      <th>in_reply_to_status_id_str</th>\n",
       "      <th>in_reply_to_user_id_str</th>\n",
       "      <th>user</th>\n",
       "    </tr>\n",
       "  </thead>\n",
       "  <tbody>\n",
       "    <tr>\n",
       "      <td>0</td>\n",
       "      <td>5d7e1415af475bc1f98581ad</td>\n",
       "      <td>764038820476051456</td>\n",
       "      <td>10774652</td>\n",
       "      <td>{'id_str': '366636488'}</td>\n",
       "    </tr>\n",
       "    <tr>\n",
       "      <td>1</td>\n",
       "      <td>5d7e1415af475bc1f98581ae</td>\n",
       "      <td>None</td>\n",
       "      <td>813286</td>\n",
       "      <td>{'id_str': '82496193'}</td>\n",
       "    </tr>\n",
       "    <tr>\n",
       "      <td>2</td>\n",
       "      <td>5d7e1415af475bc1f98581af</td>\n",
       "      <td>764038820476051456</td>\n",
       "      <td>10774652</td>\n",
       "      <td>{'id_str': '366636488'}</td>\n",
       "    </tr>\n",
       "    <tr>\n",
       "      <td>3</td>\n",
       "      <td>5d7e1415af475bc1f98581b0</td>\n",
       "      <td>762623255005966336</td>\n",
       "      <td>1339835893</td>\n",
       "      <td>{'id_str': '44032624'}</td>\n",
       "    </tr>\n",
       "    <tr>\n",
       "      <td>4</td>\n",
       "      <td>5d7e1415af475bc1f98581b1</td>\n",
       "      <td>None</td>\n",
       "      <td>None</td>\n",
       "      <td>{'id_str': '769208504'}</td>\n",
       "    </tr>\n",
       "    <tr>\n",
       "      <td>...</td>\n",
       "      <td>...</td>\n",
       "      <td>...</td>\n",
       "      <td>...</td>\n",
       "      <td>...</td>\n",
       "    </tr>\n",
       "    <tr>\n",
       "      <td>657302</td>\n",
       "      <td>5d7e212caf475bc1f98f8943</td>\n",
       "      <td>None</td>\n",
       "      <td>None</td>\n",
       "      <td>{'id_str': '569487350'}</td>\n",
       "    </tr>\n",
       "    <tr>\n",
       "      <td>657303</td>\n",
       "      <td>5d7e212caf475bc1f98f8944</td>\n",
       "      <td>None</td>\n",
       "      <td>126629610</td>\n",
       "      <td>{'id_str': '716017946166857728'}</td>\n",
       "    </tr>\n",
       "    <tr>\n",
       "      <td>657304</td>\n",
       "      <td>5d7e212caf475bc1f98f8945</td>\n",
       "      <td>None</td>\n",
       "      <td>None</td>\n",
       "      <td>{'id_str': '44489439'}</td>\n",
       "    </tr>\n",
       "    <tr>\n",
       "      <td>657305</td>\n",
       "      <td>5d7e212caf475bc1f98f8946</td>\n",
       "      <td>None</td>\n",
       "      <td>None</td>\n",
       "      <td>{'id_str': '3241116564'}</td>\n",
       "    </tr>\n",
       "    <tr>\n",
       "      <td>657306</td>\n",
       "      <td>5d7e212caf475bc1f98f8947</td>\n",
       "      <td>775312705104318464</td>\n",
       "      <td>729676086632656900</td>\n",
       "      <td>{'id_str': '142113417'}</td>\n",
       "    </tr>\n",
       "  </tbody>\n",
       "</table>\n",
       "<p>657307 rows × 4 columns</p>\n",
       "</div>"
      ],
      "text/plain": [
       "                             _id in_reply_to_status_id_str  \\\n",
       "0       5d7e1415af475bc1f98581ad        764038820476051456   \n",
       "1       5d7e1415af475bc1f98581ae                      None   \n",
       "2       5d7e1415af475bc1f98581af        764038820476051456   \n",
       "3       5d7e1415af475bc1f98581b0        762623255005966336   \n",
       "4       5d7e1415af475bc1f98581b1                      None   \n",
       "...                          ...                       ...   \n",
       "657302  5d7e212caf475bc1f98f8943                      None   \n",
       "657303  5d7e212caf475bc1f98f8944                      None   \n",
       "657304  5d7e212caf475bc1f98f8945                      None   \n",
       "657305  5d7e212caf475bc1f98f8946                      None   \n",
       "657306  5d7e212caf475bc1f98f8947        775312705104318464   \n",
       "\n",
       "       in_reply_to_user_id_str                              user  \n",
       "0                     10774652           {'id_str': '366636488'}  \n",
       "1                       813286            {'id_str': '82496193'}  \n",
       "2                     10774652           {'id_str': '366636488'}  \n",
       "3                   1339835893            {'id_str': '44032624'}  \n",
       "4                         None           {'id_str': '769208504'}  \n",
       "...                        ...                               ...  \n",
       "657302                    None           {'id_str': '569487350'}  \n",
       "657303               126629610  {'id_str': '716017946166857728'}  \n",
       "657304                    None            {'id_str': '44489439'}  \n",
       "657305                    None          {'id_str': '3241116564'}  \n",
       "657306      729676086632656900           {'id_str': '142113417'}  \n",
       "\n",
       "[657307 rows x 4 columns]"
      ]
     },
     "execution_count": 32,
     "metadata": {},
     "output_type": "execute_result"
    }
   ],
   "source": [
    "users = collection.find(projection=[\"user.id_str\", \"in_reply_to_status_id_str\", \"in_reply_to_user_id_str\"])\n",
    "df = pd.DataFrame(users)\n",
    "df"
   ]
  },
  {
   "cell_type": "code",
   "execution_count": 33,
   "metadata": {},
   "outputs": [],
   "source": [
    "df['user'] = df['user'].apply(lambda x: str(x['id_str']))"
   ]
  },
  {
   "cell_type": "code",
   "execution_count": 34,
   "metadata": {},
   "outputs": [
    {
     "data": {
      "text/html": [
       "<div>\n",
       "<style scoped>\n",
       "    .dataframe tbody tr th:only-of-type {\n",
       "        vertical-align: middle;\n",
       "    }\n",
       "\n",
       "    .dataframe tbody tr th {\n",
       "        vertical-align: top;\n",
       "    }\n",
       "\n",
       "    .dataframe thead th {\n",
       "        text-align: right;\n",
       "    }\n",
       "</style>\n",
       "<table border=\"1\" class=\"dataframe\">\n",
       "  <thead>\n",
       "    <tr style=\"text-align: right;\">\n",
       "      <th></th>\n",
       "      <th>_id</th>\n",
       "      <th>in_reply_to_status_id_str</th>\n",
       "      <th>in_reply_to_user_id_str</th>\n",
       "      <th>user</th>\n",
       "    </tr>\n",
       "  </thead>\n",
       "  <tbody>\n",
       "    <tr>\n",
       "      <td>0</td>\n",
       "      <td>5d7e1415af475bc1f98581ad</td>\n",
       "      <td>764038820476051456</td>\n",
       "      <td>10774652</td>\n",
       "      <td>366636488</td>\n",
       "    </tr>\n",
       "    <tr>\n",
       "      <td>2</td>\n",
       "      <td>5d7e1415af475bc1f98581af</td>\n",
       "      <td>764038820476051456</td>\n",
       "      <td>10774652</td>\n",
       "      <td>366636488</td>\n",
       "    </tr>\n",
       "    <tr>\n",
       "      <td>3</td>\n",
       "      <td>5d7e1415af475bc1f98581b0</td>\n",
       "      <td>762623255005966336</td>\n",
       "      <td>1339835893</td>\n",
       "      <td>44032624</td>\n",
       "    </tr>\n",
       "    <tr>\n",
       "      <td>9</td>\n",
       "      <td>5d7e1415af475bc1f98581b6</td>\n",
       "      <td>764037223503331328</td>\n",
       "      <td>11966392</td>\n",
       "      <td>740623508</td>\n",
       "    </tr>\n",
       "    <tr>\n",
       "      <td>10</td>\n",
       "      <td>5d7e1415af475bc1f98581b7</td>\n",
       "      <td>764001459671150595</td>\n",
       "      <td>4852163069</td>\n",
       "      <td>1507953240</td>\n",
       "    </tr>\n",
       "    <tr>\n",
       "      <td>...</td>\n",
       "      <td>...</td>\n",
       "      <td>...</td>\n",
       "      <td>...</td>\n",
       "      <td>...</td>\n",
       "    </tr>\n",
       "    <tr>\n",
       "      <td>657292</td>\n",
       "      <td>5d7e212caf475bc1f98f8939</td>\n",
       "      <td>775322944209883136</td>\n",
       "      <td>3001269268</td>\n",
       "      <td>3001269268</td>\n",
       "    </tr>\n",
       "    <tr>\n",
       "      <td>657293</td>\n",
       "      <td>5d7e212caf475bc1f98f893a</td>\n",
       "      <td>775320576911024128</td>\n",
       "      <td>3293178390</td>\n",
       "      <td>3293178390</td>\n",
       "    </tr>\n",
       "    <tr>\n",
       "      <td>657299</td>\n",
       "      <td>5d7e212caf475bc1f98f8940</td>\n",
       "      <td>775008958364852224</td>\n",
       "      <td>377751695</td>\n",
       "      <td>242992653</td>\n",
       "    </tr>\n",
       "    <tr>\n",
       "      <td>657300</td>\n",
       "      <td>5d7e212caf475bc1f98f8941</td>\n",
       "      <td>775322485105500160</td>\n",
       "      <td>332888709</td>\n",
       "      <td>332888709</td>\n",
       "    </tr>\n",
       "    <tr>\n",
       "      <td>657306</td>\n",
       "      <td>5d7e212caf475bc1f98f8947</td>\n",
       "      <td>775312705104318464</td>\n",
       "      <td>729676086632656900</td>\n",
       "      <td>142113417</td>\n",
       "    </tr>\n",
       "  </tbody>\n",
       "</table>\n",
       "<p>288486 rows × 4 columns</p>\n",
       "</div>"
      ],
      "text/plain": [
       "                             _id in_reply_to_status_id_str  \\\n",
       "0       5d7e1415af475bc1f98581ad        764038820476051456   \n",
       "2       5d7e1415af475bc1f98581af        764038820476051456   \n",
       "3       5d7e1415af475bc1f98581b0        762623255005966336   \n",
       "9       5d7e1415af475bc1f98581b6        764037223503331328   \n",
       "10      5d7e1415af475bc1f98581b7        764001459671150595   \n",
       "...                          ...                       ...   \n",
       "657292  5d7e212caf475bc1f98f8939        775322944209883136   \n",
       "657293  5d7e212caf475bc1f98f893a        775320576911024128   \n",
       "657299  5d7e212caf475bc1f98f8940        775008958364852224   \n",
       "657300  5d7e212caf475bc1f98f8941        775322485105500160   \n",
       "657306  5d7e212caf475bc1f98f8947        775312705104318464   \n",
       "\n",
       "       in_reply_to_user_id_str        user  \n",
       "0                     10774652   366636488  \n",
       "2                     10774652   366636488  \n",
       "3                   1339835893    44032624  \n",
       "9                     11966392   740623508  \n",
       "10                  4852163069  1507953240  \n",
       "...                        ...         ...  \n",
       "657292              3001269268  3001269268  \n",
       "657293              3293178390  3293178390  \n",
       "657299               377751695   242992653  \n",
       "657300               332888709   332888709  \n",
       "657306      729676086632656900   142113417  \n",
       "\n",
       "[288486 rows x 4 columns]"
      ]
     },
     "execution_count": 34,
     "metadata": {},
     "output_type": "execute_result"
    }
   ],
   "source": [
    "# remove all rows that are not a reply\n",
    "df = df.dropna()\n",
    "df"
   ]
  },
  {
   "cell_type": "code",
   "execution_count": 38,
   "metadata": {},
   "outputs": [],
   "source": [
    "grouped = df.groupby('user')['in_reply_to_user_id_str'].agg(list)"
   ]
  },
  {
   "cell_type": "code",
   "execution_count": 49,
   "metadata": {},
   "outputs": [
    {
     "data": {
      "text/plain": [
       "user\n",
       "100007790                                           [274218280]\n",
       "1000153826                                           [25073877]\n",
       "100025085                           [1367531, 9300262, 1367531]\n",
       "1000340761                              [127375220, 1339835893]\n",
       "100041840     [25073877, 25073877, 25073877, 25073877, 56205...\n",
       "                                    ...                        \n",
       "999576338                                            [39689218]\n",
       "99959281      [116245566, 2468758092, 705555762538487808, 99...\n",
       "99960562      [25073877, 809887021, 24578794, 25073877, 2542...\n",
       "999642914                                              [813286]\n",
       "99981345                                            [489596897]\n",
       "Name: in_reply_to_user_id_str, Length: 39604, dtype: object"
      ]
     },
     "execution_count": 49,
     "metadata": {},
     "output_type": "execute_result"
    }
   ],
   "source": [
    "grouped"
   ]
  },
  {
   "cell_type": "code",
   "execution_count": 50,
   "metadata": {},
   "outputs": [
    {
     "name": "stderr",
     "output_type": "stream",
     "text": [
      "/usr/local/lib/python3.7/site-packages/ipykernel_launcher.py:1: FutureWarning: The signature of `Series.to_csv` was aligned to that of `DataFrame.to_csv`, and argument 'header' will change its default value from False to True: please pass an explicit value to suppress this warning.\n",
      "  \"\"\"Entry point for launching an IPython kernel.\n"
     ]
    }
   ],
   "source": [
    "grouped.to_csv('../datasets/user_replies.csv')"
   ]
  },
  {
   "cell_type": "code",
   "execution_count": null,
   "metadata": {},
   "outputs": [],
   "source": []
  }
 ],
 "metadata": {
  "kernelspec": {
   "display_name": "Python 3",
   "language": "python",
   "name": "python3"
  },
  "language_info": {
   "codemirror_mode": {
    "name": "ipython",
    "version": 3
   },
   "file_extension": ".py",
   "mimetype": "text/x-python",
   "name": "python",
   "nbconvert_exporter": "python",
   "pygments_lexer": "ipython3",
   "version": "3.7.4"
  }
 },
 "nbformat": 4,
 "nbformat_minor": 2
}
