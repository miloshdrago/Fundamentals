{
 "cells": [
  {
   "cell_type": "markdown",
   "metadata": {},
   "source": [
    "## Libraries"
   ]
  },
  {
   "cell_type": "code",
   "execution_count": 112,
   "metadata": {},
   "outputs": [],
   "source": [
    "import pandas as pd\n",
    "import numpy as np\n",
    "import matplotlib.pyplot as plt\n",
    "from matplotlib import cm\n",
    "\n",
    "from pymongo import MongoClient\n",
    "from pymongo.errors import ConnectionFailure\n",
    "\n",
    "import os\n",
    "import warnings\n",
    "warnings.filterwarnings('ignore')"
   ]
  },
  {
   "cell_type": "markdown",
   "metadata": {},
   "source": [
    "## MongoDB Configuration"
   ]
  },
  {
   "cell_type": "code",
   "execution_count": null,
   "metadata": {},
   "outputs": [],
   "source": [
    "!mongod --config /usr/local/etc/mongod.conf\n",
    "!brew services start mongodb-community"
   ]
  },
  {
   "cell_type": "code",
   "execution_count": 85,
   "metadata": {},
   "outputs": [
    {
     "name": "stdout",
     "output_type": "stream",
     "text": [
      "Amount of tweets: 657308\n"
     ]
    }
   ],
   "source": [
    "# Location MongoDB:\n",
    "mongo_host = None\n",
    "# Name collection\n",
    "client_name = \"fundamentals\"\n",
    "\n",
    "# Create connection\n",
    "try:\n",
    "    client = MongoClient(mongo_host)\n",
    "    client.admin.command('ismaster')\n",
    "    db = client[client_name] # Change to client.fundamentals for final version\n",
    "    twitter_db = db.twitter\n",
    "    \n",
    "except ConnectionFailure:\n",
    "    print(\"Connection to MongoDB server could not be established\")\n",
    "    exit()\n",
    "\n",
    "# Test counting\n",
    "print(\"Amount of tweets:\",twitter_db.count_documents({}))"
   ]
  },
  {
   "cell_type": "markdown",
   "metadata": {},
   "source": [
    "---\n",
    "# Sensitive Tweets\n",
    "A dataframe with the **user ids** (and **text**) whose tweets are labeled as possibly_sensitive.\n",
    "\n",
    "- Correlate insensitive tweets and users with topics/sentiment, as well as candidates.\n",
    "- Ground truth for negative tweets (not quite sure about this, since idk to what extent Twitter does a good job on labeling sensitive tweets)."
   ]
  },
  {
   "cell_type": "code",
   "execution_count": 179,
   "metadata": {
    "scrolled": true
   },
   "outputs": [
    {
     "data": {
      "text/html": [
       "<div>\n",
       "<style scoped>\n",
       "    .dataframe tbody tr th:only-of-type {\n",
       "        vertical-align: middle;\n",
       "    }\n",
       "\n",
       "    .dataframe tbody tr th {\n",
       "        vertical-align: top;\n",
       "    }\n",
       "\n",
       "    .dataframe thead th {\n",
       "        text-align: right;\n",
       "    }\n",
       "</style>\n",
       "<table border=\"1\" class=\"dataframe\">\n",
       "  <thead>\n",
       "    <tr style=\"text-align: right;\">\n",
       "      <th></th>\n",
       "      <th>tweet_id</th>\n",
       "      <th>user_id</th>\n",
       "      <th>text</th>\n",
       "    </tr>\n",
       "  </thead>\n",
       "  <tbody>\n",
       "    <tr>\n",
       "      <th>0</th>\n",
       "      <td>764054901596917761</td>\n",
       "      <td>290310039</td>\n",
       "      <td>Go back to the trailer park. white trash slut....</td>\n",
       "    </tr>\n",
       "    <tr>\n",
       "      <th>1</th>\n",
       "      <td>764057284435595264</td>\n",
       "      <td>970586574</td>\n",
       "      <td>@realDonaldTrump just as ignorant #trumpettes ...</td>\n",
       "    </tr>\n",
       "    <tr>\n",
       "      <th>2</th>\n",
       "      <td>764063769961955330</td>\n",
       "      <td>153459599</td>\n",
       "      <td>\"Se derrite\" @realDonaldTrump: @TIME https://t...</td>\n",
       "    </tr>\n",
       "    <tr>\n",
       "      <th>3</th>\n",
       "      <td>764065651950362624</td>\n",
       "      <td>736711687785484288</td>\n",
       "      <td>@realDonaldTrump https://t.co/1fvZ8ElLg4</td>\n",
       "    </tr>\n",
       "    <tr>\n",
       "      <th>4</th>\n",
       "      <td>764067007792754691</td>\n",
       "      <td>290310039</td>\n",
       "      <td>@gabriel_turpin @realDonaldTrump https://t.co/...</td>\n",
       "    </tr>\n",
       "  </tbody>\n",
       "</table>\n",
       "</div>"
      ],
      "text/plain": [
       "             tweet_id             user_id  \\\n",
       "0  764054901596917761           290310039   \n",
       "1  764057284435595264           970586574   \n",
       "2  764063769961955330           153459599   \n",
       "3  764065651950362624  736711687785484288   \n",
       "4  764067007792754691           290310039   \n",
       "\n",
       "                                                text  \n",
       "0  Go back to the trailer park. white trash slut....  \n",
       "1  @realDonaldTrump just as ignorant #trumpettes ...  \n",
       "2  \"Se derrite\" @realDonaldTrump: @TIME https://t...  \n",
       "3           @realDonaldTrump https://t.co/1fvZ8ElLg4  \n",
       "4  @gabriel_turpin @realDonaldTrump https://t.co/...  "
      ]
     },
     "execution_count": 179,
     "metadata": {},
     "output_type": "execute_result"
    }
   ],
   "source": [
    "sensitive_df = pd.DataFrame(columns = ['tweet_id', 'user_id', 'text'])\n",
    "possibly_sensitive = list(twitter_db.find(filter = {\"possibly_sensitive\" : True},\n",
    "                                          projection={\"user.id\": 1,\n",
    "                                                 \"text\": 1,\n",
    "                                                 \"id\": 1,\n",
    "                                                 \"_id\": 0})\n",
    "                         )\n",
    "\n",
    "sensitive_df['tweet_id'] = [t['id'] for t in possibly_sensitive]\n",
    "sensitive_df['user_id'] = [x['id'] for x in [t['user'] for t in possibly_sensitive]]\n",
    "sensitive_df['text'] = [t['text'] for t in possibly_sensitive]\n",
    "\n",
    "sensitive_df.head()"
   ]
  },
  {
   "cell_type": "markdown",
   "metadata": {},
   "source": [
    "# Candidate Mentions\n",
    "A dataframe with the **total number of candidate mentions** and a list of **ids** of both _users_ (mentioned_by) and _tweets_ (mentioned_in) who mention each candidate. Useful for:\n",
    "\n",
    "- Candidate popularity index among twitter users.\n",
    "- User interest towards a certain candidate (e.g. mentioning Trump a lot denotes interest towards him)\n",
    "- Sentiment analysis (at tweet/text level) & Candidate mapping. That is, for a given negative tweet see if Trump's on it, or what's the most common sentiment towards a certain candidate (e.g. positive or negative), among other analysis.\n",
    "- More? (e.g. agreggations with other features: what country mentions Trump more?) - Feel free to add more."
   ]
  },
  {
   "cell_type": "code",
   "execution_count": 87,
   "metadata": {},
   "outputs": [
    {
     "data": {
      "text/html": [
       "<div>\n",
       "<style scoped>\n",
       "    .dataframe tbody tr th:only-of-type {\n",
       "        vertical-align: middle;\n",
       "    }\n",
       "\n",
       "    .dataframe tbody tr th {\n",
       "        vertical-align: top;\n",
       "    }\n",
       "\n",
       "    .dataframe thead th {\n",
       "        text-align: right;\n",
       "    }\n",
       "</style>\n",
       "<table border=\"1\" class=\"dataframe\">\n",
       "  <thead>\n",
       "    <tr style=\"text-align: right;\">\n",
       "      <th></th>\n",
       "      <th>user_id</th>\n",
       "      <th>num_mentions</th>\n",
       "      <th>mentioned_by</th>\n",
       "      <th>mentioned_in</th>\n",
       "    </tr>\n",
       "  </thead>\n",
       "  <tbody>\n",
       "    <tr>\n",
       "      <th>0</th>\n",
       "      <td>realDonaldTrump</td>\n",
       "      <td>325834</td>\n",
       "      <td>[717867080305999872, 755014864985260032, 75630...</td>\n",
       "      <td>[767543804484345856, 775280208815546368, 76487...</td>\n",
       "    </tr>\n",
       "    <tr>\n",
       "      <th>1</th>\n",
       "      <td>HillaryClinton</td>\n",
       "      <td>140740</td>\n",
       "      <td>[703782650490650624, 706105772048908288, 71553...</td>\n",
       "      <td>[764040367003926528, 764040731182759936, 76404...</td>\n",
       "    </tr>\n",
       "  </tbody>\n",
       "</table>\n",
       "</div>"
      ],
      "text/plain": [
       "           user_id num_mentions  \\\n",
       "0  realDonaldTrump       325834   \n",
       "1   HillaryClinton       140740   \n",
       "\n",
       "                                        mentioned_by  \\\n",
       "0  [717867080305999872, 755014864985260032, 75630...   \n",
       "1  [703782650490650624, 706105772048908288, 71553...   \n",
       "\n",
       "                                        mentioned_in  \n",
       "0  [767543804484345856, 775280208815546368, 76487...  \n",
       "1  [764040367003926528, 764040731182759936, 76404...  "
      ]
     },
     "execution_count": 87,
     "metadata": {},
     "output_type": "execute_result"
    }
   ],
   "source": [
    "user_mentions = pd.DataFrame(columns = ['user_id', 'num_mentions', 'mentioned_by', 'mentioned_in'])\n",
    "# ids = twitter_db.distinct(\"entities.user_mentions.id\")\n",
    "\n",
    "names = ['realDonaldTrump', 'HillaryClinton']\n",
    "\n",
    "for idx, name in enumerate(names):\n",
    "    mentions = list(twitter_db.find(filter = {\"entities.user_mentions.screen_name\": name}, \n",
    "                                    projection={\"user.id\": 1,\n",
    "                                                 \"id\": 1,\n",
    "                                                 \"_id\": 0})\n",
    "                    )\n",
    "    \n",
    "    mentioned_in = [i1['id'] for i1 in mentions]\n",
    "    mentioned_by = [i2['id'] for i2 in [x['user'] for x in mentions]]\n",
    "    num_mentions = len(mentioned_in)\n",
    "    \n",
    "    new_entry = [name, len(mentions), list(set(mentioned_by)), list(set(mentioned_in))]\n",
    "    user_mentions.loc[idx] = new_entry\n",
    "\n",
    "user_mentions"
   ]
  },
  {
   "cell_type": "markdown",
   "metadata": {},
   "source": [
    "# Candidate Hashtags"
   ]
  },
  {
   "cell_type": "code",
   "execution_count": 153,
   "metadata": {},
   "outputs": [
    {
     "data": {
      "text/html": [
       "<div>\n",
       "<style scoped>\n",
       "    .dataframe tbody tr th:only-of-type {\n",
       "        vertical-align: middle;\n",
       "    }\n",
       "\n",
       "    .dataframe tbody tr th {\n",
       "        vertical-align: top;\n",
       "    }\n",
       "\n",
       "    .dataframe thead th {\n",
       "        text-align: right;\n",
       "    }\n",
       "</style>\n",
       "<table border=\"1\" class=\"dataframe\">\n",
       "  <thead>\n",
       "    <tr style=\"text-align: right;\">\n",
       "      <th></th>\n",
       "      <th>hashtag</th>\n",
       "      <th>num_includes</th>\n",
       "      <th>included_by</th>\n",
       "      <th>included_in</th>\n",
       "    </tr>\n",
       "  </thead>\n",
       "  <tbody>\n",
       "    <tr>\n",
       "      <th>0</th>\n",
       "      <td>trump</td>\n",
       "      <td>7338</td>\n",
       "      <td>[701127633053073408, 712747774668726272, 73954...</td>\n",
       "      <td>[771170949135597568, 764088965284495361, 76410...</td>\n",
       "    </tr>\n",
       "    <tr>\n",
       "      <th>1</th>\n",
       "      <td>donaldtrump</td>\n",
       "      <td>1431</td>\n",
       "      <td>[744989452284497920, 726872427981066241, 27258...</td>\n",
       "      <td>[764108317455032320, 764045986985418753, 76405...</td>\n",
       "    </tr>\n",
       "    <tr>\n",
       "      <th>2</th>\n",
       "      <td>hillary</td>\n",
       "      <td>988</td>\n",
       "      <td>[759202288418361344, 717128235180384257, 71964...</td>\n",
       "      <td>[764080806323032064, 764095112976605184, 76409...</td>\n",
       "    </tr>\n",
       "    <tr>\n",
       "      <th>3</th>\n",
       "      <td>hillaryclinton</td>\n",
       "      <td>888</td>\n",
       "      <td>[714883579583471616, 726872427981066241, 71712...</td>\n",
       "      <td>[764062707792289792, 764094575820451840, 76414...</td>\n",
       "    </tr>\n",
       "  </tbody>\n",
       "</table>\n",
       "</div>"
      ],
      "text/plain": [
       "          hashtag num_includes  \\\n",
       "0           trump         7338   \n",
       "1     donaldtrump         1431   \n",
       "2         hillary          988   \n",
       "3  hillaryclinton          888   \n",
       "\n",
       "                                         included_by  \\\n",
       "0  [701127633053073408, 712747774668726272, 73954...   \n",
       "1  [744989452284497920, 726872427981066241, 27258...   \n",
       "2  [759202288418361344, 717128235180384257, 71964...   \n",
       "3  [714883579583471616, 726872427981066241, 71712...   \n",
       "\n",
       "                                         included_in  \n",
       "0  [771170949135597568, 764088965284495361, 76410...  \n",
       "1  [764108317455032320, 764045986985418753, 76405...  \n",
       "2  [764080806323032064, 764095112976605184, 76409...  \n",
       "3  [764062707792289792, 764094575820451840, 76414...  "
      ]
     },
     "execution_count": 153,
     "metadata": {},
     "output_type": "execute_result"
    }
   ],
   "source": [
    "user_hashtags = pd.DataFrame(columns = ['hashtag', 'num_includes', 'included_by', 'included_in'])\n",
    "# ids = twitter_db.distinct(\"entities.user_mentions.id\")\n",
    "\n",
    "hashtags = ['trump', 'donaldtrump', 'hillary', 'hillaryclinton']\n",
    "\n",
    "for idx, h in enumerate(hashtags):\n",
    "    hashtags = list(twitter_db.find(filter = {\"entities.hashtags.text\": h}, \n",
    "                                    projection={\"user.id\": 1,\n",
    "                                                 \"id\": 1,\n",
    "                                                 \"_id\": 0})\n",
    "                    )\n",
    "    \n",
    "    included_in = [i1['id'] for i1 in hashtags]\n",
    "    included_by = [i2['id'] for i2 in [x['user'] for x in hashtags]]\n",
    "    num_includes = len(included_in)\n",
    "    \n",
    "    new_entry = [h, len(hashtags), list(set(included_by)), list(set(included_in))]\n",
    "    user_hashtags.loc[idx] = new_entry\n",
    "\n",
    "user_hashtags"
   ]
  },
  {
   "cell_type": "markdown",
   "metadata": {},
   "source": [
    "# Geographic Analysis"
   ]
  },
  {
   "cell_type": "code",
   "execution_count": 81,
   "metadata": {},
   "outputs": [
    {
     "data": {
      "text/html": [
       "<div>\n",
       "<style scoped>\n",
       "    .dataframe tbody tr th:only-of-type {\n",
       "        vertical-align: middle;\n",
       "    }\n",
       "\n",
       "    .dataframe tbody tr th {\n",
       "        vertical-align: top;\n",
       "    }\n",
       "\n",
       "    .dataframe thead th {\n",
       "        text-align: right;\n",
       "    }\n",
       "</style>\n",
       "<table border=\"1\" class=\"dataframe\">\n",
       "  <thead>\n",
       "    <tr style=\"text-align: right;\">\n",
       "      <th></th>\n",
       "      <th>country</th>\n",
       "      <th>tweet_amount</th>\n",
       "    </tr>\n",
       "  </thead>\n",
       "  <tbody>\n",
       "    <tr>\n",
       "      <th>0</th>\n",
       "      <td>United States</td>\n",
       "      <td>591990</td>\n",
       "    </tr>\n",
       "    <tr>\n",
       "      <th>1</th>\n",
       "      <td>Australia</td>\n",
       "      <td>2613</td>\n",
       "    </tr>\n",
       "    <tr>\n",
       "      <th>2</th>\n",
       "      <td>United Kingdom</td>\n",
       "      <td>8599</td>\n",
       "    </tr>\n",
       "    <tr>\n",
       "      <th>3</th>\n",
       "      <td>Italy</td>\n",
       "      <td>267</td>\n",
       "    </tr>\n",
       "    <tr>\n",
       "      <th>4</th>\n",
       "      <td>Indonesia</td>\n",
       "      <td>132</td>\n",
       "    </tr>\n",
       "  </tbody>\n",
       "</table>\n",
       "</div>"
      ],
      "text/plain": [
       "          country tweet_amount\n",
       "0   United States       591990\n",
       "1       Australia         2613\n",
       "2  United Kingdom         8599\n",
       "3           Italy          267\n",
       "4       Indonesia          132"
      ]
     },
     "execution_count": 81,
     "metadata": {},
     "output_type": "execute_result"
    }
   ],
   "source": [
    "# Tweet country (based on tweet location? not really sure, have to check API doc)\n",
    "user_country = pd.DataFrame(columns = ['country', 'tweet_amount'])\n",
    "countries = twitter_db.distinct(\"place.country\")\n",
    "\n",
    "for idx, country in enumerate(countries):\n",
    "    tweet_amount = twitter_db.count(filter = {\"place.country\" : country})\n",
    "    user_country.loc[idx] = [country, tweet_amount] \n",
    "    \n",
    "user_country.head()"
   ]
  },
  {
   "cell_type": "code",
   "execution_count": 80,
   "metadata": {},
   "outputs": [
    {
     "data": {
      "text/plain": [
       "'\\nuser_loc = pd.DataFrame(columns = [\\'location\\', \\'tweet_amount\\'])\\nlocations = twitter_db.distinct(\"user.location\")\\n\\nfor idx, location in enumerate(locations):\\n    tweet_amount = twitter_db.count(filter = {\"user.location\" : location})\\n    user_loc.loc[idx] = [location, tweet_amount]           \\n    \\nuser_loc.head()\\n'"
      ]
     },
     "execution_count": 80,
     "metadata": {},
     "output_type": "execute_result"
    }
   ],
   "source": [
    "# User location (based on user profile) - COMMENTED because there are 31440 different locations \n",
    "# so it takes forever, and I don't think it's worth analyzing all of them.\n",
    "'''\n",
    "user_loc = pd.DataFrame(columns = ['location', 'tweet_amount'])\n",
    "locations = twitter_db.distinct(\"user.location\")\n",
    "\n",
    "for idx, location in enumerate(locations):\n",
    "    tweet_amount = twitter_db.count(filter = {\"user.location\" : location})\n",
    "    user_loc.loc[idx] = [location, tweet_amount]           \n",
    "    \n",
    "user_loc.head()\n",
    "'''"
   ]
  },
  {
   "cell_type": "markdown",
   "metadata": {},
   "source": [
    "## Some work on user interaction network\n",
    "For now, I've come up with a dataframe that for each user id maps what ids it has replied to. The problem is that yup, takes forever to fill up (Note that the mongoDB query can still be reused for this purpose in smarter way)."
   ]
  },
  {
   "cell_type": "code",
   "execution_count": null,
   "metadata": {},
   "outputs": [],
   "source": [
    "user_replies = pd.DataFrame(columns = ['user_id', 'replies_to'])\n",
    "ids = twitter_db.distinct(\"user.id\")\n",
    "\n",
    "for idx, user_id in enumerate(ids):\n",
    "    tweets_id = list(twitter_db.find(filter = {\"user.id\" : user_id}, \n",
    "                                     projection={\"in_reply_to_user_id\":1, \"_id\":0})\n",
    "                    )\n",
    "    \n",
    "    ids_replies_to = pd.DataFrame(tweets_id)['in_reply_to_user_id'].unique()\n",
    "    \n",
    "    new_entry = [user_id, ids_replies_to]\n",
    "    user_replies.loc[idx] = new_entry\n",
    "    \n",
    "user_replies.head()"
   ]
  },
  {
   "cell_type": "markdown",
   "metadata": {},
   "source": [
    "# Tweet-Candidate Mapping\n",
    "---\n",
    "## Sensitive Tweets\n",
    "1. How many sensitive (negative) tweets each candidate is mentioned in.\n",
    "2. How many users that mention each candidate have written sensitive tweets (i.e. how fucked up people that show interest towards a certain candidate are)."
   ]
  },
  {
   "cell_type": "code",
   "execution_count": 190,
   "metadata": {},
   "outputs": [
    {
     "name": "stdout",
     "output_type": "stream",
     "text": [
      "Number of sensitive tweets mentioning 'realDonaldTrump': 1518\n",
      "Number of sensitive tweets mentioning 'HillaryClinton': 730\n"
     ]
    }
   ],
   "source": [
    "# 1: Trump\n",
    "trues_trump = []\n",
    "for tweet_id in sensitive_df['tweet_id']:\n",
    "    if tweet_id in user_mentions.loc[0]['mentioned_in']:\n",
    "        trues_trump.append(True)\n",
    "\n",
    "# 1: Hillary\n",
    "trues_hillary = []\n",
    "for tweet_id in sensitive_df['tweet_id']:\n",
    "    if tweet_id in user_mentions.loc[1]['mentioned_in']:\n",
    "        trues_hillary.append(True)\n",
    "\n",
    "num_sens_tweets = [sum(trues_trump), sum(trues_hillary)]\n",
    "\n",
    "print(\"Number of sensitive tweets mentioning 'realDonaldTrump':\", sum(trues_trump))\n",
    "print(\"Number of sensitive tweets mentioning 'HillaryClinton':\", sum(trues_hillary))"
   ]
  },
  {
   "cell_type": "code",
   "execution_count": 108,
   "metadata": {},
   "outputs": [
    {
     "name": "stdout",
     "output_type": "stream",
     "text": [
      "Number of people that mention 'realDonaldTrump' and have written at least one sensitive tweet: 11\n",
      "Number of people that mention 'HillaryClinton' and have written at least one sensitive tweet: 2\n"
     ]
    }
   ],
   "source": [
    "# 2: Trump\n",
    "trues_trump = []\n",
    "for user_id in user_mentions.loc[0]['mentioned_by']:\n",
    "    if user_id in sensitive_df['user_id']:\n",
    "        trues_trump.append(True)\n",
    "\n",
    "# 2: Hillary\n",
    "trues_hillary = []\n",
    "for user_id in user_mentions.loc[1]['mentioned_by']:\n",
    "    if user_id in sensitive_df['user_id']:\n",
    "        trues_hillary.append(True)\n",
    "\n",
    "num_sens_users = [sum(trues_trump), sum(trues_hillary)]\n",
    "\n",
    "print(\"Number of people that mention 'realDonaldTrump' and have written at least one sensitive tweet:\", sum(trues_trump))\n",
    "print(\"Number of people that mention 'HillaryClinton' and have written at least one sensitive tweet:\", sum(trues_hillary))\n"
   ]
  },
  {
   "cell_type": "markdown",
   "metadata": {},
   "source": [
    "### Visualization"
   ]
  },
  {
   "cell_type": "code",
   "execution_count": 144,
   "metadata": {},
   "outputs": [
    {
     "data": {
      "image/png": "[encoded data removed]",
      "text/plain": [
       "<Figure size 1296x576 with 2 Axes>"
      ]
     },
     "metadata": {},
     "output_type": "display_data"
    }
   ],
   "source": [
    "fig, axes = plt.subplots(nrows=1, ncols=2, figsize=(18,8))\n",
    "ax1, ax2 = axes.flatten()\n",
    "\n",
    "# Left axis\n",
    "candidates = ['realDonaldTrump', 'HillaryClinton']\n",
    "amounts = num_sens_tweets\n",
    "percentage_sales = np.array(amounts)/sum(amounts)\n",
    "colors = ['#d91c1c', '#2f3feb']\n",
    "explode = [0]*2\n",
    "explode[0] = 0.1\n",
    "\n",
    "patches, texts, autotexts = ax1.pie(percentage_sales, \n",
    "                                    colors=colors, \n",
    "                                    labels=candidates, \n",
    "                                    autopct='%1.1f%%',\n",
    "                                    explode=explode,\n",
    "                                    startangle=-90,\n",
    "                                    shadow=False)\n",
    "\n",
    "for i in range(0,2):\n",
    "    texts[i].set_fontsize(18)\n",
    "    autotexts[i].set_fontsize(22)\n",
    "    autotexts[i].set_color('white')\n",
    "    autotexts[i].set_weight('bold')\n",
    "    \n",
    "ax1.set_title('Proportion of Sensitive Tweets\\nthat Mention Each Candidate', fontsize=32, y=1.1)\n",
    "ax1.axis('equal') \n",
    "\n",
    "# Right axis\n",
    "candidates = ['@realDonaldTrump', 'HillaryClinton']\n",
    "amounts = num_sens_users\n",
    "percentage_sales = np.array(amounts)/sum(amounts)\n",
    "colors = ['#d91c1c', '#2f3feb']\n",
    "explode = [0]*2\n",
    "explode[0] = 0.1\n",
    "\n",
    "patches, texts, autotexts = ax2.pie(percentage_sales, \n",
    "                                    colors=colors, \n",
    "                                    labels=candidates, \n",
    "                                    autopct='%1.1f%%',\n",
    "                                    explode=explode,\n",
    "                                    startangle=-90,\n",
    "                                    shadow=False)\n",
    "\n",
    "for i in range(0,2):\n",
    "    texts[i].set_fontsize(18)\n",
    "    autotexts[i].set_fontsize(22)\n",
    "    autotexts[i].set_color('white')\n",
    "    autotexts[i].set_weight('bold')\n",
    "    \n",
    "ax2.set_title('Proportion of Sensitive Users\\nthat Mention Each Candidate', fontsize=32, y=1.1)\n",
    "ax2.axis('equal') \n",
    "\n",
    "plt.tight_layout()"
   ]
  },
  {
   "cell_type": "markdown",
   "metadata": {},
   "source": [
    "---\n",
    "## Andrew/Tycho Sentiment Analysis\n",
    "Takes every tweet id and **maps its corresponding sentiment to the candidate of interest**. Such candidate interest is (for now - feel free to add ideas) given by:\n",
    "\n",
    "- What candidate each tweet mentions.\n",
    "- What candidate hashtag each tweet includes (_important to address whether the hashtag is with or against the candidate_)."
   ]
  },
  {
   "cell_type": "code",
   "execution_count": 191,
   "metadata": {},
   "outputs": [],
   "source": [
    "import pickle\n",
    "\n",
    "with open('50K_tweets_with_sentiment_prediction.pkl', 'rb') as f:\n",
    "    data = pickle.load(f)"
   ]
  },
  {
   "cell_type": "code",
   "execution_count": null,
   "metadata": {},
   "outputs": [],
   "source": [
    "# 1: Trump\n",
    "trues_trump = []\n",
    "for tweet_id in data['_id']:\n",
    "    if tweet_id in user_mentions.loc[0]['mentioned_in']:\n",
    "        trues_trump.append(True)\n",
    "        \n",
    "print(\"Number of sensitive tweets mentioning 'realDonaldTrump':\", sum(trues_trump))"
   ]
  },
  {
   "cell_type": "code",
   "execution_count": null,
   "metadata": {},
   "outputs": [],
   "source": [
    "# 1: Hillary\n",
    "trues_hillary = []\n",
    "for tweet_id in data['_id']:\n",
    "    if tweet_id in user_mentions.loc[1]['mentioned_in']:\n",
    "        trues_hillary.append(True)\n",
    "\n",
    "num_pred_tweets = [sum(trues_trump), sum(trues_hillary)]\n",
    "\n",
    "print(\"Number of sensitive tweets mentioning 'HillaryClinton':\", sum(trues_hillary))"
   ]
  },
  {
   "cell_type": "code",
   "execution_count": null,
   "metadata": {},
   "outputs": [],
   "source": []
  }
 ],
 "metadata": {
  "kernelspec": {
   "display_name": "Python 3",
   "language": "python",
   "name": "python3"
  },
  "language_info": {
   "codemirror_mode": {
    "name": "ipython",
    "version": 3
   },
   "file_extension": ".py",
   "mimetype": "text/x-python",
   "name": "python",
   "nbconvert_exporter": "python",
   "pygments_lexer": "ipython3",
   "version": "3.7.4"
  }
 },
 "nbformat": 4,
 "nbformat_minor": 2
}
