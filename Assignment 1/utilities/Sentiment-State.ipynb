{
 "cells": [
  {
   "cell_type": "markdown",
   "metadata": {},
   "source": [
    "# Sentiment analysis per state\n",
    "Combine Sentiment analysis with state data\n",
    "*First start MongoDB service:*  \n",
    "`mongod --config /usr/local/etc/mongod.conf`  \n",
    "`brew services start mongodb-community`  "
   ]
  },
  {
   "cell_type": "code",
   "execution_count": 1,
   "metadata": {},
   "outputs": [],
   "source": [
    "# Load dependencies\n",
    "from pymongo import MongoClient\n",
    "from pymongo.errors import ConnectionFailure\n",
    "import pandas as pd"
   ]
  },
  {
   "cell_type": "code",
   "execution_count": 2,
   "metadata": {},
   "outputs": [],
   "source": [
    "# Configuration\n",
    "# Location MongoDB:\n",
    "mongo_host = None\n",
    "# Name collection\n",
    "client_name = \"fundamentals\"\n",
    "# Postive-negative sentiment file\n",
    "posneg_file = '../datasets/pos_neg_sentiment_by_state.pkl'"
   ]
  },
  {
   "cell_type": "code",
   "execution_count": 3,
   "metadata": {},
   "outputs": [],
   "source": [
    "# Create connection\n",
    "try:\n",
    "    client = MongoClient(mongo_host)\n",
    "    client.admin.command('ismaster')\n",
    "    db = client[client_name] \n",
    "    twitter_db = db.twitter\n",
    "    \n",
    "except ConnectionFailure:\n",
    "    print(\"Connection to MongoDB server could not be established\")\n",
    "    exit()"
   ]
  },
  {
   "cell_type": "code",
   "execution_count": null,
   "metadata": {},
   "outputs": [],
   "source": [
    "# Test connection by counting\n",
    "print(\"Total amount of tweets:\",twitter_db.count_documents({}))"
   ]
  },
  {
   "cell_type": "code",
   "execution_count": null,
   "metadata": {},
   "outputs": [],
   "source": [
    "# Create pickle of DataFrame of all us tweets with added state locations and mentions\n",
    "names = ['realDonaldTrump', 'HillaryClinton']\n",
    "\n",
    "print(\"Number of US country tweets\", twitter_db.count_documents(filter = \n",
    " {\"place.country_code\" : \"US\"}))\n",
    "\n",
    "# Set up pipeline to find tweets mentioning one or both candidates \n",
    "# and create columns with booleans for the mention of each candidate\n",
    "pipeline_sen_state = [{\"$match\" : {\"place.country_code\" : \"US\",\n",
    "                                   \"place.state\":{\"$exists\" : True},\n",
    "                                   \"entities.user_mentions.screen_name\":{\"$in\": names}\n",
    "                                  }},\n",
    "                      {\"$project\": { \"_id\" : 1, \"id\": 1,\"state\": \"$place.state\",\n",
    "                                    \"Mentions_Trump\": {\"$in\": [names[0],\n",
    "                                                \"$entities.user_mentions.screen_name\"]},\n",
    "                                     \"Mentions_Clinton\": {\"$in\": [names[1],\n",
    "                                                \"$entities.user_mentions.screen_name\"]}\n",
    "                                   }}]\n",
    "sen_counter = twitter_db.aggregate(pipeline_sen_state)\n",
    "\n",
    "sen_state_df = pd.DataFrame(sen_counter)\n",
    "print(\"Number of tweets from the US mentioning one or both candidates: \"+str(\n",
    "    sen_state_df.shape[0]))\n"
   ]
  },
  {
   "cell_type": "code",
   "execution_count": null,
   "metadata": {},
   "outputs": [],
   "source": [
    "display(sen_state_df.head())"
   ]
  },
  {
   "cell_type": "code",
   "execution_count": 6,
   "metadata": {},
   "outputs": [],
   "source": [
    "# Load pos-neg sentiment\n",
    "pos_neg_df = pd.read_pickle(posneg_file)[[\"id\",\"sentiment\"]]"
   ]
  },
  {
   "cell_type": "code",
   "execution_count": 7,
   "metadata": {},
   "outputs": [
    {
     "name": "stdout",
     "output_type": "stream",
     "text": [
      "N mentioning with sentiment: 330512\n"
     ]
    },
    {
     "data": {
      "text/html": [
       "<div>\n",
       "<style scoped>\n",
       "    .dataframe tbody tr th:only-of-type {\n",
       "        vertical-align: middle;\n",
       "    }\n",
       "\n",
       "    .dataframe tbody tr th {\n",
       "        vertical-align: top;\n",
       "    }\n",
       "\n",
       "    .dataframe thead th {\n",
       "        text-align: right;\n",
       "    }\n",
       "</style>\n",
       "<table border=\"1\" class=\"dataframe\">\n",
       "  <thead>\n",
       "    <tr style=\"text-align: right;\">\n",
       "      <th></th>\n",
       "      <th>id</th>\n",
       "      <th>state</th>\n",
       "      <th>Mentions_Trump</th>\n",
       "      <th>Mentions_Clinton</th>\n",
       "      <th>sentiment</th>\n",
       "    </tr>\n",
       "  </thead>\n",
       "  <tbody>\n",
       "    <tr>\n",
       "      <td>0</td>\n",
       "      <td>764039733076897792</td>\n",
       "      <td>Louisiana</td>\n",
       "      <td>True</td>\n",
       "      <td>False</td>\n",
       "      <td>pos</td>\n",
       "    </tr>\n",
       "    <tr>\n",
       "      <td>1</td>\n",
       "      <td>764039917924069376</td>\n",
       "      <td>California</td>\n",
       "      <td>True</td>\n",
       "      <td>False</td>\n",
       "      <td>neg</td>\n",
       "    </tr>\n",
       "    <tr>\n",
       "      <td>2</td>\n",
       "      <td>764039926161604608</td>\n",
       "      <td>New Jersey</td>\n",
       "      <td>True</td>\n",
       "      <td>False</td>\n",
       "      <td>pos</td>\n",
       "    </tr>\n",
       "    <tr>\n",
       "      <td>3</td>\n",
       "      <td>764039928116240384</td>\n",
       "      <td>Texas</td>\n",
       "      <td>False</td>\n",
       "      <td>True</td>\n",
       "      <td>neg</td>\n",
       "    </tr>\n",
       "    <tr>\n",
       "      <td>4</td>\n",
       "      <td>764039948567576576</td>\n",
       "      <td>Maryland</td>\n",
       "      <td>True</td>\n",
       "      <td>False</td>\n",
       "      <td>pos</td>\n",
       "    </tr>\n",
       "  </tbody>\n",
       "</table>\n",
       "</div>"
      ],
      "text/plain": [
       "                   id       state  Mentions_Trump  Mentions_Clinton sentiment\n",
       "0  764039733076897792   Louisiana            True             False       pos\n",
       "1  764039917924069376  California            True             False       neg\n",
       "2  764039926161604608  New Jersey            True             False       pos\n",
       "3  764039928116240384       Texas           False              True       neg\n",
       "4  764039948567576576    Maryland            True             False       pos"
      ]
     },
     "execution_count": 7,
     "metadata": {},
     "output_type": "execute_result"
    }
   ],
   "source": [
    "# Merge datasetpos_neg\n",
    "pos_neg_state = sen_state_df.merge(pos_neg_df, on = \"id\", how = \"inner\")\n",
    "print(\"N mentioning with sentiment: \"+str(pos_neg_state.shape[0]))\n",
    "pos_neg_state.head()"
   ]
  },
  {
   "cell_type": "code",
   "execution_count": 8,
   "metadata": {},
   "outputs": [],
   "source": [
    "# test_df.to_pickle(\"../state_id.pkl\")"
   ]
  },
  {
   "cell_type": "code",
   "execution_count": 9,
   "metadata": {},
   "outputs": [
    {
     "name": "stdout",
     "output_type": "stream",
     "text": [
      "Trump: 325834\n",
      "Clinton: 140740\n",
      "Both: 28253\n"
     ]
    }
   ],
   "source": [
    "names = ['realDonaldTrump', 'HillaryClinton']\n",
    "print(\"Trump: \"+str(twitter_db.count_documents({\"entities.user_mentions.screen_name\": names[0]})))\n",
    "print(\"Clinton: \"+str(twitter_db.count_documents({\"entities.user_mentions.screen_name\": names[1]})))\n",
    "print(\"Both: \"+str(twitter_db.count_documents({\"$and\":[{\"entities.user_mentions.screen_name\": names[0]},\n",
    "                                                       {\"entities.user_mentions.screen_name\": names[1]}]})))"
   ]
  },
  {
   "cell_type": "code",
   "execution_count": 10,
   "metadata": {},
   "outputs": [
    {
     "name": "stdout",
     "output_type": "stream",
     "text": [
      "330512\n",
      "0\n"
     ]
    },
    {
     "data": {
      "text/html": [
       "<div>\n",
       "<style scoped>\n",
       "    .dataframe tbody tr th:only-of-type {\n",
       "        vertical-align: middle;\n",
       "    }\n",
       "\n",
       "    .dataframe tbody tr th {\n",
       "        vertical-align: top;\n",
       "    }\n",
       "\n",
       "    .dataframe thead th {\n",
       "        text-align: right;\n",
       "    }\n",
       "</style>\n",
       "<table border=\"1\" class=\"dataframe\">\n",
       "  <thead>\n",
       "    <tr style=\"text-align: right;\">\n",
       "      <th></th>\n",
       "      <th>id</th>\n",
       "      <th>state</th>\n",
       "      <th>Mentions_Trump</th>\n",
       "      <th>Mentions_Clinton</th>\n",
       "      <th>sentiment</th>\n",
       "      <th>Mentions</th>\n",
       "    </tr>\n",
       "  </thead>\n",
       "  <tbody>\n",
       "    <tr>\n",
       "      <td>0</td>\n",
       "      <td>764039733076897792</td>\n",
       "      <td>Louisiana</td>\n",
       "      <td>True</td>\n",
       "      <td>False</td>\n",
       "      <td>pos</td>\n",
       "      <td>trump</td>\n",
       "    </tr>\n",
       "    <tr>\n",
       "      <td>1</td>\n",
       "      <td>764039917924069376</td>\n",
       "      <td>California</td>\n",
       "      <td>True</td>\n",
       "      <td>False</td>\n",
       "      <td>neg</td>\n",
       "      <td>trump</td>\n",
       "    </tr>\n",
       "    <tr>\n",
       "      <td>2</td>\n",
       "      <td>764039926161604608</td>\n",
       "      <td>New Jersey</td>\n",
       "      <td>True</td>\n",
       "      <td>False</td>\n",
       "      <td>pos</td>\n",
       "      <td>trump</td>\n",
       "    </tr>\n",
       "    <tr>\n",
       "      <td>3</td>\n",
       "      <td>764039928116240384</td>\n",
       "      <td>Texas</td>\n",
       "      <td>False</td>\n",
       "      <td>True</td>\n",
       "      <td>neg</td>\n",
       "      <td>clinton</td>\n",
       "    </tr>\n",
       "    <tr>\n",
       "      <td>4</td>\n",
       "      <td>764039948567576576</td>\n",
       "      <td>Maryland</td>\n",
       "      <td>True</td>\n",
       "      <td>False</td>\n",
       "      <td>pos</td>\n",
       "      <td>trump</td>\n",
       "    </tr>\n",
       "  </tbody>\n",
       "</table>\n",
       "</div>"
      ],
      "text/plain": [
       "                   id       state  Mentions_Trump  Mentions_Clinton sentiment  \\\n",
       "0  764039733076897792   Louisiana            True             False       pos   \n",
       "1  764039917924069376  California            True             False       neg   \n",
       "2  764039926161604608  New Jersey            True             False       pos   \n",
       "3  764039928116240384       Texas           False              True       neg   \n",
       "4  764039948567576576    Maryland            True             False       pos   \n",
       "\n",
       "  Mentions  \n",
       "0    trump  \n",
       "1    trump  \n",
       "2    trump  \n",
       "3  clinton  \n",
       "4    trump  "
      ]
     },
     "execution_count": 10,
     "metadata": {},
     "output_type": "execute_result"
    }
   ],
   "source": [
    "# Assign mentions column to Trump, Clinton or Both\n",
    "series_both = (pos_neg_state[\"Mentions_Trump\"] & pos_neg_state[\"Mentions_Clinton\"])\n",
    "series_trump = (pos_neg_state[\"Mentions_Trump\"] & ~pos_neg_state[\"Mentions_Clinton\"])\n",
    "series_clinton = (~pos_neg_state[\"Mentions_Trump\"] & pos_neg_state[\"Mentions_Clinton\"])\n",
    "pos_neg_state[\"Mentions\"] = None\n",
    "print(sum(pos_neg_state[\"Mentions\"].isna()))\n",
    "pos_neg_state.loc[series_both,\"Mentions\"] = \"both\"\n",
    "pos_neg_state.loc[series_trump,\"Mentions\"] = \"trump\"\n",
    "pos_neg_state.loc[series_clinton,\"Mentions\"] = \"clinton\"\n",
    "print(sum(pos_neg_state[\"Mentions\"].isna()))\n",
    "pos_neg_state.head()"
   ]
  },
  {
   "cell_type": "code",
   "execution_count": 11,
   "metadata": {},
   "outputs": [
    {
     "name": "stdout",
     "output_type": "stream",
     "text": [
      "Both: \t21404\n",
      "Trump: \t222381\n",
      "Clinton: 86727\n",
      "Both: \t21404\n",
      "Trump: \t222381\n",
      "Clinton: 86727\n"
     ]
    }
   ],
   "source": [
    "# Check for sanity\n",
    "print(\"Both: \",\"\\t\",sum(pos_neg_state[\"Mentions_Trump\"] & pos_neg_state[\"Mentions_Clinton\"]),\"\\n\",\n",
    "      \"Trump: \",\"\\t\",sum(pos_neg_state[\"Mentions_Trump\"] & ~pos_neg_state[\"Mentions_Clinton\"]),\"\\n\",\n",
    "      \"Clinton: \",sum(~pos_neg_state[\"Mentions_Trump\"] & pos_neg_state[\"Mentions_Clinton\"])\n",
    "     , sep=\"\")\n",
    "print(\"Both: \",\"\\t\",sum(pos_neg_state[\"Mentions\"] == \"both\"),\"\\n\",\n",
    "      \"Trump: \",\"\\t\",sum(pos_neg_state[\"Mentions\"] == \"trump\"),\"\\n\",\n",
    "      \"Clinton: \",sum(pos_neg_state[\"Mentions\"] == \"clinton\")\n",
    "     , sep=\"\")"
   ]
  },
  {
   "cell_type": "code",
   "execution_count": 13,
   "metadata": {},
   "outputs": [
    {
     "ename": "NameError",
     "evalue": "name 'values' is not defined",
     "output_type": "error",
     "traceback": [
      "\u001b[0;31m---------------------------------------------------------------------------\u001b[0m",
      "\u001b[0;31mNameError\u001b[0m                                 Traceback (most recent call last)",
      "\u001b[0;32m<ipython-input-13-b9ed8226e72a>\u001b[0m in \u001b[0;36m<module>\u001b[0;34m\u001b[0m\n\u001b[0;32m----> 1\u001b[0;31m \u001b[0mpos_neg_state\u001b[0m\u001b[0;34m.\u001b[0m\u001b[0mpivot_table\u001b[0m\u001b[0;34m(\u001b[0m\u001b[0mvalues\u001b[0m\u001b[0;34m)\u001b[0m\u001b[0;34m\u001b[0m\u001b[0;34m\u001b[0m\u001b[0m\n\u001b[0m",
      "\u001b[0;31mNameError\u001b[0m: name 'values' is not defined"
     ]
    }
   ],
   "source": [
    "pos_neg_state.pivot_table(values)"
   ]
  },
  {
   "cell_type": "code",
   "execution_count": 41,
   "metadata": {},
   "outputs": [],
   "source": [
    "state_summary_inc_both = pos_neg_state[[\"id\",\"state\", \"Mentions\",\"sentiment\"]].groupby([\"state\", \"Mentions\",\"sentiment\"]).count()"
   ]
  },
  {
   "cell_type": "code",
   "execution_count": null,
   "metadata": {},
   "outputs": [],
   "source": [
    "print(state_summary.loc[(slice(None),),:].sum().values[0])\n",
    "print(state_summary.loc[(slice(None),[\"clinton\", \"trump\"]),:].sum().values[0])"
   ]
  },
  {
   "cell_type": "code",
   "execution_count": 44,
   "metadata": {},
   "outputs": [],
   "source": [
    "state_summary = state_summary_inc_both.loc[(slice(None),[\"clinton\", \"trump\"]),:]"
   ]
  },
  {
   "cell_type": "code",
   "execution_count": 45,
   "metadata": {},
   "outputs": [],
   "source": [
    "state_summary.to_pickle(\"../datasets/state_sen_summary.pkl\")"
   ]
  },
  {
   "cell_type": "code",
   "execution_count": 6,
   "metadata": {},
   "outputs": [
    {
     "data": {
      "text/plain": [
       "MultiIndex([('id', 'clinton', 'neg'),\n",
       "            ('id', 'clinton', 'pos'),\n",
       "            ('id',   'trump', 'neg'),\n",
       "            ('id',   'trump', 'pos')],\n",
       "           names=[None, 'Mentions', 'sentiment'])"
      ]
     },
     "execution_count": 6,
     "metadata": {},
     "output_type": "execute_result"
    }
   ],
   "source": [
    "state_summary = pd.read_pickle(\"../datasets/state_sen_summary.pkl\")\n",
    "state_summary.unstack(level = \"Mentions\").unstack(level = \"sentiment\").columns"
   ]
  },
  {
   "cell_type": "code",
   "execution_count": 12,
   "metadata": {},
   "outputs": [
    {
     "data": {
      "text/html": [
       "<div>\n",
       "<style scoped>\n",
       "    .dataframe tbody tr th:only-of-type {\n",
       "        vertical-align: middle;\n",
       "    }\n",
       "\n",
       "    .dataframe tbody tr th {\n",
       "        vertical-align: top;\n",
       "    }\n",
       "\n",
       "    .dataframe thead th {\n",
       "        text-align: right;\n",
       "    }\n",
       "</style>\n",
       "<table border=\"1\" class=\"dataframe\">\n",
       "  <thead>\n",
       "    <tr style=\"text-align: right;\">\n",
       "      <th></th>\n",
       "      <th></th>\n",
       "      <th></th>\n",
       "      <th>id</th>\n",
       "    </tr>\n",
       "    <tr>\n",
       "      <th>state</th>\n",
       "      <th>Mentions</th>\n",
       "      <th>sentiment</th>\n",
       "      <th></th>\n",
       "    </tr>\n",
       "  </thead>\n",
       "  <tbody>\n",
       "    <tr>\n",
       "      <td rowspan=\"4\" valign=\"top\">Alabama</td>\n",
       "      <td rowspan=\"2\" valign=\"top\">clinton</td>\n",
       "      <td>neg</td>\n",
       "      <td>358</td>\n",
       "    </tr>\n",
       "    <tr>\n",
       "      <td>pos</td>\n",
       "      <td>527</td>\n",
       "    </tr>\n",
       "    <tr>\n",
       "      <td rowspan=\"2\" valign=\"top\">trump</td>\n",
       "      <td>neg</td>\n",
       "      <td>1345</td>\n",
       "    </tr>\n",
       "    <tr>\n",
       "      <td>pos</td>\n",
       "      <td>2854</td>\n",
       "    </tr>\n",
       "    <tr>\n",
       "      <td>Alaska</td>\n",
       "      <td>clinton</td>\n",
       "      <td>neg</td>\n",
       "      <td>80</td>\n",
       "    </tr>\n",
       "    <tr>\n",
       "      <td>...</td>\n",
       "      <td>...</td>\n",
       "      <td>...</td>\n",
       "      <td>...</td>\n",
       "    </tr>\n",
       "    <tr>\n",
       "      <td>Wisconsin</td>\n",
       "      <td>trump</td>\n",
       "      <td>pos</td>\n",
       "      <td>1601</td>\n",
       "    </tr>\n",
       "    <tr>\n",
       "      <td rowspan=\"4\" valign=\"top\">Wyoming</td>\n",
       "      <td rowspan=\"2\" valign=\"top\">clinton</td>\n",
       "      <td>neg</td>\n",
       "      <td>67</td>\n",
       "    </tr>\n",
       "    <tr>\n",
       "      <td>pos</td>\n",
       "      <td>65</td>\n",
       "    </tr>\n",
       "    <tr>\n",
       "      <td rowspan=\"2\" valign=\"top\">trump</td>\n",
       "      <td>neg</td>\n",
       "      <td>153</td>\n",
       "    </tr>\n",
       "    <tr>\n",
       "      <td>pos</td>\n",
       "      <td>177</td>\n",
       "    </tr>\n",
       "  </tbody>\n",
       "</table>\n",
       "<p>204 rows × 1 columns</p>\n",
       "</div>"
      ],
      "text/plain": [
       "                                id\n",
       "state     Mentions sentiment      \n",
       "Alabama   clinton  neg         358\n",
       "                   pos         527\n",
       "          trump    neg        1345\n",
       "                   pos        2854\n",
       "Alaska    clinton  neg          80\n",
       "...                            ...\n",
       "Wisconsin trump    pos        1601\n",
       "Wyoming   clinton  neg          67\n",
       "                   pos          65\n",
       "          trump    neg         153\n",
       "                   pos         177\n",
       "\n",
       "[204 rows x 1 columns]"
      ]
     },
     "execution_count": 12,
     "metadata": {},
     "output_type": "execute_result"
    }
   ],
   "source": [
    "state_summary.loc[(slice(None),[\"clinton\", \"trump\"]),:]"
   ]
  },
  {
   "cell_type": "code",
   "execution_count": 27,
   "metadata": {},
   "outputs": [
    {
     "data": {
      "text/html": [
       "<div>\n",
       "<style scoped>\n",
       "    .dataframe tbody tr th:only-of-type {\n",
       "        vertical-align: middle;\n",
       "    }\n",
       "\n",
       "    .dataframe tbody tr th {\n",
       "        vertical-align: top;\n",
       "    }\n",
       "\n",
       "    .dataframe thead th {\n",
       "        text-align: right;\n",
       "    }\n",
       "</style>\n",
       "<table border=\"1\" class=\"dataframe\">\n",
       "  <thead>\n",
       "    <tr style=\"text-align: right;\">\n",
       "      <th></th>\n",
       "      <th></th>\n",
       "      <th></th>\n",
       "      <th>id</th>\n",
       "    </tr>\n",
       "    <tr>\n",
       "      <th>state</th>\n",
       "      <th>Mentions</th>\n",
       "      <th>sentiment</th>\n",
       "      <th></th>\n",
       "    </tr>\n",
       "  </thead>\n",
       "  <tbody>\n",
       "    <tr>\n",
       "      <td rowspan=\"5\" valign=\"top\">Alabama</td>\n",
       "      <td rowspan=\"2\" valign=\"top\">both</td>\n",
       "      <td>neg</td>\n",
       "      <td>104</td>\n",
       "    </tr>\n",
       "    <tr>\n",
       "      <td>pos</td>\n",
       "      <td>171</td>\n",
       "    </tr>\n",
       "    <tr>\n",
       "      <td rowspan=\"2\" valign=\"top\">clinton</td>\n",
       "      <td>neg</td>\n",
       "      <td>358</td>\n",
       "    </tr>\n",
       "    <tr>\n",
       "      <td>pos</td>\n",
       "      <td>527</td>\n",
       "    </tr>\n",
       "    <tr>\n",
       "      <td>trump</td>\n",
       "      <td>neg</td>\n",
       "      <td>1345</td>\n",
       "    </tr>\n",
       "  </tbody>\n",
       "</table>\n",
       "</div>"
      ],
      "text/plain": [
       "                              id\n",
       "state   Mentions sentiment      \n",
       "Alabama both     neg         104\n",
       "                 pos         171\n",
       "        clinton  neg         358\n",
       "                 pos         527\n",
       "        trump    neg        1345"
      ]
     },
     "execution_count": 27,
     "metadata": {},
     "output_type": "execute_result"
    }
   ],
   "source": [
    "state_summary.head()"
   ]
  },
  {
   "cell_type": "code",
   "execution_count": null,
   "metadata": {},
   "outputs": [],
   "source": []
  }
 ],
 "metadata": {
  "kernelspec": {
   "display_name": "Python 3",
   "language": "python",
   "name": "python3"
  },
  "language_info": {
   "codemirror_mode": {
    "name": "ipython",
    "version": 3
   },
   "file_extension": ".py",
   "mimetype": "text/x-python",
   "name": "python",
   "nbconvert_exporter": "python",
   "pygments_lexer": "ipython3",
   "version": "3.7.4"
  }
 },
 "nbformat": 4,
 "nbformat_minor": 2
}
