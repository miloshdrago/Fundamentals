{
 "cells": [
  {
   "cell_type": "markdown",
   "metadata": {},
   "source": [
    "# Query tweets\n",
    "Load in tweets to MongoDB database  \n",
    "*First start MongoDB service:*  \n",
    "`mongod --config /usr/local/etc/mongod.conf`  \n",
    "`brew services start mongodb-community`  "
   ]
  },
  {
   "cell_type": "code",
   "execution_count": null,
   "metadata": {},
   "outputs": [],
   "source": []
  },
  {
   "cell_type": "code",
   "execution_count": 1,
   "metadata": {},
   "outputs": [],
   "source": [
    "# Load dependencies\n",
    "from pymongo import MongoClient\n",
    "from pymongo.errors import ConnectionFailure\n",
    "import os\n",
    "import re\n",
    "import pandas as pd"
   ]
  },
  {
   "cell_type": "code",
   "execution_count": 2,
   "metadata": {},
   "outputs": [],
   "source": [
    "# Configuration\n",
    "# Location MongoDB:\n",
    "mongo_host = None\n",
    "# Name collection\n",
    "client_name = \"fundamentals\""
   ]
  },
  {
   "cell_type": "code",
   "execution_count": 3,
   "metadata": {},
   "outputs": [],
   "source": [
    "# Create connection\n",
    "try:\n",
    "    client = MongoClient(mongo_host)\n",
    "    client.admin.command('ismaster')\n",
    "    db = client[client_name] \n",
    "    twitter_db = db.twitter\n",
    "    \n",
    "except ConnectionFailure:\n",
    "    print(\"Connection to MongoDB server could not be established\")\n",
    "    exit()"
   ]
  },
  {
   "cell_type": "code",
   "execution_count": 8,
   "metadata": {},
   "outputs": [
    {
     "name": "stdout",
     "output_type": "stream",
     "text": [
      "Amount of tweets: 657307\n"
     ]
    }
   ],
   "source": [
    "# Test connection by counting\n",
    "print(\"Amount of tweets:\",twitter_db.count_documents({}))"
   ]
  },
  {
   "cell_type": "code",
   "execution_count": 9,
   "metadata": {},
   "outputs": [
    {
     "name": "stdout",
     "output_type": "stream",
     "text": [
      "Number of US country tweets 593268\n"
     ]
    }
   ],
   "source": [
    "# Create pickle of DataFrame of all us tweets with added state locations\n",
    "print(\"Number of US country tweets\", twitter_db.count_documents(filter = \n",
    " {\"place.country_code\" : \"US\"}))\n",
    "total_df = pd.DataFrame(twitter_db.find(filter = {\"place.country_code\" : \"US\"}, projection =\n",
    "                                       {\"id\": 1,\"place.state\": 1, \"_id\" : 0} ,limit = 0))\n",
    "\n",
    "total_df.to_pickle(\"../state_id.pkl\")"
   ]
  },
  {
   "cell_type": "code",
   "execution_count": null,
   "metadata": {},
   "outputs": [],
   "source": [
    "# Example MongoDB queries\n",
    "# Distinct languages\n",
    "twitter_db.distinct(\"lang\")\n",
    "\n",
    "# Extract data form bounding box\n",
    "location = twitter_db.find(filter = {\"place.country_code\" : \"US\"}, projection = \n",
    "                           { \"_id\": 0 , \"place.bounding_box.coordinates\": 1}, limit = 5)\n",
    "for obj in location:\n",
    "    print(obj[\"place\"]['bounding_box']['coordinates'])"
   ]
  },
  {
   "cell_type": "code",
   "execution_count": 41,
   "metadata": {},
   "outputs": [],
   "source": [
    "test_df = pd.read_pickle(\"../datasets/state_id.pkl\")"
   ]
  },
  {
   "cell_type": "code",
   "execution_count": 42,
   "metadata": {},
   "outputs": [],
   "source": [
    "test_df[\"states\"] = None\n",
    "for row in test_df.itertuples():\n",
    "    place = getattr(row,\"place\")\n",
    "    test_df.at[row[0], \"states\"] = place.get(\"state\")"
   ]
  },
  {
   "cell_type": "code",
   "execution_count": 45,
   "metadata": {},
   "outputs": [
    {
     "data": {
      "text/html": [
       "<div>\n",
       "<style scoped>\n",
       "    .dataframe tbody tr th:only-of-type {\n",
       "        vertical-align: middle;\n",
       "    }\n",
       "\n",
       "    .dataframe tbody tr th {\n",
       "        vertical-align: top;\n",
       "    }\n",
       "\n",
       "    .dataframe thead th {\n",
       "        text-align: right;\n",
       "    }\n",
       "</style>\n",
       "<table border=\"1\" class=\"dataframe\">\n",
       "  <thead>\n",
       "    <tr style=\"text-align: right;\">\n",
       "      <th></th>\n",
       "      <th>id</th>\n",
       "      <th>states</th>\n",
       "    </tr>\n",
       "  </thead>\n",
       "  <tbody>\n",
       "    <tr>\n",
       "      <td>0</td>\n",
       "      <td>764039724818272256</td>\n",
       "      <td>Missouri</td>\n",
       "    </tr>\n",
       "    <tr>\n",
       "      <td>1</td>\n",
       "      <td>764039733076897792</td>\n",
       "      <td>Louisiana</td>\n",
       "    </tr>\n",
       "    <tr>\n",
       "      <td>2</td>\n",
       "      <td>764039769244348417</td>\n",
       "      <td>Missouri</td>\n",
       "    </tr>\n",
       "    <tr>\n",
       "      <td>3</td>\n",
       "      <td>764039849850482689</td>\n",
       "      <td>Maryland</td>\n",
       "    </tr>\n",
       "    <tr>\n",
       "      <td>4</td>\n",
       "      <td>764039917924069376</td>\n",
       "      <td>California</td>\n",
       "    </tr>\n",
       "    <tr>\n",
       "      <td>...</td>\n",
       "      <td>...</td>\n",
       "      <td>...</td>\n",
       "    </tr>\n",
       "    <tr>\n",
       "      <td>593263</td>\n",
       "      <td>775323190436438016</td>\n",
       "      <td>Florida</td>\n",
       "    </tr>\n",
       "    <tr>\n",
       "      <td>593264</td>\n",
       "      <td>775323208463503361</td>\n",
       "      <td>California</td>\n",
       "    </tr>\n",
       "    <tr>\n",
       "      <td>593265</td>\n",
       "      <td>775323214801018881</td>\n",
       "      <td>Florida</td>\n",
       "    </tr>\n",
       "    <tr>\n",
       "      <td>593266</td>\n",
       "      <td>775323236137508864</td>\n",
       "      <td>Alaska</td>\n",
       "    </tr>\n",
       "    <tr>\n",
       "      <td>593267</td>\n",
       "      <td>775323274452561920</td>\n",
       "      <td>Florida</td>\n",
       "    </tr>\n",
       "  </tbody>\n",
       "</table>\n",
       "<p>593268 rows × 2 columns</p>\n",
       "</div>"
      ],
      "text/plain": [
       "                        id      states\n",
       "0       764039724818272256    Missouri\n",
       "1       764039733076897792   Louisiana\n",
       "2       764039769244348417    Missouri\n",
       "3       764039849850482689    Maryland\n",
       "4       764039917924069376  California\n",
       "...                    ...         ...\n",
       "593263  775323190436438016     Florida\n",
       "593264  775323208463503361  California\n",
       "593265  775323214801018881     Florida\n",
       "593266  775323236137508864      Alaska\n",
       "593267  775323274452561920     Florida\n",
       "\n",
       "[593268 rows x 2 columns]"
      ]
     },
     "execution_count": 45,
     "metadata": {},
     "output_type": "execute_result"
    }
   ],
   "source": [
    "test_df.drop(\"place\", axis = 1)"
   ]
  },
  {
   "cell_type": "code",
   "execution_count": 46,
   "metadata": {},
   "outputs": [],
   "source": [
    "test_df.to_pickle(\"../datasets/state_id.pkl\")"
   ]
  },
  {
   "cell_type": "code",
   "execution_count": 9,
   "metadata": {},
   "outputs": [
    {
     "name": "stdout",
     "output_type": "stream",
     "text": [
      "Trump: 325834\n",
      "Clinton: 140740\n",
      "Both: 28253\n"
     ]
    }
   ],
   "source": [
    "names = ['realDonaldTrump', 'HillaryClinton']\n",
    "print(\"Trump: \"+str(twitter_db.count_documents({\"entities.user_mentions.screen_name\": names[0]})))\n",
    "print(\"Clinton: \"+str(twitter_db.count_documents({\"entities.user_mentions.screen_name\": names[1]})))\n",
    "print(\"Both: \"+str(twitter_db.count_documents({\"$and\":[{\"entities.user_mentions.screen_name\": names[0]},\n",
    "                                                       {\"entities.user_mentions.screen_name\": names[1]}]})))"
   ]
  },
  {
   "cell_type": "code",
   "execution_count": null,
   "metadata": {},
   "outputs": [],
   "source": []
  }
 ],
 "metadata": {
  "kernelspec": {
   "display_name": "Python 3",
   "language": "python",
   "name": "python3"
  },
  "language_info": {
   "codemirror_mode": {
    "name": "ipython",
    "version": 3
   },
   "file_extension": ".py",
   "mimetype": "text/x-python",
   "name": "python",
   "nbconvert_exporter": "python",
   "pygments_lexer": "ipython3",
   "version": "3.7.4"
  }
 },
 "nbformat": 4,
 "nbformat_minor": 2
}
