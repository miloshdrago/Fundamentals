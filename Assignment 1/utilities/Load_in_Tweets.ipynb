{
 "cells": [
  {
   "cell_type": "markdown",
   "metadata": {},
   "source": [
    "# Load in tweets\n",
    "Load in tweets to MongoDB database  \n",
    "*First start MongoDB service:*  \n",
    "`mongod --config /usr/local/etc/mongod.conf`  \n",
    "`brew services start mongodb-community`  "
   ]
  },
  {
   "cell_type": "code",
   "execution_count": 1,
   "metadata": {},
   "outputs": [],
   "source": [
    "# Load dependencies\n",
    "from pymongo import MongoClient\n",
    "from pymongo.errors import ConnectionFailure\n",
    "import json\n",
    "import time\n",
    "import os"
   ]
  },
  {
   "cell_type": "code",
   "execution_count": 2,
   "metadata": {},
   "outputs": [
    {
     "data": {
      "text/plain": [
       "True"
      ]
     },
     "execution_count": 2,
     "metadata": {},
     "output_type": "execute_result"
    }
   ],
   "source": [
    "# Configuration\n",
    "# Location MongoDB:\n",
    "mongo_host = None\n",
    "# Name collection\n",
    "client_name = \"fundamentals\"\n",
    "# Location tweet file;\n",
    "# tweet_file = 'backup_tweets_file/tweets.txt'\n",
    "tweet_file = os.path.expanduser(\"~/Downloads/geotagged_tweets_20160812-0912.jsons\")\n",
    "os.path.isfile(tweet_file)"
   ]
  },
  {
   "cell_type": "code",
   "execution_count": 3,
   "metadata": {},
   "outputs": [],
   "source": [
    "# Create connection\n",
    "try:\n",
    "    client = MongoClient(mongo_host)\n",
    "    client.admin.command('ismaster')\n",
    "    db = client[client_name] # Change to client.fundamentals for final version\n",
    "    twitter_db = db.twitter\n",
    "    \n",
    "except ConnectionFailure:\n",
    "    print(\"Connection to MongoDB server could not be established\")\n",
    "    exit()"
   ]
  },
  {
   "cell_type": "code",
   "execution_count": 4,
   "metadata": {},
   "outputs": [
    {
     "name": "stdout",
     "output_type": "stream",
     "text": [
      "Before: 0\n",
      "After: 1\n"
     ]
    }
   ],
   "source": [
    "# Test counting\n",
    "print(\"Before:\",twitter_db.count_documents({}))\n",
    "twitter_db.insert_one({'sample':'tweet'})\n",
    "print(\"After:\",twitter_db.count_documents({}))"
   ]
  },
  {
   "cell_type": "code",
   "execution_count": 6,
   "metadata": {},
   "outputs": [
    {
     "name": "stdout",
     "output_type": "stream",
     "text": [
      "Before: 0\n",
      "<class 'dict'>\n",
      "Saved tweet 10000 from line 10000\n",
      "<class 'dict'>\n",
      "Saved tweet 20000 from line 20000\n",
      "<class 'dict'>\n",
      "Saved tweet 30000 from line 30000\n",
      "<class 'dict'>\n",
      "Saved tweet 40000 from line 40000\n",
      "<class 'dict'>\n",
      "Saved tweet 50000 from line 50000\n",
      "<class 'dict'>\n",
      "Saved tweet 60000 from line 60000\n",
      "<class 'dict'>\n",
      "Saved tweet 70000 from line 70000\n",
      "<class 'dict'>\n",
      "Saved tweet 80000 from line 80000\n",
      "<class 'dict'>\n",
      "Saved tweet 90000 from line 90000\n",
      "<class 'dict'>\n",
      "Saved tweet 100000 from line 100000\n",
      "<class 'dict'>\n",
      "Saved tweet 110000 from line 110000\n",
      "<class 'dict'>\n",
      "Saved tweet 120000 from line 120000\n",
      "<class 'dict'>\n",
      "Saved tweet 130000 from line 130000\n",
      "<class 'dict'>\n",
      "Saved tweet 140000 from line 140000\n",
      "<class 'dict'>\n",
      "Saved tweet 150000 from line 150000\n",
      "<class 'dict'>\n",
      "Saved tweet 160000 from line 160000\n",
      "<class 'dict'>\n",
      "Saved tweet 170000 from line 170000\n",
      "<class 'dict'>\n",
      "Saved tweet 180000 from line 180000\n",
      "<class 'dict'>\n",
      "Saved tweet 190000 from line 190000\n",
      "<class 'dict'>\n",
      "Saved tweet 200000 from line 200000\n",
      "<class 'dict'>\n",
      "Saved tweet 210000 from line 210000\n",
      "<class 'dict'>\n",
      "Saved tweet 220000 from line 220000\n",
      "<class 'dict'>\n",
      "Saved tweet 230000 from line 230000\n",
      "<class 'dict'>\n",
      "Saved tweet 240000 from line 240000\n",
      "<class 'dict'>\n",
      "Saved tweet 250000 from line 250000\n",
      "<class 'dict'>\n",
      "Saved tweet 260000 from line 260000\n",
      "<class 'dict'>\n",
      "Saved tweet 270000 from line 270000\n",
      "<class 'dict'>\n",
      "Saved tweet 280000 from line 280000\n",
      "<class 'dict'>\n",
      "Saved tweet 290000 from line 290000\n",
      "<class 'dict'>\n",
      "Saved tweet 300000 from line 300000\n",
      "<class 'dict'>\n",
      "Saved tweet 310000 from line 310000\n",
      "<class 'dict'>\n",
      "Saved tweet 320000 from line 320000\n",
      "<class 'dict'>\n",
      "Saved tweet 330000 from line 330000\n",
      "<class 'dict'>\n",
      "Saved tweet 340000 from line 340000\n",
      "<class 'dict'>\n",
      "Saved tweet 350000 from line 350000\n",
      "<class 'dict'>\n",
      "Saved tweet 360000 from line 360000\n",
      "<class 'dict'>\n",
      "Saved tweet 370000 from line 370000\n",
      "<class 'dict'>\n",
      "Saved tweet 380000 from line 380000\n",
      "<class 'dict'>\n",
      "Saved tweet 390000 from line 390000\n",
      "<class 'dict'>\n",
      "Saved tweet 400000 from line 400000\n",
      "<class 'dict'>\n",
      "Saved tweet 410000 from line 410000\n",
      "<class 'dict'>\n",
      "Saved tweet 420000 from line 420000\n",
      "<class 'dict'>\n",
      "Saved tweet 430000 from line 430000\n",
      "<class 'dict'>\n",
      "Saved tweet 440000 from line 440000\n",
      "<class 'dict'>\n",
      "Saved tweet 450000 from line 450000\n",
      "<class 'dict'>\n",
      "Saved tweet 460000 from line 460000\n",
      "<class 'dict'>\n",
      "Saved tweet 470000 from line 470000\n",
      "<class 'dict'>\n",
      "Saved tweet 480000 from line 480000\n",
      "<class 'dict'>\n",
      "Saved tweet 490000 from line 490000\n",
      "<class 'dict'>\n",
      "Saved tweet 500000 from line 500000\n",
      "<class 'dict'>\n",
      "Saved tweet 510000 from line 510000\n",
      "<class 'dict'>\n",
      "Saved tweet 520000 from line 520000\n",
      "<class 'dict'>\n",
      "Saved tweet 530000 from line 530000\n",
      "<class 'dict'>\n",
      "Saved tweet 540000 from line 540000\n",
      "<class 'dict'>\n",
      "Saved tweet 550000 from line 550000\n",
      "<class 'dict'>\n",
      "Saved tweet 560000 from line 560000\n",
      "<class 'dict'>\n",
      "Saved tweet 570000 from line 570000\n",
      "<class 'dict'>\n",
      "Saved tweet 580000 from line 580000\n",
      "<class 'dict'>\n",
      "Saved tweet 590000 from line 590000\n",
      "<class 'dict'>\n",
      "Saved tweet 600000 from line 600000\n",
      "<class 'dict'>\n",
      "Saved tweet 610000 from line 610000\n",
      "<class 'dict'>\n",
      "Saved tweet 620000 from line 620000\n",
      "<class 'dict'>\n",
      "Saved tweet 630000 from line 630000\n",
      "<class 'dict'>\n",
      "Saved tweet 640000 from line 640000\n",
      "<class 'dict'>\n",
      "Saved tweet 650000 from line 650000\n",
      "Saved 657307 tweets\n",
      "After: 657307\n"
     ]
    }
   ],
   "source": [
    "# Load twitter data\n",
    "if not os.path.isfile(tweet_file):\n",
    "    print(\"File path {} does not exist. Exiting...\".format(tweet_file))\n",
    "    exit()\n",
    "\n",
    "# Count before\n",
    "print(\"Before:\",twitter_db.count_documents({}))\n",
    "\n",
    "with open(tweet_file) as tf:\n",
    "    twt_count = int()\n",
    "    # Load in file line by line\n",
    "    for cnt, line in enumerate(tf, start = 1):\n",
    "        # Ignore empty lines\n",
    "        if line.strip():\n",
    "            tweet = json.loads(line)\n",
    "            # Store line in MongoDB database\n",
    "            twitter_db.insert_one(tweet)\n",
    "            twt_count += 1\n",
    "            # Report every 10.000 lines\n",
    "            if (cnt) % 10000 == 0:\n",
    "                print(type(tweet))\n",
    "                time.sleep(.05)\n",
    "                print(\"Saved tweet {} from line {}\".format(twt_count, cnt))\n",
    "    print(f\"Saved {twt_count} tweets\")\n",
    "\n",
    "# Count after\n",
    "print(\"After:\",twitter_db.count_documents({}))"
   ]
  },
  {
   "cell_type": "code",
   "execution_count": 7,
   "metadata": {},
   "outputs": [],
   "source": [
    "# # Delete all records\n",
    "# twitter_db.delete_many({})"
   ]
  },
  {
   "cell_type": "code",
   "execution_count": null,
   "metadata": {},
   "outputs": [],
   "source": []
  }
 ],
 "metadata": {
  "kernelspec": {
   "display_name": "Python 3",
   "language": "python",
   "name": "python3"
  },
  "language_info": {
   "codemirror_mode": {
    "name": "ipython",
    "version": 3
   },
   "file_extension": ".py",
   "mimetype": "text/x-python",
   "name": "python",
   "nbconvert_exporter": "python",
   "pygments_lexer": "ipython3",
   "version": "3.7.4"
  }
 },
 "nbformat": 4,
 "nbformat_minor": 2
}
