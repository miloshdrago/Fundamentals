{
 "cells": [
  {
   "cell_type": "code",
   "execution_count": 43,
   "metadata": {},
   "outputs": [],
   "source": [
    "# dependencies\n",
    "import pymongo\n",
    "import pandas as pd\n",
    "import json\n",
    "import scipy.stats as stats"
   ]
  },
  {
   "cell_type": "code",
   "execution_count": 2,
   "metadata": {},
   "outputs": [
    {
     "data": {
      "text/plain": [
       "'user.id_1'"
      ]
     },
     "execution_count": 2,
     "metadata": {},
     "output_type": "execute_result"
    }
   ],
   "source": [
    "# setup\n",
    "client = pymongo.MongoClient()\n",
    "database = client.fds_twitter\n",
    "collection = database.messages\n",
    "collection.create_index([('user.id', 1)])"
   ]
  },
  {
   "cell_type": "code",
   "execution_count": 3,
   "metadata": {},
   "outputs": [
    {
     "data": {
      "text/html": [
       "<div>\n",
       "<style scoped>\n",
       "    .dataframe tbody tr th:only-of-type {\n",
       "        vertical-align: middle;\n",
       "    }\n",
       "\n",
       "    .dataframe tbody tr th {\n",
       "        vertical-align: top;\n",
       "    }\n",
       "\n",
       "    .dataframe thead th {\n",
       "        text-align: right;\n",
       "    }\n",
       "</style>\n",
       "<table border=\"1\" class=\"dataframe\">\n",
       "  <thead>\n",
       "    <tr style=\"text-align: right;\">\n",
       "      <th></th>\n",
       "      <th>_id</th>\n",
       "      <th>text</th>\n",
       "      <th>user</th>\n",
       "    </tr>\n",
       "  </thead>\n",
       "  <tbody>\n",
       "    <tr>\n",
       "      <td>0</td>\n",
       "      <td>5d7e1415af475bc1f98581ad</td>\n",
       "      <td>@theblaze @realDonaldTrump https://t.co/TY9DlZ...</td>\n",
       "      <td>{'id': 366636488}</td>\n",
       "    </tr>\n",
       "    <tr>\n",
       "      <td>1</td>\n",
       "      <td>5d7e1415af475bc1f98581ae</td>\n",
       "      <td>@BarackObama \\n@FBI\\n@LORETTALYNCH \\nALL IN CO...</td>\n",
       "      <td>{'id': 82496193}</td>\n",
       "    </tr>\n",
       "    <tr>\n",
       "      <td>2</td>\n",
       "      <td>5d7e1415af475bc1f98581af</td>\n",
       "      <td>@theblaze @realDonaldTrump https://t.co/n050DB...</td>\n",
       "      <td>{'id': 366636488}</td>\n",
       "    </tr>\n",
       "    <tr>\n",
       "      <td>3</td>\n",
       "      <td>5d7e1415af475bc1f98581b0</td>\n",
       "      <td>@HillaryClinton he will do in one year all the...</td>\n",
       "      <td>{'id': 44032624}</td>\n",
       "    </tr>\n",
       "    <tr>\n",
       "      <td>4</td>\n",
       "      <td>5d7e1415af475bc1f98581b1</td>\n",
       "      <td>#CNN #newday clear #Trump deliberately throwin...</td>\n",
       "      <td>{'id': 769208504}</td>\n",
       "    </tr>\n",
       "    <tr>\n",
       "      <td>...</td>\n",
       "      <td>...</td>\n",
       "      <td>...</td>\n",
       "      <td>...</td>\n",
       "    </tr>\n",
       "    <tr>\n",
       "      <td>657302</td>\n",
       "      <td>5d7e212caf475bc1f98f8943</td>\n",
       "      <td>TRUMP U, TAXES ,WEIRD MEDICAL REPORT WITH A WH...</td>\n",
       "      <td>{'id': 569487350}</td>\n",
       "    </tr>\n",
       "    <tr>\n",
       "      <td>657303</td>\n",
       "      <td>5d7e212caf475bc1f98f8944</td>\n",
       "      <td>@CarolCNN if MSM were honest watch any utube v...</td>\n",
       "      <td>{'id': 716017946166857728}</td>\n",
       "    </tr>\n",
       "    <tr>\n",
       "      <td>657304</td>\n",
       "      <td>5d7e212caf475bc1f98f8945</td>\n",
       "      <td>#EEUU\\nNeumonía obliga a @HillaryClinton a can...</td>\n",
       "      <td>{'id': 44489439}</td>\n",
       "    </tr>\n",
       "    <tr>\n",
       "      <td>657305</td>\n",
       "      <td>5d7e212caf475bc1f98f8946</td>\n",
       "      <td>It's interesting that Hillary Clinton's crowds...</td>\n",
       "      <td>{'id': 3241116564}</td>\n",
       "    </tr>\n",
       "    <tr>\n",
       "      <td>657306</td>\n",
       "      <td>5d7e212caf475bc1f98f8947</td>\n",
       "      <td>@TeamTrump @KellyannePolls @realDonaldTrump @f...</td>\n",
       "      <td>{'id': 142113417}</td>\n",
       "    </tr>\n",
       "  </tbody>\n",
       "</table>\n",
       "<p>657307 rows × 3 columns</p>\n",
       "</div>"
      ],
      "text/plain": [
       "                             _id  \\\n",
       "0       5d7e1415af475bc1f98581ad   \n",
       "1       5d7e1415af475bc1f98581ae   \n",
       "2       5d7e1415af475bc1f98581af   \n",
       "3       5d7e1415af475bc1f98581b0   \n",
       "4       5d7e1415af475bc1f98581b1   \n",
       "...                          ...   \n",
       "657302  5d7e212caf475bc1f98f8943   \n",
       "657303  5d7e212caf475bc1f98f8944   \n",
       "657304  5d7e212caf475bc1f98f8945   \n",
       "657305  5d7e212caf475bc1f98f8946   \n",
       "657306  5d7e212caf475bc1f98f8947   \n",
       "\n",
       "                                                     text  \\\n",
       "0       @theblaze @realDonaldTrump https://t.co/TY9DlZ...   \n",
       "1       @BarackObama \\n@FBI\\n@LORETTALYNCH \\nALL IN CO...   \n",
       "2       @theblaze @realDonaldTrump https://t.co/n050DB...   \n",
       "3       @HillaryClinton he will do in one year all the...   \n",
       "4       #CNN #newday clear #Trump deliberately throwin...   \n",
       "...                                                   ...   \n",
       "657302  TRUMP U, TAXES ,WEIRD MEDICAL REPORT WITH A WH...   \n",
       "657303  @CarolCNN if MSM were honest watch any utube v...   \n",
       "657304  #EEUU\\nNeumonía obliga a @HillaryClinton a can...   \n",
       "657305  It's interesting that Hillary Clinton's crowds...   \n",
       "657306  @TeamTrump @KellyannePolls @realDonaldTrump @f...   \n",
       "\n",
       "                              user  \n",
       "0                {'id': 366636488}  \n",
       "1                 {'id': 82496193}  \n",
       "2                {'id': 366636488}  \n",
       "3                 {'id': 44032624}  \n",
       "4                {'id': 769208504}  \n",
       "...                            ...  \n",
       "657302           {'id': 569487350}  \n",
       "657303  {'id': 716017946166857728}  \n",
       "657304            {'id': 44489439}  \n",
       "657305          {'id': 3241116564}  \n",
       "657306           {'id': 142113417}  \n",
       "\n",
       "[657307 rows x 3 columns]"
      ]
     },
     "execution_count": 3,
     "metadata": {},
     "output_type": "execute_result"
    }
   ],
   "source": [
    "messages = collection.find(projection=[\"user.id\", \"text\"])\n",
    "df = pd.DataFrame(messages)\n",
    "df"
   ]
  },
  {
   "cell_type": "code",
   "execution_count": 7,
   "metadata": {},
   "outputs": [],
   "source": [
    "df['user'] = df['user'].apply(lambda x: x['id'])"
   ]
  },
  {
   "cell_type": "code",
   "execution_count": 8,
   "metadata": {},
   "outputs": [
    {
     "data": {
      "text/html": [
       "<div>\n",
       "<style scoped>\n",
       "    .dataframe tbody tr th:only-of-type {\n",
       "        vertical-align: middle;\n",
       "    }\n",
       "\n",
       "    .dataframe tbody tr th {\n",
       "        vertical-align: top;\n",
       "    }\n",
       "\n",
       "    .dataframe thead th {\n",
       "        text-align: right;\n",
       "    }\n",
       "</style>\n",
       "<table border=\"1\" class=\"dataframe\">\n",
       "  <thead>\n",
       "    <tr style=\"text-align: right;\">\n",
       "      <th></th>\n",
       "      <th>_id</th>\n",
       "      <th>text</th>\n",
       "      <th>user</th>\n",
       "    </tr>\n",
       "  </thead>\n",
       "  <tbody>\n",
       "    <tr>\n",
       "      <td>0</td>\n",
       "      <td>5d7e1415af475bc1f98581ad</td>\n",
       "      <td>@theblaze @realDonaldTrump https://t.co/TY9DlZ...</td>\n",
       "      <td>366636488</td>\n",
       "    </tr>\n",
       "    <tr>\n",
       "      <td>1</td>\n",
       "      <td>5d7e1415af475bc1f98581ae</td>\n",
       "      <td>@BarackObama \\n@FBI\\n@LORETTALYNCH \\nALL IN CO...</td>\n",
       "      <td>82496193</td>\n",
       "    </tr>\n",
       "    <tr>\n",
       "      <td>2</td>\n",
       "      <td>5d7e1415af475bc1f98581af</td>\n",
       "      <td>@theblaze @realDonaldTrump https://t.co/n050DB...</td>\n",
       "      <td>366636488</td>\n",
       "    </tr>\n",
       "    <tr>\n",
       "      <td>3</td>\n",
       "      <td>5d7e1415af475bc1f98581b0</td>\n",
       "      <td>@HillaryClinton he will do in one year all the...</td>\n",
       "      <td>44032624</td>\n",
       "    </tr>\n",
       "    <tr>\n",
       "      <td>4</td>\n",
       "      <td>5d7e1415af475bc1f98581b1</td>\n",
       "      <td>#CNN #newday clear #Trump deliberately throwin...</td>\n",
       "      <td>769208504</td>\n",
       "    </tr>\n",
       "    <tr>\n",
       "      <td>...</td>\n",
       "      <td>...</td>\n",
       "      <td>...</td>\n",
       "      <td>...</td>\n",
       "    </tr>\n",
       "    <tr>\n",
       "      <td>657302</td>\n",
       "      <td>5d7e212caf475bc1f98f8943</td>\n",
       "      <td>TRUMP U, TAXES ,WEIRD MEDICAL REPORT WITH A WH...</td>\n",
       "      <td>569487350</td>\n",
       "    </tr>\n",
       "    <tr>\n",
       "      <td>657303</td>\n",
       "      <td>5d7e212caf475bc1f98f8944</td>\n",
       "      <td>@CarolCNN if MSM were honest watch any utube v...</td>\n",
       "      <td>716017946166857728</td>\n",
       "    </tr>\n",
       "    <tr>\n",
       "      <td>657304</td>\n",
       "      <td>5d7e212caf475bc1f98f8945</td>\n",
       "      <td>#EEUU\\nNeumonía obliga a @HillaryClinton a can...</td>\n",
       "      <td>44489439</td>\n",
       "    </tr>\n",
       "    <tr>\n",
       "      <td>657305</td>\n",
       "      <td>5d7e212caf475bc1f98f8946</td>\n",
       "      <td>It's interesting that Hillary Clinton's crowds...</td>\n",
       "      <td>3241116564</td>\n",
       "    </tr>\n",
       "    <tr>\n",
       "      <td>657306</td>\n",
       "      <td>5d7e212caf475bc1f98f8947</td>\n",
       "      <td>@TeamTrump @KellyannePolls @realDonaldTrump @f...</td>\n",
       "      <td>142113417</td>\n",
       "    </tr>\n",
       "  </tbody>\n",
       "</table>\n",
       "<p>657307 rows × 3 columns</p>\n",
       "</div>"
      ],
      "text/plain": [
       "                             _id  \\\n",
       "0       5d7e1415af475bc1f98581ad   \n",
       "1       5d7e1415af475bc1f98581ae   \n",
       "2       5d7e1415af475bc1f98581af   \n",
       "3       5d7e1415af475bc1f98581b0   \n",
       "4       5d7e1415af475bc1f98581b1   \n",
       "...                          ...   \n",
       "657302  5d7e212caf475bc1f98f8943   \n",
       "657303  5d7e212caf475bc1f98f8944   \n",
       "657304  5d7e212caf475bc1f98f8945   \n",
       "657305  5d7e212caf475bc1f98f8946   \n",
       "657306  5d7e212caf475bc1f98f8947   \n",
       "\n",
       "                                                     text                user  \n",
       "0       @theblaze @realDonaldTrump https://t.co/TY9DlZ...           366636488  \n",
       "1       @BarackObama \\n@FBI\\n@LORETTALYNCH \\nALL IN CO...            82496193  \n",
       "2       @theblaze @realDonaldTrump https://t.co/n050DB...           366636488  \n",
       "3       @HillaryClinton he will do in one year all the...            44032624  \n",
       "4       #CNN #newday clear #Trump deliberately throwin...           769208504  \n",
       "...                                                   ...                 ...  \n",
       "657302  TRUMP U, TAXES ,WEIRD MEDICAL REPORT WITH A WH...           569487350  \n",
       "657303  @CarolCNN if MSM were honest watch any utube v...  716017946166857728  \n",
       "657304  #EEUU\\nNeumonía obliga a @HillaryClinton a can...            44489439  \n",
       "657305  It's interesting that Hillary Clinton's crowds...          3241116564  \n",
       "657306  @TeamTrump @KellyannePolls @realDonaldTrump @f...           142113417  \n",
       "\n",
       "[657307 rows x 3 columns]"
      ]
     },
     "execution_count": 8,
     "metadata": {},
     "output_type": "execute_result"
    }
   ],
   "source": [
    "df"
   ]
  },
  {
   "cell_type": "code",
   "execution_count": 32,
   "metadata": {},
   "outputs": [],
   "source": [
    "per_user = df.groupby('user')['text'].apply(lambda x: \",\".join(x))"
   ]
  },
  {
   "cell_type": "code",
   "execution_count": 36,
   "metadata": {
    "scrolled": false
   },
   "outputs": [],
   "source": [
    "aggr = df.groupby('user')['text'].agg(list)"
   ]
  },
  {
   "cell_type": "code",
   "execution_count": 38,
   "metadata": {},
   "outputs": [
    {
     "data": {
      "text/plain": [
       "user\n",
       "418                   [@tristanwalker @realDonaldTrump I appreciate ...\n",
       "521                   [@realDonaldTrump where can I buy one of these...\n",
       "747                   [@cindylwarner1 in all fairness, we've always ...\n",
       "997                   [@BaldGuyGreeting @realDonaldTrump Gosh I thou...\n",
       "1135                  [Unless your friend is @realDonaldTrump, I hav...\n",
       "                                            ...                        \n",
       "774729803907813376    [@HillaryClinton I find it astonishing that yo...\n",
       "774740297775321088                                   [@realDonaldTrump]\n",
       "774767613494824960    [My first. Had to. All u whiny hypocrite p*ssi...\n",
       "775076225542942721                                   [@realDonaldTrump]\n",
       "775125155517308928    [@lazpujol @KamVTV @HillaryClinton here's one....\n",
       "Name: text, Length: 86421, dtype: object"
      ]
     },
     "execution_count": 38,
     "metadata": {},
     "output_type": "execute_result"
    }
   ],
   "source": [
    "aggr"
   ]
  },
  {
   "cell_type": "code",
   "execution_count": 39,
   "metadata": {},
   "outputs": [
    {
     "name": "stderr",
     "output_type": "stream",
     "text": [
      "/usr/local/lib/python3.7/site-packages/ipykernel_launcher.py:1: FutureWarning: The signature of `Series.to_csv` was aligned to that of `DataFrame.to_csv`, and argument 'header' will change its default value from False to True: please pass an explicit value to suppress this warning.\n",
      "  \"\"\"Entry point for launching an IPython kernel.\n"
     ]
    }
   ],
   "source": [
    "aggr.to_csv('../datasets/tweets_per_user.csv')"
   ]
  }
 ],
 "metadata": {
  "kernelspec": {
   "display_name": "Python 3",
   "language": "python",
   "name": "python3"
  },
  "language_info": {
   "codemirror_mode": {
    "name": "ipython",
    "version": 3
   },
   "file_extension": ".py",
   "mimetype": "text/x-python",
   "name": "python",
   "nbconvert_exporter": "python",
   "pygments_lexer": "ipython3",
   "version": "3.7.4"
  }
 },
 "nbformat": 4,
 "nbformat_minor": 2
}
